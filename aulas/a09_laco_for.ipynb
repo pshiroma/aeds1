{
 "cells": [
  {
   "cell_type": "markdown",
   "metadata": {},
   "source": [
    "[**&#10094; Previous**](a09_laco_do_while.ipynb) | [**Home**](a00_aeds1.ipynb) | [**Next &#10095;**](a09_break_continue.ipynb)"
   ]
  },
  {
   "cell_type": "code",
   "execution_count": 3,
   "metadata": {},
   "outputs": [],
   "source": [
    "#include <iostream>\n",
    "using namespace std;"
   ]
  },
  {
   "cell_type": "markdown",
   "metadata": {},
   "source": [
    "# Laço for\n",
    "\n",
    "O laço `for` é uma forma mais completa do laço `while`, permitindo configurar um comando que será executado antes do início do laço, e um comando que será executado após o bloco de comandos contido dentro do comando.\n",
    "Sua sintaxe é:\n",
    "\n",
    "```\n",
    "for (inicializacao; condicao; atualizacao)\n",
    "{\n",
    "    ... // comandos for\n",
    "}\n",
    "```\n",
    "\n",
    "e seu fluxograma é dado por:\n",
    "\n",
    "![laço for](figuras/tikz/fluxograma_for.png)\n",
    "\n",
    "O funcionamento do laço `for` é:\n",
    "\n",
    "* O comando de inicialização é executado;\n",
    "* A condição é testada, caso seja verdadeiro os comandos do laço for são executados, caso contrário ele sai do laço;\n",
    "* Após a execução do último comando dentro das chaves do `for`, o comando de atualização é executado;\n",
    "\n",
    "Dos 3 argumentos internos do laço for, apenas a condição é obrigatória, sendo que a inicialização e a atualização são opcionais.\n",
    "\n",
    "Observe que o comando `for` é equivalente a:\n",
    "\n",
    "```\n",
    "inicializacao;\n",
    "while ( condicao ) \n",
    "{\n",
    "    ... // comandos for\n",
    "    atualizacao;\n",
    "{\n",
    "```\n"
   ]
  },
  {
   "cell_type": "markdown",
   "metadata": {},
   "source": [
    "## Exemplo 1\n",
    "\n",
    "Escreva um programa que escreva 10 vezes na tela a mensagem: \"Olá mundo!\":\n",
    "\n",
    "![exemplo for](figuras/airplane.jpg)"
   ]
  },
  {
   "cell_type": "code",
   "execution_count": 5,
   "metadata": {},
   "outputs": [],
   "source": [
    "int contador;"
   ]
  },
  {
   "cell_type": "code",
   "execution_count": 8,
   "metadata": {},
   "outputs": [
    {
     "name": "stdout",
     "output_type": "stream",
     "text": [
      "1 Olá mundo!\n",
      "2 Olá mundo!\n",
      "3 Olá mundo!\n",
      "4 Olá mundo!\n",
      "5 Olá mundo!\n",
      "6 Olá mundo!\n",
      "7 Olá mundo!\n",
      "8 Olá mundo!\n",
      "9 Olá mundo!\n",
      "10 Olá mundo!\n"
     ]
    }
   ],
   "source": [
    "for (contador = 1; contador <= 10; contador++)\n",
    "    cout << contador << \" Olá mundo!\" << endl;"
   ]
  },
  {
   "cell_type": "markdown",
   "metadata": {},
   "source": [
    "Neste exemplo a variável contador é inicializado com valor 1.\n",
    "Em seguida, os comandos abaixo são executados, nesta sequência:\n",
    "\n",
    "* `cout << contador << \"Olá mundo!\" << endl;`  \n",
    "* `contador++;`\n",
    "\n",
    "até que a condição `contador <= 10` seja falsa."
   ]
  },
  {
   "cell_type": "markdown",
   "metadata": {},
   "source": [
    "## Exemplo 2\n",
    "\n",
    "O fatorial de um número é definido como sendo o produto de todos os números inteiros menores ou iguais a $n$.\n",
    "Ou seja:\n",
    "\n",
    "$n! = 1 \\cdot 2 \\cdot 3 \\cdot \\ldots  \\cdot n$.\n",
    "\n",
    "Ele possui diversas aplicações, como no cálculo no número de permutações e combinações, no teorema de Taylor, na probabilidade e em vários outros ramos.\n",
    "\n",
    "Vamos calcular o fatorial de um número."
   ]
  },
  {
   "cell_type": "code",
   "execution_count": 9,
   "metadata": {},
   "outputs": [],
   "source": [
    "int numero, fatorial;"
   ]
  },
  {
   "cell_type": "code",
   "execution_count": 17,
   "metadata": {},
   "outputs": [
    {
     "name": "stdout",
     "output_type": "stream",
     "text": [
      "Entre com um número positivo: 5\n",
      "Fatorial de 5 é 120"
     ]
    }
   ],
   "source": [
    "cout << \"Entre com um número positivo: \";\n",
    "cin >> numero;\n",
    "fatorial = 1;\n",
    "for (contador = 1; contador <= numero; contador++)\n",
    "    fatorial *= contador;\n",
    "cout << \"Fatorial de \" << numero << \" é \" << fatorial;"
   ]
  },
  {
   "cell_type": "markdown",
   "metadata": {},
   "source": [
    "Neste exemplo a variável contador é inicializado com valor 1.\n",
    "\n",
    "Dentro de cada iteração do laço `for` é calculado o produto de 1 até o valor armazenado em contador.\n",
    "\n",
    "O valor da variável fatorial é atualizado conforme tabela abaixo:\n",
    "\n",
    "|contador|fatorial|\n",
    "|--|--|\n",
    "|1|1x1|\n",
    "|2|1x1x2|\n",
    "|3|1x1x2x3|\n",
    "|4|1x1x2x3x4|\n",
    "|5|1x1x2x3x4x5|"
   ]
  },
  {
   "cell_type": "markdown",
   "metadata": {},
   "source": [
    "## Exemplo 3: limite\n",
    "\n",
    "Sabemos do cálculo que o limite é o valor que uma função tende quando seu argumento se aproxima de determinado valor.\n",
    "\n",
    "No caso mais simples, quando a função é **contínua**, o limite assume o próprio valor da função no valor desejado.\n",
    "\n",
    "Ou seja:\n",
    "\n",
    "$\\lim_\\limits{x \\rightarrow c} f(x) = f(c)$\n",
    "\n",
    "Por exemplo, para $f(x) = \\frac{x^2 - x - 6}{x + 2}$ temos que $\\lim_\\limits{x \\rightarrow 0} \\frac{x^2 - x -6}{x + 2} = -3$.\n",
    "\n",
    "Entretanto, quando existe uma descontinuidade, o método acima não funciona (faça o teste para $x = -2$ no exemplo acima).\n",
    "\n",
    "Entretanto, o limite é apenas a tendência da função a medida que seu argumento se aproxima de determinado valor sem, no entanto, ser necessário que ele **assuma** de fato o valor.\n",
    "\n",
    "Podemos facilmente verificar isto usando o código abaixo:"
   ]
  },
  {
   "cell_type": "code",
   "execution_count": 1,
   "metadata": {},
   "outputs": [],
   "source": [
    "float c = -2;"
   ]
  },
  {
   "cell_type": "code",
   "execution_count": 18,
   "metadata": {},
   "outputs": [
    {
     "name": "stdout",
     "output_type": "stream",
     "text": [
      "f(-1) = -4\n",
      "f(-1.5) = -4.5\n",
      "f(-1.75) = -4.75\n",
      "f(-1.875) = -4.875\n",
      "f(-1.9375) = -4.9375\n",
      "f(-1.96875) = -4.96875\n",
      "f(-1.98438) = -4.98438\n",
      "f(-1.99219) = -4.99219\n",
      "f(-1.99609) = -4.99609\n",
      "f(-1.99805) = -4.99805\n",
      "f(-1.99902) = -4.99902\n",
      "f(-1.99951) = -5\n",
      "f(-1.99976) = -5\n",
      "f(-1.99988) = -5\n",
      "f(-1.99994) = -5\n",
      "f(-1.99997) = -5\n",
      "f(-1.99998) = -5\n"
     ]
    }
   ],
   "source": [
    "// limite pela direita\n",
    "for (float delta = 1; delta > 1e-5; delta /= 2) {\n",
    "    float x = c + delta;\n",
    "    float fx = (x*x - x - 6)/(x + 2);\n",
    "    cout << \"f(\" << x << \") = \" << fx << endl;\n",
    "}"
   ]
  },
  {
   "cell_type": "code",
   "execution_count": 19,
   "metadata": {},
   "outputs": [
    {
     "name": "stdout",
     "output_type": "stream",
     "text": [
      "f(-3) = -6\n",
      "f(-2.5) = -5.5\n",
      "f(-2.25) = -5.25\n",
      "f(-2.125) = -5.125\n",
      "f(-2.0625) = -5.0625\n",
      "f(-2.03125) = -5.03125\n",
      "f(-2.01562) = -5.01562\n",
      "f(-2.00781) = -5.00781\n",
      "f(-2.00391) = -5.00391\n",
      "f(-2.00195) = -5.00195\n",
      "f(-2.00098) = -5.00098\n",
      "f(-2.00049) = -5\n",
      "f(-2.00024) = -5\n",
      "f(-2.00012) = -5\n",
      "f(-2.00006) = -5\n",
      "f(-2.00003) = -5\n",
      "f(-2.00002) = -5\n"
     ]
    }
   ],
   "source": [
    "// limite pela esquerda\n",
    "for (float delta = 1; delta > 1e-5; delta /= 2) {\n",
    "    float x = c - delta;\n",
    "    float fx = (x*x - x - 6)/(x + 2);\n",
    "    cout << \"f(\" << x << \") = \" << fx << endl;\n",
    "}"
   ]
  },
  {
   "cell_type": "markdown",
   "metadata": {},
   "source": [
    "## Exercício 1\n",
    "\n",
    "Crie um algoritmo utilizando laço `for` que imprima a tabuada de um número entre 1 e 10, a ser fornecido pelo usuário.\n",
    "\n",
    "A saída deve ser algo como:\n",
    "\n",
    "> 5 x 0 = 0 <br>\n",
    "> 5 x 1 = 5 <br>\n",
    "> 5 x 2 = 10 <br>\n",
    "> 5 x 3 = 15 <br>\n",
    "> 5 x 4 = 20 <br>\n",
    "> 5 x 5 = 25 <br>\n",
    "> 5 x 6 = 30 <br>\n",
    "> 5 x 7 = 35 <br>\n",
    "> 5 x 8 = 40 <br>\n",
    "> 5 x 9 = 45 <br>\n",
    "> 5 x 10 = 50"
   ]
  },
  {
   "cell_type": "code",
   "execution_count": null,
   "metadata": {},
   "outputs": [],
   "source": []
  },
  {
   "cell_type": "markdown",
   "metadata": {},
   "source": [
    "## Exercício 2\n",
    "\n",
    "Crie um algoritmo usando o laço `for` que sorteie 1.000 números inteiros aleatórios no intervalo de de 0 à 100.\n",
    "Utilize o comando `rand()%101` para gerar tais números.\n",
    "Em seguida, conte quantos números sorteados estão no intervalo de 20 à 30."
   ]
  },
  {
   "cell_type": "markdown",
   "metadata": {},
   "source": [
    "### Declaração de variáveis"
   ]
  },
  {
   "cell_type": "code",
   "execution_count": null,
   "metadata": {},
   "outputs": [],
   "source": []
  },
  {
   "cell_type": "markdown",
   "metadata": {},
   "source": [
    "### Corpo do algoritmo "
   ]
  },
  {
   "cell_type": "code",
   "execution_count": null,
   "metadata": {},
   "outputs": [],
   "source": []
  },
  {
   "cell_type": "markdown",
   "metadata": {},
   "source": []
  },
  {
   "cell_type": "code",
   "execution_count": null,
   "metadata": {},
   "outputs": [],
   "source": []
  },
  {
   "cell_type": "markdown",
   "metadata": {},
   "source": [
    "\n",
    "## Exercício\n",
    "\n",
    "Crie um algoritmo que determine o valor aproximado de:\n",
    "\n",
    "$\\lim_\\limits{x \\rightarrow -3} \\frac{x^2 - 9}{x + 3}$\n",
    "\n",
    "$\\lim_\\limits{x \\rightarrow 5} \\frac{\\sqrt{x + 11} - 4}{x - 5}$\n",
    "\n",
    "$\\lim_\\limits{\\theta \\rightarrow 0} \\frac{\\sin\\theta}{\\theta}$\n",
    "\n",
    "Fonte: [KELLEY](#calccdf)"
   ]
  },
  {
   "cell_type": "markdown",
   "metadata": {},
   "source": [
    "<a id=\"calccdf\">Kelley, W. M., O Guia Completo para Quem Não É C.D.F. - Cálculo. Rio de\n",
    "Janeiro: Alta Books, 2013</a>"
   ]
  },
  {
   "cell_type": "markdown",
   "metadata": {},
   "source": [
    "[**&#10094; Previous**](a09_laco_do_while.ipynb) | [**Home**](a00_aeds1.ipynb) | [**Next &#10095;**](a09_break_continue.ipynb)"
   ]
  }
 ],
 "metadata": {
  "kernelspec": {
   "display_name": "C++14",
   "language": "C++14",
   "name": "xcpp14"
  },
  "language_info": {
   "codemirror_mode": "text/x-c++src",
   "file_extension": ".cpp",
   "mimetype": "text/x-c++src",
   "name": "c++",
   "version": "14"
  }
 },
 "nbformat": 4,
 "nbformat_minor": 4
}
