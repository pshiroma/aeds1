{
 "cells": [
  {
   "cell_type": "markdown",
   "metadata": {},
   "source": [
    "[**&#10094; Previous**](a09_laco_do_while.ipynb) | [**Home**](a00_aeds1.ipynb) | [**Next &#10095;**](a09_break_continue.ipynb)"
   ]
  },
  {
   "cell_type": "code",
   "execution_count": 1,
   "metadata": {},
   "outputs": [],
   "source": [
    "#include <iostream>\n",
    "using namespace std;"
   ]
  },
  {
   "cell_type": "markdown",
   "metadata": {},
   "source": [
    "# Laço for\n",
    "\n",
    "O laço `for` é uma forma mais completa do laço `while`, permitindo configurar um comando que será executado antes do início do laço, e um comando que será executado após o bloco de comandos contido dentro do comando.\n",
    "Sua sintaxe é:\n",
    "\n",
    "```\n",
    "for (inicializacao; condicao; atualizacao)\n",
    "{\n",
    "    ... // comandos for\n",
    "}\n",
    "```\n",
    "\n",
    "e seu fluxograma é dado por:\n",
    "\n",
    "![laço for](figuras/tikz/fluxograma_for.png)\n",
    "\n",
    "O funcionamento do laço `for` é:\n",
    "\n",
    "* O comando de inicialização é executado;\n",
    "* A condição é testada, caso seja verdadeiro os comandos do laço for são executados, caso contrário ele sai do laço;\n",
    "* Após a execução do último comando dentro das chaves do `for`, o comando de atualização é executado;\n",
    "\n",
    "Dos 3 argumentos internos do laço for, apenas a condição é obrigatória, sendo que a inicialização e a atualização são opcionais.\n",
    "\n",
    "Observe que o comando `for` é equivalente a:\n",
    "\n",
    "```\n",
    "inicializacao;\n",
    "while ( condicao ) \n",
    "{\n",
    "    ... // comandos for\n",
    "    atualizacao;\n",
    "{\n",
    "```\n"
   ]
  },
  {
   "cell_type": "markdown",
   "metadata": {},
   "source": [
    "## Exemplo 1\n",
    "\n",
    "Escreva um programa que escreva 10 vezes na tela a mensagem: \"Olá mundo!\":\n",
    "\n",
    "![exemplo for](figuras/airplane.jpg)"
   ]
  },
  {
   "cell_type": "code",
   "execution_count": 5,
   "metadata": {},
   "outputs": [],
   "source": [
    "int contador;"
   ]
  },
  {
   "cell_type": "code",
   "execution_count": 8,
   "metadata": {},
   "outputs": [
    {
     "name": "stdout",
     "output_type": "stream",
     "text": [
      "1 Olá mundo!\n",
      "2 Olá mundo!\n",
      "3 Olá mundo!\n",
      "4 Olá mundo!\n",
      "5 Olá mundo!\n",
      "6 Olá mundo!\n",
      "7 Olá mundo!\n",
      "8 Olá mundo!\n",
      "9 Olá mundo!\n",
      "10 Olá mundo!\n"
     ]
    }
   ],
   "source": [
    "for (contador = 1; contador <= 10; contador++)\n",
    "    cout << contador << \" Olá mundo!\" << endl;"
   ]
  },
  {
   "cell_type": "markdown",
   "metadata": {},
   "source": [
    "Neste exemplo a variável contador é inicializado com valor 1.\n",
    "Em seguida, os comandos abaixo são executados, nesta sequência:\n",
    "\n",
    "* `cout << contador << \"Olá mundo!\" << endl;`  \n",
    "* `contador++;`\n",
    "\n",
    "até que a condição `contador <= 10` seja falsa."
   ]
  },
  {
   "cell_type": "markdown",
   "metadata": {},
   "source": [
    "## Exemplo 2\n",
    "\n",
    "O fatorial de um número é definido como sendo o produto de todos os números inteiros menores ou iguais a $n$.\n",
    "Ou seja:\n",
    "\n",
    "$n! = 1 \\cdot 2 \\cdot 3 \\cdot \\ldots  \\cdot n$.\n",
    "\n",
    "Ele possui diversas aplicações, como no cálculo no número de permutações e combinações, no teorema de Taylor, na probabilidade e em vários outros ramos.\n",
    "\n",
    "Vamos calcular o fatorial de um número."
   ]
  },
  {
   "cell_type": "code",
   "execution_count": 9,
   "metadata": {},
   "outputs": [],
   "source": [
    "int numero, fatorial;"
   ]
  },
  {
   "cell_type": "code",
   "execution_count": 17,
   "metadata": {},
   "outputs": [
    {
     "name": "stdout",
     "output_type": "stream",
     "text": [
      "Entre com um número positivo: 5\n",
      "Fatorial de 5 é 120"
     ]
    }
   ],
   "source": [
    "cout << \"Entre com um número positivo: \";\n",
    "cin >> numero;\n",
    "fatorial = 1;\n",
    "for (contador = 1; contador <= numero; contador++)\n",
    "    fatorial *= contador;\n",
    "cout << \"Fatorial de \" << numero << \" é \" << fatorial;"
   ]
  },
  {
   "cell_type": "markdown",
   "metadata": {},
   "source": [
    "Neste exemplo a variável contador é inicializado com valor 1.\n",
    "\n",
    "Dentro de cada iteração do laço `for` é calculado o produto de 1 até o valor armazenado em contador.\n",
    "\n",
    "O valor da variável fatorial é atualizado conforme tabela abaixo:\n",
    "\n",
    "|contador|fatorial|\n",
    "|--|--|\n",
    "|1|1x1|\n",
    "|2|1x1x2|\n",
    "|3|1x1x2x3|\n",
    "|4|1x1x2x3x4|\n",
    "|5|1x1x2x3x4x5|"
   ]
  },
  {
   "cell_type": "markdown",
   "metadata": {},
   "source": [
    "[**&#10094; Previous**](a09_laco_do_while.ipynb) | [**Home**](a00_aeds1.ipynb) | [**Next &#10095;**](a09_break_continue.ipynb)"
   ]
  }
 ],
 "metadata": {
  "kernelspec": {
   "display_name": "C++14",
   "language": "C++14",
   "name": "xcpp14"
  },
  "language_info": {
   "codemirror_mode": "text/x-c++src",
   "file_extension": ".cpp",
   "mimetype": "text/x-c++src",
   "name": "c++",
   "version": "14"
  }
 },
 "nbformat": 4,
 "nbformat_minor": 4
}
