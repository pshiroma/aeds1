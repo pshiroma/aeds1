{
 "cells": [
  {
   "cell_type": "markdown",
   "metadata": {},
   "source": [
    "[**&#10094; Previous**](a02_jupyter_introducao.ipynb) | [**Home**](a00_aeds1.ipynb) | [**Next &#10095;**](a03_variavel_cin.ipynb)"
   ]
  },
  {
   "cell_type": "markdown",
   "metadata": {},
   "source": [
    "# Hello world usando C++ em ambiente xeus-cling / jupyter\n",
    "\n",
    "\n",
    "A linguagem C++ apresentada neste tutorial é ligeiramente diferente daquele encontrada em outros compiladores como Codeblocks, Visual Studio ou GCC.\n",
    "\n",
    "A principal mudança consiste que o C++ implementando no xeus-cling é um **interpretador** e não um **compilador**.\n",
    "\n",
    "Em um **compilador** o código-fonte é processado e um arquivo executável é criado como resultado da compilação.\n",
    "Ou seja, um programa é gerado a partir do código-fonte.\n",
    "\n",
    "Em um **interpretador** o código-fonte é imediatamente processado pelo interpretador e sua execução ocorre dentro do interpretador, não sendo criado um arquivo executável.\n",
    "\n",
    "Outra característica é que o jupyter é um ambiente do tipo REPL (Read–eval–print loop) onde o usuário pode escrever uma ou mais linhas de comando, executá-las, verificar o resultado, e continuar escrevendo novas linhas de código.\n",
    "\n",
    "Ou seja, diferente de um compilador, onde é preciso escrever todo o código primeiro para depois testá-lo, em ambientes REPL é possível escrever incrementalmente, testando pequenos trechos de código, validando-os e só depois continuar escrevendo o restando do algoritmo.\n",
    "\n",
    "Chamamos de código fonte à tradução de um algoritmo para uma linguagem de programação.\n",
    "O algoritmo deve ser escrito de forma a obedecer as regras de sintaxe da linguagem onde esta sendo escrita.\n",
    "\n",
    "![](figuras/tirinha313_fonte.png)\n",
    "\n",
    "\n",
    "Vamos começar criando um programa que imprima o texto **\"Hello world!\"** na tela."
   ]
  },
  {
   "cell_type": "markdown",
   "metadata": {},
   "source": [
    "## Incluindo uma biblioteca\n",
    "\n",
    "Vamos incluir a biblioteca __iostream__ usando a diretiva `#include`.\n",
    "\n",
    "A sintaxe é:\n",
    "\n",
    "`#include <nome da biblioteca>`\n",
    "\n",
    "A biblioteca **iostream** nos permite utilizar a função `cout`, que imprime textos na tela do computador.\n",
    "\n",
    "Ou seja, todo programa onde voce utilizar a função `cout` deve incluir a diretiva `include <iostream>` no começo do código.\n",
    "\n",
    "Execute a célula abaixo para incluir a biblioteca iostream."
   ]
  },
  {
   "cell_type": "code",
   "execution_count": 1,
   "metadata": {},
   "outputs": [],
   "source": [
    "#include <iostream>\n",
    "using namespace std;"
   ]
  },
  {
   "cell_type": "markdown",
   "metadata": {},
   "source": [
    "Após a execuçao deve aparecer o texto <b>In [1]</b> do lado esquerdo."
   ]
  },
  {
   "cell_type": "markdown",
   "metadata": {},
   "source": [
    "## Imprimindo na tela\n",
    "\n",
    "Para imprimirmos algo na tela do computador em C++ utilizamos a função `cout`:"
   ]
  },
  {
   "cell_type": "code",
   "execution_count": 7,
   "metadata": {},
   "outputs": [
    {
     "name": "stdout",
     "output_type": "stream",
     "text": [
      "Hello world!\n"
     ]
    }
   ],
   "source": [
    "cout << \"Hello world!\" << endl;"
   ]
  },
  {
   "cell_type": "markdown",
   "metadata": {},
   "source": [
    "__cout__ é uma função da biblioteca __iostream__ que permite imprimir na tela do computador o valor de suas variáveis.\n",
    "\n",
    "Observe que textos na linguagem C são envolvidos por aspas duplas (\"). Também são chamados de __strings__."
   ]
  },
  {
   "cell_type": "markdown",
   "metadata": {},
   "source": [
    "<div class=\"alert alert-info\">Observe que diferente de um compilador C não é necessário termos uma função main()</div>"
   ]
  },
  {
   "cell_type": "markdown",
   "metadata": {},
   "source": [
    "## Exercício 1\n",
    "\n",
    "Modifique o texto acima para imprimir o texto \"Alô mundo!\".\n",
    "\n",
    "Execute novamente a célula acima. Observe que não é preciso incluir novamente a biblioteca *iostream*."
   ]
  },
  {
   "cell_type": "markdown",
   "metadata": {},
   "source": [
    "## Exercício 2\n",
    "\n",
    "Escreva na célula abaixo um código que escreva o poema abaixo:\n",
    "\n",
    "<blockquote>I don’t know what to do cute bear\n",
    "\n",
    "The way you look at me when fair\n",
    "    \n",
    "And I’m so in love with teddy\n",
    "    \n",
    "You’re just a part of already\n",
    "</blockquote>\n",
    "\n",
    "Autor: Malte Loller-Andersen e Björn Gambäck\n",
    "\n",
    "Fonte: http://computationalcreativity.net/iccc2018/sites/default/files/papers/ICCC_2018_paper_59.pdf"
   ]
  },
  {
   "cell_type": "code",
   "execution_count": null,
   "metadata": {},
   "outputs": [],
   "source": []
  },
  {
   "cell_type": "markdown",
   "metadata": {},
   "source": [
    "[**&#10094; Previous**](a02_jupyter_introducao.ipynb) | [**Home**](a00_aeds1.ipynb) | [**Next &#10095;**](a03_variavel_cin.ipynb)"
   ]
  }
 ],
 "metadata": {
  "kernelspec": {
   "display_name": "C++14",
   "language": "C++14",
   "name": "xcpp14"
  },
  "language_info": {
   "codemirror_mode": "text/x-c++src",
   "file_extension": ".cpp",
   "mimetype": "text/x-c++src",
   "name": "c++",
   "version": "14"
  }
 },
 "nbformat": 4,
 "nbformat_minor": 4
}
