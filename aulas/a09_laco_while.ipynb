{
 "cells": [
  {
   "cell_type": "markdown",
   "metadata": {},
   "source": [
    "# Laço de repetição while\n",
    "\n",
    "Laços são estruturas que permitem repetir um conjunto de instruções até que determinada condição seja atingida.\n",
    "A sintaxe do comando é:\n",
    "\n",
    "```\n",
    "while (condicao)\n",
    "{\n",
    "    ... // comandos\n",
    "}\n",
    "```\n",
    "\n",
    "Sua representação em forma de fluxograma é dada abaixo:\n",
    "\n",
    "![if](figuras/tikz/fluxograma_while.png)\n",
    "\n",
    "Enquanto o teste (ou condicao) for verdadeiro, o bloco de \"comandos while\" é executado.\n",
    "A condição é novamente testada e os comandos são executados até que a condição for falso.\n",
    "Neste momento o comando é finalizado e o fluxo continua normalmente.\n",
    "\n",
    "Caso você haja apenas 1 único comando, podemos omitir os parênteses:\n",
    "\n",
    "```\n",
    "while (condicao)\n",
    "    comando;\n",
    "```\n",
    "\n",
    "Um laço infinito é construído usando a sintaxe:\n",
    "\n",
    "```\n",
    "while (1)\n",
    "{\n",
    "    ... // comandos\n",
    "}\n",
    "```\n",
    "\n",
    "Note que, dependendo da condição, os comandos dentro do laço while podem ser executados nenhuma vez."
   ]
  }
 ],
 "metadata": {
  "kernelspec": {
   "display_name": "C++14",
   "language": "C++14",
   "name": "xcpp14"
  },
  "language_info": {
   "codemirror_mode": "text/x-c++src",
   "file_extension": ".cpp",
   "mimetype": "text/x-c++src",
   "name": "c++",
   "version": "14"
  }
 },
 "nbformat": 4,
 "nbformat_minor": 4
}
