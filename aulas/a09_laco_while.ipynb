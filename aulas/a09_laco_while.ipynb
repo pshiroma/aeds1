{
 "cells": [
  {
   "cell_type": "markdown",
   "metadata": {},
   "source": [
    "Sua representação em forma de fluxograma é dada abaixo:\n",
    "\n",
    "![if](figuras/tikz/fluxograma_while.png)\n",
    "\n",
    "Enquanto o teste for verdadeiro, o bloco de \"comandos while\" é executado.\n",
    "Assim que o teste for falso, o fluxo continua após \n"
   ]
  }
 ],
 "metadata": {
  "kernelspec": {
   "display_name": "C++14",
   "language": "C++14",
   "name": "xcpp14"
  },
  "language_info": {
   "codemirror_mode": "text/x-c++src",
   "file_extension": ".cpp",
   "mimetype": "text/x-c++src",
   "name": "c++",
   "version": "14"
  }
 },
 "nbformat": 4,
 "nbformat_minor": 4
}
