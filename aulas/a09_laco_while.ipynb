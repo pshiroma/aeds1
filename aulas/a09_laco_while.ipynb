{
 "cells": [
  {
   "cell_type": "markdown",
   "metadata": {},
   "source": [
    "[**&#10094; Previous**](a08_comando_condicional_if_aninhado.ipynb) | [**Home**](a00_aeds1.ipynb) | [**Next &#10095;**](a09_laco_do_while.ipynb)"
   ]
  },
  {
   "cell_type": "code",
   "execution_count": 1,
   "metadata": {},
   "outputs": [],
   "source": [
    "#include <iostream>\n",
    "using namespace std;"
   ]
  },
  {
   "cell_type": "markdown",
   "metadata": {},
   "source": [
    "# Laço de repetição while\n",
    "\n",
    "Laços são estruturas que permitem repetir um conjunto de instruções até que determinada condição seja atingida.\n",
    "A sintaxe do comando é:\n",
    "\n",
    "```\n",
    "while (condicao)\n",
    "{\n",
    "    ... // comandos\n",
    "}\n",
    "```\n",
    "\n",
    "Sua representação em forma de fluxograma é dada abaixo:\n",
    "\n",
    "![if](figuras/tikz/fluxograma_while.png)\n",
    "\n",
    "Enquanto o teste (ou condicao) for verdadeiro, o bloco de \"comandos while\" é executado.\n",
    "A condição é novamente testada e os comandos são executados até que a condição for falso.\n",
    "Neste momento o comando é finalizado e o fluxo continua normalmente.\n",
    "\n",
    "Caso você haja apenas 1 único comando, podemos omitir as chaves:\n",
    "\n",
    "```\n",
    "while (condicao)\n",
    "    comando;\n",
    "```\n",
    "\n",
    "Um laço infinito é construído usando a sintaxe:\n",
    "\n",
    "```\n",
    "while (1)\n",
    "{\n",
    "    ... // comandos\n",
    "}\n",
    "```\n",
    "\n",
    "Note que, dependendo da condição, os comandos dentro do laço while podem ser executados nenhuma vez."
   ]
  },
  {
   "cell_type": "markdown",
   "metadata": {},
   "source": [
    "## Exemplo 1\n",
    "\n",
    "Vamos escrever um código que leia os números digitados pelo usuário e some-os.\n",
    "Ele deve parar quando o usuário entrar com um número negativo."
   ]
  },
  {
   "cell_type": "markdown",
   "metadata": {},
   "source": [
    "## Declaração de variáveis"
   ]
  },
  {
   "cell_type": "code",
   "execution_count": null,
   "metadata": {},
   "outputs": [],
   "source": [
    "float somatorio, numero;"
   ]
  },
  {
   "cell_type": "markdown",
   "metadata": {},
   "source": [
    "## Corpo do algoritmo"
   ]
  },
  {
   "cell_type": "code",
   "execution_count": null,
   "metadata": {},
   "outputs": [],
   "source": [
    "somatorio = 0;\n",
    "cout << \"Digite um número: \";\n",
    "cin >> numero;\n",
    "while (numero >= 0)\n",
    "{\n",
    "    somatorio += numero;\n",
    "    cout << \"Digite um número: \";\n",
    "    cin >> numero;\n",
    "}\n",
    "cout << \"A soma dos números é \" << somatorio;\n"
   ]
  },
  {
   "cell_type": "markdown",
   "metadata": {},
   "source": [
    "## Exemplo 2\n",
    "\n",
    "Suponha que você queira fazer uma simulação de um investimento até ele atingir o montante de R$ 1.000.000,00.\n",
    "Faça uma simulação mostrando a evolução da aplicação com o tempo.\n",
    "\n",
    "Você deverá informar:\n",
    "\n",
    "* O capital inicial;\n",
    "* A taxa de juros;\n",
    "* O valor do aporte mensal;"
   ]
  },
  {
   "cell_type": "markdown",
   "metadata": {},
   "source": [
    "## Declaração de variáveis"
   ]
  },
  {
   "cell_type": "code",
   "execution_count": null,
   "metadata": {},
   "outputs": [],
   "source": [
    "float capital_inicial, taxa_juros, aporte_mensal, montante;"
   ]
  },
  {
   "cell_type": "code",
   "execution_count": null,
   "metadata": {},
   "outputs": [],
   "source": [
    "int mes;"
   ]
  },
  {
   "cell_type": "markdown",
   "metadata": {},
   "source": [
    "## Corpo do algoritmo"
   ]
  },
  {
   "cell_type": "code",
   "execution_count": null,
   "metadata": {},
   "outputs": [],
   "source": [
    "cout << \"Qual o capital inicial? \";\n",
    "cin >> capital_inicial;\n",
    "cout << \"Qual a taxa de juros? \";\n",
    "cin >> taxa_juros;\n",
    "cout << \"Qual o valor do aporte mensal? \";\n",
    "cin >> aporte_mensal;\n",
    "mes = 0;\n",
    "montante = capital_inicial;\n",
    "while (montante <= 1e6)\n",
    "{\n",
    "    montante += aporte_mensal + montante*taxa_juros/100;\n",
    "    mes++;\n",
    "    cout << mes << \" \" << montante << endl;\n",
    "}\n"
   ]
  },
  {
   "cell_type": "markdown",
   "metadata": {},
   "source": [
    "## Exercício 1\n",
    "\n",
    "Escreva um algoritmo que peça ao usuário entrar com um número no intervalo de 0 à 100.\n",
    "Caso ele entre com um número fora do intervalo peça para ele digitar novamente.\n",
    "\n",
    "Mostre o número fornecido."
   ]
  },
  {
   "cell_type": "markdown",
   "metadata": {},
   "source": [
    "## Declaração de variáveis"
   ]
  },
  {
   "cell_type": "code",
   "execution_count": null,
   "metadata": {},
   "outputs": [],
   "source": []
  },
  {
   "cell_type": "markdown",
   "metadata": {},
   "source": [
    "## Corpo do algoritmo"
   ]
  },
  {
   "cell_type": "code",
   "execution_count": null,
   "metadata": {},
   "outputs": [],
   "source": []
  },
  {
   "cell_type": "markdown",
   "metadata": {},
   "source": [
    "## Exercício 2\n",
    "\n",
    "Escreva um algoritmo que peça ao usuário entrar com uma senha numérica.\n",
    "Esta senha deve ser codificada previamente no código.\n",
    "Caso ele entre com a senha codificada ele deve terminar a execução, caso contrário, você deve pedir novamente a senha."
   ]
  },
  {
   "cell_type": "markdown",
   "metadata": {},
   "source": [
    "## Declaração de variáveis"
   ]
  },
  {
   "cell_type": "code",
   "execution_count": null,
   "metadata": {},
   "outputs": [],
   "source": []
  },
  {
   "cell_type": "markdown",
   "metadata": {},
   "source": [
    "## Corpo do algoritmo"
   ]
  },
  {
   "cell_type": "code",
   "execution_count": null,
   "metadata": {},
   "outputs": [],
   "source": []
  },
  {
   "cell_type": "markdown",
   "metadata": {},
   "source": [
    "## Exercício 3\n",
    "\n",
    "Escreva um algoritmo que leia a nota dos alunos. Assim que um valor negativo for inserido ele deve parar.\n",
    "Em seguida, calcule:\n",
    "\n",
    "* A média da turma;\n",
    "* O número de alunos que obtiveram nota maior ou igual a 60;\n",
    "* O número de alunos que obtiveram nota inferior a 60;\n",
    "* A maior nota obtida;\n",
    "* A menor nota obtida;"
   ]
  },
  {
   "cell_type": "markdown",
   "metadata": {},
   "source": [
    "## Declaração de variáveis"
   ]
  },
  {
   "cell_type": "code",
   "execution_count": null,
   "metadata": {},
   "outputs": [],
   "source": []
  },
  {
   "cell_type": "markdown",
   "metadata": {},
   "source": [
    "## Corpo do algoritmo"
   ]
  },
  {
   "cell_type": "code",
   "execution_count": null,
   "metadata": {},
   "outputs": [],
   "source": []
  },
  {
   "cell_type": "markdown",
   "metadata": {},
   "source": [
    "## Exercício 4\n",
    "\n",
    "Um projétil é lançado de uma altura de 10 metros a um ângulo de 60 graus e velocidade inicial de 50m/s.\n",
    "\n",
    "Sabendo que as equações que governam este movimento são:\n",
    "\n",
    "$\n",
    "x(t) = v_0 \\cos(\\theta_0) t\n",
    "$ e\n",
    "\n",
    "$\n",
    "y(t) = v_0 \\sin(\\theta_0) t - gt^2/2 + y_0\n",
    "$\n",
    "\n",
    "![https://interna.coceducacao.com.br/ebook/pages/2726.htm](figuras/projetil.gif)\n",
    "\n",
    "crie um algoritmo que determine:\n",
    "\n",
    "* o instante (com erro de 0,1s) em que o objeto atinge o chão (y <= 0)\n",
    "* a distância que o objeto irá alcançar quando ele atingir o chão."
   ]
  },
  {
   "cell_type": "markdown",
   "metadata": {},
   "source": [
    "## Declaração de variáveis"
   ]
  },
  {
   "cell_type": "code",
   "execution_count": null,
   "metadata": {},
   "outputs": [],
   "source": []
  },
  {
   "cell_type": "markdown",
   "metadata": {},
   "source": [
    "## Corpo do algoritmo"
   ]
  },
  {
   "cell_type": "code",
   "execution_count": null,
   "metadata": {},
   "outputs": [],
   "source": []
  },
  {
   "cell_type": "markdown",
   "metadata": {},
   "source": [
    "[**&#10094; Previous**](a08_comando_condicional_if_aninhado.ipynb) | [**Home**](a00_aeds1.ipynb) | [**Next &#10095;**](a09_laco_do_while.ipynb)"
   ]
  }
 ],
 "metadata": {
  "kernelspec": {
   "display_name": "C++14",
   "language": "C++14",
   "name": "xcpp14"
  },
  "language_info": {
   "codemirror_mode": "text/x-c++src",
   "file_extension": ".cpp",
   "mimetype": "text/x-c++src",
   "name": "c++",
   "version": "14"
  }
 },
 "nbformat": 4,
 "nbformat_minor": 4
}
