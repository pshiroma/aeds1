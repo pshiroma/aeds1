{
 "cells": [
  {
   "cell_type": "code",
   "execution_count": 1,
   "metadata": {},
   "outputs": [],
   "source": [
    "#include <iostream>\n",
    "using namespace std;"
   ]
  },
  {
   "cell_type": "markdown",
   "metadata": {},
   "source": [
    "# Comando condicional if else\n",
    "\n",
    "Vimos que a sintaxe do comando `if` é:\n",
    "\n",
    "```\n",
    "if (condicao)\n",
    "{\n",
    "    ... // comandos\n",
    "}\n",
    "```\n",
    "\n",
    "Mas também podemos especificar um bloco de comandos que é executado quando a condição for falsa, neste caso utilizamos o comando `else`, cuja sintaxe é:\n",
    "\n",
    "```\n",
    "if (condicao)\n",
    "{\n",
    "    ... // comandos\n",
    "}\n",
    "else\n",
    "{\n",
    "    ... // comandos\n",
    "}\n",
    "```"
   ]
  },
  {
   "cell_type": "markdown",
   "metadata": {},
   "source": [
    "## Forma simplificada\n",
    "\n",
    "Quando existir apenas 1 comando no bloco dentro do `if` ou do `else` é permitido suprimir as chaves:\n",
    "\n",
    "```\n",
    "if (condicao)\n",
    "    comando;\n",
    "else\n",
    "    comando;\n",
    "```"
   ]
  },
  {
   "cell_type": "markdown",
   "metadata": {},
   "source": [
    "## Exemplo 1\n",
    "\n",
    "Vamos determinar se um número é par ou ímpar"
   ]
  },
  {
   "cell_type": "markdown",
   "metadata": {},
   "source": [
    "## Declaração de varíaveis"
   ]
  },
  {
   "cell_type": "code",
   "execution_count": 3,
   "metadata": {},
   "outputs": [],
   "source": [
    "int numero;"
   ]
  },
  {
   "cell_type": "markdown",
   "metadata": {},
   "source": [
    "## Corpo do algoritmo"
   ]
  },
  {
   "cell_type": "code",
   "execution_count": 5,
   "metadata": {},
   "outputs": [
    {
     "name": "stdout",
     "output_type": "stream",
     "text": [
      "Digite um número: 31\n",
      "O número é ímpar"
     ]
    }
   ],
   "source": [
    "cout << \"Digite um número: \";\n",
    "cin >> numero;\n",
    "if (numero % 2 == 0)\n",
    "    cout << \"O número é par\";\n",
    "else\n",
    "    cout << \"O número é ímpar\""
   ]
  },
  {
   "cell_type": "markdown",
   "metadata": {},
   "source": [
    "<div class=\"alert alert-info\">Observe que o operador resto (%) é executado antes do operador igual (==)</div>"
   ]
  },
  {
   "cell_type": "markdown",
   "metadata": {},
   "source": [
    "## Exemplo 2\n",
    "\n",
    "Suponha que um carro esteja movendo-se a uma velocidade de 80 km/h (22.2m/s).\n",
    "O motorista percebe um obstáculo na pista a uma distância de 30m.\n",
    "Ele começa imediatamente a frear, com uma aceleração de -5m/s.\n",
    "\n",
    "Crie um algoritmo que determine se ele irá conseguir parar a tempo.\n",
    "\n",
    "A equação de Torricelli nos diz que em um movimento uniformemente variado, temos a relação:\n",
    "\n",
    "$ v^2 = v_0^2 +2\\alpha \\Delta s\n",
    "$\n",
    "\n",
    "onde $v$ é a velocidade atual, $v_{0}$ é a velocidade inicial, $a$ é a aceleração e $\\Delta s$ é a variação de posição durante o movimento.\n",
    "Nessa fórmula, a velocidade escalar varia em função do espaço; $v_{0}$ é a velocidade inicial, e $\\alpha$ é a aceleração escalar do movimento, podendo ser positiva ou negativa de acordo com as convenções adotadas."
   ]
  },
  {
   "cell_type": "markdown",
   "metadata": {},
   "source": [
    "## Declaração de varíaveis"
   ]
  },
  {
   "cell_type": "code",
   "execution_count": 6,
   "metadata": {},
   "outputs": [],
   "source": [
    "float v0, alpha, deltas;"
   ]
  },
  {
   "cell_type": "markdown",
   "metadata": {},
   "source": [
    "## Corpo do algoritmo\n",
    "\n",
    "Neste caso, estamos interessados em saber o valor de $\\Delta s$.\n",
    "Rearranjando a equação de Torricelli temos:\n",
    "\n",
    "$\\Delta s = \\frac{v^2 - v_0^2}{2\\alpha}$.\n",
    "\n",
    "Como queremos saber o valor de $\\Delta s$ até o carro parar, temos $v = 0$, o que nos leva a:\n",
    "\n",
    "$\\Delta s = \\frac{-v_0^2}{2\\alpha}$.\n"
   ]
  },
  {
   "cell_type": "code",
   "execution_count": 13,
   "metadata": {},
   "outputs": [
    {
     "name": "stdout",
     "output_type": "stream",
     "text": [
      "49.284\n",
      "Perigo! Você irá bater!"
     ]
    }
   ],
   "source": [
    "v0 = 22.2;\n",
    "alpha = -5;\n",
    "deltas = -v0*v0/(2*alpha);\n",
    "if (deltas > 30)\n",
    "    cout << \"Perigo! Você irá bater!\";\n",
    "else\n",
    "    cout << \"Tudo bem\";"
   ]
  },
  {
   "cell_type": "markdown",
   "metadata": {},
   "source": [
    "## Exercício\n",
    "\n",
    "Os times A e B estão participando de uma gincana.\n",
    "A gincana é dividida em 3 competições, e o peso delas na pontuação total é de 0.2, 0.3 e 0.5 respectivamente.\n",
    "\n",
    "Crie um programa que leia a pontuação obtida em cada competição pelos times A e B e determine qual time foi o campeão."
   ]
  },
  {
   "cell_type": "markdown",
   "metadata": {},
   "source": [
    "## Declaração de varíaveis"
   ]
  },
  {
   "cell_type": "code",
   "execution_count": null,
   "metadata": {},
   "outputs": [],
   "source": []
  },
  {
   "cell_type": "markdown",
   "metadata": {},
   "source": [
    "## Corpo do algoritmo"
   ]
  },
  {
   "cell_type": "code",
   "execution_count": null,
   "metadata": {},
   "outputs": [],
   "source": []
  }
 ],
 "metadata": {
  "kernelspec": {
   "display_name": "C++14",
   "language": "C++14",
   "name": "xcpp14"
  },
  "language_info": {
   "codemirror_mode": "text/x-c++src",
   "file_extension": ".cpp",
   "mimetype": "text/x-c++src",
   "name": "c++",
   "version": "14"
  }
 },
 "nbformat": 4,
 "nbformat_minor": 4
}
