{
 "cells": [
  {
   "cell_type": "markdown",
   "metadata": {},
   "source": [
    "[**&#10094; Previous**](a08_comando_condicional_if.ipynb) | [**Home**](a00_aeds1.ipynb) | [**Next &#10095;**](a08_comando_condicional_if_aninhado.ipynb)"
   ]
  },
  {
   "cell_type": "code",
   "execution_count": 1,
   "metadata": {},
   "outputs": [],
   "source": [
    "// Execute esta célula assim que iniciar o notebook\n",
    "#include <iostream>\n",
    "#include <random>\n",
    "using namespace std;"
   ]
  },
  {
   "cell_type": "markdown",
   "metadata": {},
   "source": [
    "# Comando condicional if else\n",
    "\n",
    "Vimos que a sintaxe do comando `if` é:\n",
    "\n",
    "```\n",
    "if (condicao)\n",
    "{\n",
    "    ... // comandos\n",
    "}\n",
    "```\n",
    "\n",
    "Mas também podemos especificar um bloco de comandos que é executado quando a condição for falsa, neste caso utilizamos o comando `else`, cuja sintaxe é:\n",
    "\n",
    "```\n",
    "if (condicao)\n",
    "{\n",
    "    ... // comandos\n",
    "}\n",
    "else\n",
    "{\n",
    "    ... // comandos\n",
    "}\n",
    "```\n",
    "\n",
    "Sua representação em forma de fluxograma é dada abaixo:\n",
    "\n",
    "![if](figuras/tikz/fluxograma_if_else.png)\n",
    "\n",
    "Caso o teste (condição) seja verdadeiro, o bloco de \"comandos if\" é executado, caso seja falso, o bloco de \"comandos else\" é executado."
   ]
  },
  {
   "cell_type": "markdown",
   "metadata": {},
   "source": [
    "## Forma simplificada\n",
    "\n",
    "Quando existir apenas 1 comando no bloco dentro do `if` ou do `else` é permitido suprimir as chaves:\n",
    "\n",
    "```\n",
    "if (condicao)\n",
    "    comando;\n",
    "else\n",
    "    comando;\n",
    "```"
   ]
  },
  {
   "cell_type": "markdown",
   "metadata": {},
   "source": [
    "## Exemplo 1\n",
    "\n",
    "Vamos determinar se um número é par ou ímpar"
   ]
  },
  {
   "cell_type": "markdown",
   "metadata": {},
   "source": [
    "## Declaração de varíaveis"
   ]
  },
  {
   "cell_type": "code",
   "execution_count": null,
   "metadata": {},
   "outputs": [],
   "source": [
    "int numero;"
   ]
  },
  {
   "cell_type": "markdown",
   "metadata": {},
   "source": [
    "## Corpo do algoritmo"
   ]
  },
  {
   "cell_type": "code",
   "execution_count": null,
   "metadata": {},
   "outputs": [],
   "source": [
    "cout << \"Digite um número: \";\n",
    "cin >> numero;\n",
    "if (numero % 2 == 0)\n",
    "    cout << \"O número é par\";\n",
    "else\n",
    "    cout << \"O número é ímpar\""
   ]
  },
  {
   "cell_type": "markdown",
   "metadata": {},
   "source": [
    "<div class=\"alert alert-info\">Observe que o operador resto (%) é executado antes do operador igual (==)</div>"
   ]
  },
  {
   "cell_type": "markdown",
   "metadata": {},
   "source": [
    "## Exemplo 2\n",
    "\n",
    "Suponha que um carro esteja movendo-se a uma velocidade de 80 km/h (22.2m/s).\n",
    "O motorista percebe um obstáculo na pista a uma distância de 30m.\n",
    "Ele começa imediatamente a frear, com uma aceleração de -5m/s.\n",
    "\n",
    "Crie um algoritmo que determine se ele irá conseguir parar a tempo.\n",
    "\n",
    "A equação de Torricelli nos diz que em um movimento uniformemente variado, temos a relação:\n",
    "\n",
    "$ v^2 = v_0^2 +2\\alpha \\Delta s\n",
    "$\n",
    "\n",
    "onde $v$ é a velocidade atual, $v_{0}$ é a velocidade inicial, $a$ é a aceleração e $\\Delta s$ é a variação de posição durante o movimento.\n",
    "Nessa fórmula, a velocidade escalar varia em função do espaço; $v_{0}$ é a velocidade inicial, e $\\alpha$ é a aceleração escalar do movimento, podendo ser positiva ou negativa de acordo com as convenções adotadas."
   ]
  },
  {
   "cell_type": "markdown",
   "metadata": {},
   "source": [
    "## Declaração de varíaveis"
   ]
  },
  {
   "cell_type": "code",
   "execution_count": null,
   "metadata": {},
   "outputs": [],
   "source": [
    "float v0, alpha, deltas;"
   ]
  },
  {
   "cell_type": "markdown",
   "metadata": {},
   "source": [
    "## Corpo do algoritmo\n",
    "\n",
    "Neste caso, estamos interessados em saber o valor de $\\Delta s$.\n",
    "Rearranjando a equação de Torricelli temos:\n",
    "\n",
    "$\\Delta s = \\frac{v^2 - v_0^2}{2\\alpha}$.\n",
    "\n",
    "Como queremos saber o valor de $\\Delta s$ até o carro parar, temos $v = 0$, o que nos leva a:\n",
    "\n",
    "$\\Delta s = \\frac{-v_0^2}{2\\alpha}$.\n"
   ]
  },
  {
   "cell_type": "code",
   "execution_count": null,
   "metadata": {},
   "outputs": [],
   "source": [
    "v0 = 22.2;\n",
    "alpha = -5;\n",
    "deltas = -v0*v0/(2*alpha);\n",
    "if (deltas > 30)\n",
    "    cout << \"Perigo! Você irá bater!\";\n",
    "else\n",
    "    cout << \"Tudo bem\";"
   ]
  },
  {
   "cell_type": "markdown",
   "metadata": {},
   "source": [
    "## Exercício 1\n",
    "\n",
    "Complete os comandos `if` abaixo para que ele realize o que se pede:"
   ]
  },
  {
   "cell_type": "code",
   "execution_count": 3,
   "metadata": {},
   "outputs": [],
   "source": [
    "int a,b;"
   ]
  },
  {
   "cell_type": "code",
   "execution_count": 44,
   "metadata": {},
   "outputs": [
    {
     "name": "stdout",
     "output_type": "stream",
     "text": [
      "0 é menor que 5 \n"
     ]
    }
   ],
   "source": [
    "// a função rand() gera um número inteiro aleatório. \n",
    "// usando o resto da divisão por 10, obtemos um número aleatório no intervalo 0 até 9\n",
    "a = rand() % 10; \n",
    "\n",
    "if (  )\n",
    "    cout << a << \" é maior ou igual que 5\" << endl;\n",
    "else\n",
    "    cout << a << \" é menor que 5 \" << endl;"
   ]
  },
  {
   "cell_type": "code",
   "execution_count": 28,
   "metadata": {},
   "outputs": [
    {
     "name": "stdout",
     "output_type": "stream",
     "text": [
      "9 é maior número que 9\n"
     ]
    }
   ],
   "source": [
    "a = rand() % 10; // a função rand() gera um número inteiro aleatório. \n",
    "b = rand() % 10; // usando o resto da divisão por 10, obtemos um número aleatório no intervalo 0 até 9\n",
    "\n",
    "if (  )\n",
    "    cout << a << \" é maior ou igual que \" << b << endl;\n",
    "else\n",
    "    cout << b << \" é maior número que \" << a << endl;\n",
    "    "
   ]
  },
  {
   "cell_type": "code",
   "execution_count": 56,
   "metadata": {},
   "outputs": [
    {
     "name": "stdout",
     "output_type": "stream",
     "text": [
      "9 é ímpar\n"
     ]
    }
   ],
   "source": [
    "a = rand() % 10; \n",
    "\n",
    "if (  )\n",
    "    cout << a << \" é par\" << endl;\n",
    "else\n",
    "    cout << a << \" é ímpar\" << endl;"
   ]
  },
  {
   "cell_type": "code",
   "execution_count": null,
   "metadata": {},
   "outputs": [],
   "source": [
    "a = rand() % 10; \n",
    "\n",
    "if (  )\n",
    "    cout << a << \" está entre 3 e 5\" << endl;\n",
    "else\n",
    "    cout << a << \" esta fora do intervalo\" << endl;"
   ]
  },
  {
   "cell_type": "markdown",
   "metadata": {},
   "source": [
    "## Exercício 2\n",
    "\n",
    "Os times A e B estão participando de uma gincana.\n",
    "A gincana é dividida em 3 competições, e o peso delas na pontuação total é de 0.2, 0.3 e 0.5 respectivamente.\n",
    "\n",
    "Crie um programa que leia a pontuação obtida em cada competição pelos times A e B e determine qual time foi o campeão."
   ]
  },
  {
   "cell_type": "markdown",
   "metadata": {},
   "source": [
    "### Declaração de varíaveis"
   ]
  },
  {
   "cell_type": "code",
   "execution_count": null,
   "metadata": {},
   "outputs": [],
   "source": []
  },
  {
   "cell_type": "markdown",
   "metadata": {},
   "source": [
    "### Corpo do algoritmo"
   ]
  },
  {
   "cell_type": "code",
   "execution_count": null,
   "metadata": {},
   "outputs": [],
   "source": []
  },
  {
   "cell_type": "markdown",
   "metadata": {},
   "source": [
    "## Exercício 3\n",
    "\n",
    "O momento fletor é um esforço ao qual tende a \"curvar\" uma viga, por exemplo, provocando tensões normais de tração e compressão na estrutura.\n",
    "Juntamente com o esforço cortante, eles representam duas grandezas essenciais no dimensionamento de estruturas.\n",
    "\n",
    "Em uma viga biapoiada de comprimento $l$, com uma carga uniformente distribuída de valor $q$, o momento fletor máximo é dado por:\n",
    "\n",
    "$M = q \\cdot l^2/8$\n",
    "\n",
    "No caso de uma viga em balanço, o valor máximo é dado por:\n",
    "\n",
    "$M = q \\cdot l^2/2$.\n",
    "\n",
    "Escreva um algoritmo que leia o comprimento $l$ de uma viga, a carga $q$ e o tipo de apoio.\n",
    "Use o caracter 'a' para viga biapoiada e 'b' para viga em balanço.\n",
    "Em seguida, ela deve calcular o momento fletor máximo.\n",
    "\n",
    "http://www.fec.unicamp.br/~almeida/au405/Lajes/resumo_concreto_usp.pdf"
   ]
  },
  {
   "cell_type": "markdown",
   "metadata": {},
   "source": [
    "### Declaração de varíaveis"
   ]
  },
  {
   "cell_type": "code",
   "execution_count": null,
   "metadata": {},
   "outputs": [],
   "source": []
  },
  {
   "cell_type": "markdown",
   "metadata": {},
   "source": [
    "### Corpo do algoritmo"
   ]
  },
  {
   "cell_type": "code",
   "execution_count": null,
   "metadata": {},
   "outputs": [],
   "source": []
  },
  {
   "cell_type": "markdown",
   "metadata": {},
   "source": [
    "[**&#10094; Previous**](a08_comando_condicional_if.ipynb) | [**Home**](a00_aeds1.ipynb) | [**Next &#10095;**](a08_comando_condicional_if_aninhado.ipynb)"
   ]
  }
 ],
 "metadata": {
  "kernelspec": {
   "display_name": "C++14",
   "language": "C++14",
   "name": "xcpp14"
  },
  "language_info": {
   "codemirror_mode": "text/x-c++src",
   "file_extension": ".cpp",
   "mimetype": "text/x-c++src",
   "name": "c++",
   "version": "14"
  }
 },
 "nbformat": 4,
 "nbformat_minor": 4
}
