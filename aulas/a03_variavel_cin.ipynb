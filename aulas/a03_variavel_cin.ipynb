{
 "cells": [
  {
   "cell_type": "markdown",
   "metadata": {},
   "source": [
    "# Programa: Eco\n",
    "\n",
    "Vamos escrever um código que leia um número digitado pelo teclado e imprima seu valor de volta na tela.\n",
    "\n",
    "O código será dividido em 3 partes:\n",
    "\n",
    "1. [Inclusão das bibliotecas](#parte1);\n",
    "2. [Declaração das variáveis](#parte2);\n",
    "3. [Corpo principal do código](#parte3);"
   ]
  },
  {
   "cell_type": "markdown",
   "metadata": {},
   "source": [
    "<a id='parte1'></a>\n",
    "## Parte 1: Incluindo a biblioteca iostream\n",
    "\n",
    "Para ler do teclado vamos precisar utilizar a função `cin`.\n",
    "Ela pode ser encontrada dentro da biblioteca `iostream`.\n",
    "\n",
    "Vamos incluir a biblioteca __iostream__ usando a diretiva `#include`:"
   ]
  },
  {
   "cell_type": "code",
   "execution_count": null,
   "metadata": {},
   "outputs": [],
   "source": [
    "#include <iostream>\n",
    "using namespace std;"
   ]
  },
  {
   "cell_type": "markdown",
   "metadata": {},
   "source": [
    "## Variáveis\n",
    "\n",
    "Para escrevermos este código necessitamos **armazenar** o valor digitado pelo usuário temporariamente em uma **variável**.\n",
    "\n",
    "Uma variável é um espaço na memória do computador utilizado pelo programa para guardar dados que serão usados futuramente.\n",
    "\n",
    "Para utilizar uma variável em C devemos seguir dois passos:\n",
    "\n",
    "1. Declarar a variável, ou seja, devemos requisitar o espaço necessário para essa variável.\n",
    "Para definir uma variável precisamos escolher um **nome** e um **tipo de dados**. \n",
    "2. Após reservar um espaço na memória podemos atribuir dados à variável."
   ]
  },
  {
   "cell_type": "markdown",
   "metadata": {},
   "source": [
    "<a id='parte2'></a>\n",
    "## Parte 2: Declarando uma variável\n",
    "\n",
    "Vamos armazenar o número digitado pelo usuário em uma variável inteira e vamos denominá-la de `numero`."
   ]
  },
  {
   "cell_type": "code",
   "execution_count": null,
   "metadata": {},
   "outputs": [],
   "source": [
    "int numero;"
   ]
  },
  {
   "cell_type": "markdown",
   "metadata": {},
   "source": [
    "Quando declaramos uma variável, estamos criando um elemento que pode ser (re-)escrito ou lido ao longo do algoritmo.\n",
    "A declaração de variáveis obedece ao seguinte formato:\n",
    "\n",
    "`tipo identificador;`\n",
    "\n",
    "Neste exemplo usamos o tipo inteiro, chamado de `int`."
   ]
  },
  {
   "cell_type": "markdown",
   "metadata": {},
   "source": [
    "<a id='parte3'></a>\n",
    "## Parte 3: Corpo principal do código"
   ]
  },
  {
   "cell_type": "code",
   "execution_count": null,
   "metadata": {},
   "outputs": [],
   "source": [
    "cout << \"Digite um número: \";\n",
    "cin >> numero;\n",
    "cout << \"Voce digitou o número \" << numero;"
   ]
  },
  {
   "cell_type": "markdown",
   "metadata": {},
   "source": [
    "No corpo principal do código utilizamos a função `cin` para ler do teclado e armazenar o valor lido na variável `numero`.\n",
    "\n",
    "A função `cin` obedece à sintaxe:\n",
    "\n",
    "`cin >> variavel;`\n",
    "\n",
    "<div class=\"alert alert-info\">Observe que no jupyter não é necessário usar a função main().</div>"
   ]
  },
  {
   "cell_type": "markdown",
   "metadata": {},
   "source": [
    "### Ponto e vírgula\n",
    "\n",
    "Note que no exemplo acima, os comandos terminam sempre com o caracter ponto e vírgula __;__.\n",
    "\n",
    "O ponto e vírgula é reconhecido pelo C++ como finalizador da instrução.\n",
    "É importante observar que a utilização do ponto e vírgula é obrigatória na maioria dos compiladores C, logo, a sua omissão acarretará em erro de compilação.\n",
    "\n",
    "Embora o xeus-cling permita a omissão do ponto e vírgula em alguns casos, recomendamos sempre sua utilização, com o intuito de tornar o código-fonte mais portável.\n",
    "\n",
    "Detalhe: podemos colocar quantas instrução desejarmos numa mesma linha, desde que estas sejam separadas por um ponto-e-vírgula."
   ]
  },
  {
   "cell_type": "markdown",
   "metadata": {},
   "source": [
    "Também é possível manipular o valor armazenado na variável:"
   ]
  },
  {
   "cell_type": "code",
   "execution_count": null,
   "metadata": {},
   "outputs": [],
   "source": [
    "cout << \"O sucessor do seu número é \" << numero + 1 << endl;\n",
    "cout << \"O antecessor do seu número é \" << numero -1 << endl;"
   ]
  },
  {
   "cell_type": "markdown",
   "metadata": {},
   "source": [
    "Observe que é possível concatenar textos e valores de variáveis que serão impressos pelo comando `cout`.\n",
    "\n",
    "O termo `endl` é um manipulador definido na biblioteca `iostream` responsável por inserir uma nova linha e forçar um *flush* no comando `cout`."
   ]
  },
  {
   "cell_type": "markdown",
   "metadata": {},
   "source": [
    "## Exercício\n",
    "\n",
    "Declare uma variável chamada `idade` do tipo `int`:"
   ]
  },
  {
   "cell_type": "code",
   "execution_count": null,
   "metadata": {},
   "outputs": [],
   "source": []
  },
  {
   "cell_type": "markdown",
   "metadata": {},
   "source": [
    "Em seguida, peça ao usuário para entrar com a idade e imprima o valor lido:"
   ]
  },
  {
   "cell_type": "code",
   "execution_count": null,
   "metadata": {},
   "outputs": [],
   "source": []
  }
 ],
 "metadata": {
  "kernelspec": {
   "display_name": "C++14",
   "language": "C++14",
   "name": "xcpp14"
  },
  "language_info": {
   "codemirror_mode": "text/x-c++src",
   "file_extension": ".cpp",
   "mimetype": "text/x-c++src",
   "name": "c++",
   "version": "14"
  }
 },
 "nbformat": 4,
 "nbformat_minor": 4
}
