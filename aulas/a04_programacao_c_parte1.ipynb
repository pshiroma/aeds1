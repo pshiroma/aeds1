{
 "cells": [
  {
   "cell_type": "markdown",
   "metadata": {},
   "source": [
    "# Programando em C++\n",
    "\n",
    "Vamos criar um programa que leia um número do teclado e imprima seu quadrado."
   ]
  },
  {
   "cell_type": "markdown",
   "metadata": {},
   "source": [
    "## Bibliotecas\n",
    "\n",
    "Uma característica da linguagem C, presente em várias outras linguaguens, é a sua capacidade de expansão. \n",
    "Esta expansão de suas funcionalidades é feita através das bibliotecas.\n",
    "Uma grande vantagem de utilizar bibliotecas é que elas permitem qualquer empresa ou desenvolvedor em escrever uma biblioteca e disponibilizá-las para outras pessoas.\n",
    "Por exemplo temos bibliotecas que implementam redes neurais artificiais, realizam processamento de imagens e vídeos, geoprocessamento, cálculo de estruturas e diversos outras áreas para as quais a linguagem C originalmente não possuía qualquer suporte.\n",
    "\n",
    "O domínio no uso de bibliotecas é fundamental para qualquer pessoa que queira desenvolver programas, pois permite reaproveitar funções escritas por outras pessoas, sem a necessidade de reimplementá-las, tornando o processo de codificação muito mais rápido.\n",
    "\n",
    "Para importar uma biblioteca no seu código-fonte, é preciso:\n",
    "\n",
    "1) Realizar o download da biblioteca que se deseja utilizar e instalá-la em um diretório onde o C++ seja capaz de encontrar.\n",
    "A maioria das distribuições já possui várias bibliotecas previamente instaladas, não sendo necessário baixá-las.\n",
    "\n",
    "2) Incluir a biblioteca no seu código-fonte, através da diretiva:\n",
    "\n",
    "`#include <nome da biblioteca>`"
   ]
  },
  {
   "cell_type": "markdown",
   "metadata": {},
   "source": [
    "## Inclusão das bibliotecas\n",
    "\n",
    "Vamos incluir a biblioteca __iostream__, necessária para utilizar funções como __cout__ e __cin__.\n",
    "\n",
    "Execute a célula abaixo para incluir a biblioteca iostream:"
   ]
  },
  {
   "cell_type": "code",
   "execution_count": 1,
   "metadata": {},
   "outputs": [],
   "source": [
    "#include <iostream>\n",
    "using namespace std;"
   ]
  },
  {
   "cell_type": "markdown",
   "metadata": {},
   "source": [
    "## Declaração de variáveis"
   ]
  },
  {
   "cell_type": "markdown",
   "metadata": {},
   "source": [
    "Em seguida, vamos criar uma variável para armazenar um número inteiro:"
   ]
  },
  {
   "cell_type": "code",
   "execution_count": 2,
   "metadata": {},
   "outputs": [],
   "source": [
    "int numero;"
   ]
  },
  {
   "cell_type": "markdown",
   "metadata": {},
   "source": [
    "Quando declaramos uma variável, estamos criando um elemento que pode ser (re-)escrito ou lido ao longo do algoritmo.\n",
    "No lado esquerdo informamos o tipo da variável, que pode ser:\n",
    "\n",
    "* int: Números inteiros\n",
    "* char: Caracteres (letras e símbolos)\n",
    "* float: Números reais\n",
    "* double: Números reais, com precisão maior\n",
    "\n",
    "Após o tipo devemos informar o [nome da variável](#identificador), finalizando com o ponto e vírgula."
   ]
  },
  {
   "cell_type": "markdown",
   "metadata": {},
   "source": [
    "<a id=identificador></a>\n",
    "### Identificador de uma variável\n",
    "\n",
    "O nome de uma variável deve seguir algumas regras:\n",
    "\n",
    "* Deve iniciar por uma letra ou por um \"_\" (underscore);\n",
    "* A partir do segundo caracter pode conter letras, números e underscore;\n",
    "* C é uma linguagem case-sensitive, ou seja, faz diferença entre nomes com letras maiúsculas e nomes com letras minúsculas. Maria e maria são identificadores diferentes;\n",
    "* Não pode ser uma palavra reservada da linguagem (for, if, public, true, false, while, void, break, continue, do, else, etc). \n",
    "Consulte https://www.tutorialspoint.com/Reserved-keywords-in-Cplusplus para uma lista completa.\n",
    "\n",
    "Além disso, é interessante seguir algumas recomendações quando nomeamos uma variável:\n",
    "\n",
    "* Deve-se usar nomes significativos dentro do contexto do programa;\n",
    "* Use maiúsculas e minúsculas para separar palavras: \"PesoDoCarro\" ou o underscore: \"raio_do_pneu;\n",
    "* Evite nomes genéricos como \"a\", \"a1\", \"b\",\n"
   ]
  },
  {
   "cell_type": "markdown",
   "metadata": {},
   "source": [
    "## Corpo do algoritmo"
   ]
  },
  {
   "cell_type": "code",
   "execution_count": 4,
   "metadata": {},
   "outputs": [
    {
     "name": "stdout",
     "output_type": "stream",
     "text": [
      "Entre com um número: 12\n",
      "O quadrado do número é: 144\n"
     ]
    }
   ],
   "source": [
    "cout << \"Entre com um número: \";\n",
    "cin >> numero;\n",
    "cout << \"O quadrado do número é: \" << numero*numero << endl;"
   ]
  },
  {
   "cell_type": "markdown",
   "metadata": {},
   "source": [
    "# Exercício\n",
    "\n",
    "Escreva na célula abaixo um trecho de código que declare as seguintes variáveis:\n",
    "\n",
    "* idade_mae: do tipo inteiro\n",
    "* idade_filha: do tipo inteiro\n",
    "* idade_nascimento: do tipo inteiro"
   ]
  },
  {
   "cell_type": "code",
   "execution_count": null,
   "metadata": {},
   "outputs": [],
   "source": []
  },
  {
   "cell_type": "markdown",
   "metadata": {},
   "source": [
    "Escreva na célula abaixo, um trecho de código que leia do teclado as varíaveis `idade_mae` e `idade_filha`"
   ]
  },
  {
   "cell_type": "code",
   "execution_count": null,
   "metadata": {},
   "outputs": [],
   "source": []
  },
  {
   "cell_type": "markdown",
   "metadata": {},
   "source": [
    "Escreva na célula abaixo, um trecho de código que calcule a idade da mãe quando a filha nasceu, e armazene o valor na variável `idade_nascimento`."
   ]
  },
  {
   "cell_type": "code",
   "execution_count": null,
   "metadata": {},
   "outputs": [],
   "source": []
  },
  {
   "cell_type": "markdown",
   "metadata": {},
   "source": [
    "Escreva na célula abaixo, um trecho de código que imprima o texto \"A mãe tinha XX anos quando sua filha nasceu\", onde XX deve ser substituído pelo valor em `idade_nascimento`.\n",
    "\n",
    "Você pode usar um único comando `cout` ou vários comandos `cout`, separados por ponto e vírgula."
   ]
  },
  {
   "cell_type": "code",
   "execution_count": null,
   "metadata": {},
   "outputs": [],
   "source": []
  }
 ],
 "metadata": {
  "kernelspec": {
   "display_name": "C++14",
   "language": "C++14",
   "name": "xcpp14"
  },
  "language_info": {
   "codemirror_mode": "text/x-c++src",
   "file_extension": ".cpp",
   "mimetype": "text/x-c++src",
   "name": "c++",
   "version": "14"
  }
 },
 "nbformat": 4,
 "nbformat_minor": 4
}
