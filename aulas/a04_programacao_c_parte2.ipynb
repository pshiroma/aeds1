{
 "cells": [
  {
   "cell_type": "markdown",
   "metadata": {},
   "source": [
    "[**&#10094; Previous**](a04_programacao_c_parte2.ipynb) | [**Home**](a00_aeds1.ipynb) | [**Next &#10095;**](a05_tipo_dados_int.ipynb)"
   ]
  },
  {
   "cell_type": "markdown",
   "metadata": {},
   "source": [
    "# Programação em C\n",
    "\n",
    "É recomendável organizar um código-fonte de forma que ele fique bem estruturado.\n",
    "\n",
    "A forma como organizamos um código em um interpretador é um pouco diferente daquela encontrada em um compilador.\n",
    "Por exemplo, em um compilador C normalmente temos uma função principal:\n",
    "```\n",
    "int main()\n",
    "{\n",
    "}\n",
    "```\n",
    "e o seu código seria escrito dentro desta função.\n",
    "\n",
    "No ambiente jupyter/xeus-cling não temos uma função principal, sendo os comandos organizados dentro das células.\n",
    "\n",
    "Vamos, por questão meramente didática, dividir o código-fonte segundo o critério a seguir:\n",
    "\n",
    "1. Inclusão das bibliotecas: Nesta célula vamos realizar os comandos do tipo `#include <biblioteca>`. \n",
    "2. Definição de constantes e TADs: Nesta(s) célula(s) vamos definir as constantes e TADs que serão utilizadas durante o código.\n",
    "3. ~Definição das assinaturas das funções: Nesta célula vamos definir as assinaturas das funções implementadas pelo próprio usuário.~\n",
    "4. Definição das variáveis: Nesta(s) célula(s) vamos definir as variáveis que serão usadas durante o código.\n",
    "5. Desenvolvimento do algoritmo: Nesta(s) célula(s) vamos desenvolver o(s) algoritmo(s)."
   ]
  },
  {
   "cell_type": "markdown",
   "metadata": {},
   "source": [
    "## Exemplo 1\n",
    "\n",
    "Vamos criar um código para calcular o IMC (índice de massa corporal) de uma pessoa.\n",
    "O IMC é dado pela fórmula:\n",
    "\n",
    "$\n",
    "IMC = \\frac{massa}{altura \\cdot altura}\n",
    "$\n",
    "\n",
    "onde:\n",
    "\n",
    "* massa: Dado em quilogramas;\n",
    "* altura: Dado em metros.\n",
    "\n",
    "Obs.: O IMC ideal encontra-se na faixa entre 18,50 e 24,99.\n",
    "\n",
    "Fonte: https://pt.wikipedia.org/wiki/%C3%8Dndice_de_massa_corporal"
   ]
  },
  {
   "cell_type": "markdown",
   "metadata": {},
   "source": [
    "### Inclusão das bibliotecas\n",
    "\n",
    "Vamos incluir a biblioteca `iostream`, necessária para ler o teclado e mostrar dados na tela. Vamos dizer ao C++ que o escopo `std`, presente na biblioteca `iostream` será utilizada no decorrer do código."
   ]
  },
  {
   "cell_type": "code",
   "execution_count": 2,
   "metadata": {},
   "outputs": [],
   "source": [
    "#include <iostream>\n",
    "using namespace std;"
   ]
  },
  {
   "cell_type": "markdown",
   "metadata": {},
   "source": [
    "### Definição de constantes"
   ]
  },
  {
   "cell_type": "code",
   "execution_count": 1,
   "metadata": {},
   "outputs": [],
   "source": [
    "// nenhuma constante precisa ser definida"
   ]
  },
  {
   "cell_type": "markdown",
   "metadata": {},
   "source": [
    "### Definição das variáveis"
   ]
  },
  {
   "cell_type": "code",
   "execution_count": 3,
   "metadata": {},
   "outputs": [],
   "source": [
    "float massa;\n",
    "float altura;\n",
    "float imc;"
   ]
  },
  {
   "cell_type": "markdown",
   "metadata": {},
   "source": [
    "### Desenvolvimento do algoritmo"
   ]
  },
  {
   "cell_type": "markdown",
   "metadata": {},
   "source": [
    "Para entrada de dados, você deve usar o ponto (.) como separador de casa decimal."
   ]
  },
  {
   "cell_type": "code",
   "execution_count": 4,
   "metadata": {},
   "outputs": [
    {
     "name": "stdout",
     "output_type": "stream",
     "text": [
      "Entre com a massa: 80\n",
      "Entre com a altura: 1.70\n",
      "Seu imc é de 27.6817"
     ]
    }
   ],
   "source": [
    "cout << \"Entre com a massa: \";\n",
    "cin >> massa;\n",
    "cout << \"Entre com a altura: \";\n",
    "cin >> altura;\n",
    "imc = massa / (altura*altura);\n",
    "cout << \"Seu imc é de \" << imc;"
   ]
  },
  {
   "cell_type": "markdown",
   "metadata": {},
   "source": [
    "<div class=\"alert alert-info\">Observe o uso do parênteses para forçar a execução da multiplicação antes da divisão</div>"
   ]
  },
  {
   "cell_type": "markdown",
   "metadata": {},
   "source": [
    "## Exemplo 2\n",
    "\n",
    "Vamos criar um algoritmo para calcular a área de um círculo."
   ]
  },
  {
   "cell_type": "markdown",
   "metadata": {},
   "source": [
    "### Inclusão das bibliotecas\n",
    "\n",
    "Neste caso, como estamos rodando o mesmo notebook, não é necessário incluir novamente a biblioteca `iostream`, pois o mesmo foi já incluído anteriormente."
   ]
  },
  {
   "cell_type": "markdown",
   "metadata": {},
   "source": [
    "### Definição de constantes"
   ]
  },
  {
   "cell_type": "code",
   "execution_count": null,
   "metadata": {},
   "outputs": [],
   "source": []
  },
  {
   "cell_type": "markdown",
   "metadata": {},
   "source": [
    "### Definição das variáveis"
   ]
  },
  {
   "cell_type": "code",
   "execution_count": 7,
   "metadata": {},
   "outputs": [],
   "source": [
    "float raio, area;"
   ]
  },
  {
   "cell_type": "markdown",
   "metadata": {},
   "source": [
    "### Desenvolvimento do algoritmo"
   ]
  },
  {
   "cell_type": "markdown",
   "metadata": {},
   "source": [
    "Para entrada de dados, você deve usar o ponto (.) como separador de casa decimal."
   ]
  },
  {
   "cell_type": "code",
   "execution_count": 8,
   "metadata": {},
   "outputs": [
    {
     "name": "stdout",
     "output_type": "stream",
     "text": [
      "Entre com o raio: 2\n",
      "A área é de 12.5664"
     ]
    }
   ],
   "source": [
    "cout << \"Entre com o raio: \";\n",
    "cin >> raio;\n",
    "area = M_PI * raio * raio;\n",
    "cout << \"A área é de \" << area;"
   ]
  },
  {
   "cell_type": "markdown",
   "metadata": {},
   "source": [
    "<div class=\"alert alert-info\">O valor de $\\pi$ é definido pelo identificador M_PI, que normalmente é incluído nas bibliotecas math.h ou cmath</div>"
   ]
  },
  {
   "cell_type": "markdown",
   "metadata": {},
   "source": [
    "## Exemplo 3\n",
    "\n",
    "Cálculo da quilometragem por litro de um veículo"
   ]
  },
  {
   "cell_type": "markdown",
   "metadata": {},
   "source": [
    "### Inclusão das bibliotecas\n",
    "\n",
    "Neste caso, como estamos rodando o mesmo notebook, não é necessário incluir novamente a biblioteca `iostream`, pois o mesmo foi já incluído anteriormente."
   ]
  },
  {
   "cell_type": "markdown",
   "metadata": {},
   "source": [
    "### Definição de constantes"
   ]
  },
  {
   "cell_type": "code",
   "execution_count": null,
   "metadata": {},
   "outputs": [],
   "source": []
  },
  {
   "cell_type": "markdown",
   "metadata": {},
   "source": [
    "### Definição das variáveis"
   ]
  },
  {
   "cell_type": "code",
   "execution_count": 9,
   "metadata": {},
   "outputs": [],
   "source": [
    "float quilometros_rodados, litros;\n",
    "float quilometros_por_litro;"
   ]
  },
  {
   "cell_type": "markdown",
   "metadata": {},
   "source": [
    "### Desenvolvimento do algoritmo"
   ]
  },
  {
   "cell_type": "markdown",
   "metadata": {},
   "source": [
    "Para entrada de dados, você deve usar o ponto (.) como separador de casa decimal."
   ]
  },
  {
   "cell_type": "code",
   "execution_count": null,
   "metadata": {},
   "outputs": [],
   "source": [
    "cout << \"Entre com a quantidade de quilometros rodados: \";\n",
    "cin >> quilometros_rodados;\n",
    "cout << \"Entre com a quantidade de litros abastecidos: \";\n",
    "cin >> litros;\n",
    "quilometros_por_litro = quilometros_rodados/litros;\n",
    "cout << \"O veículos fez \" << quilometros_por_litro << \" km/l\";"
   ]
  },
  {
   "cell_type": "markdown",
   "metadata": {},
   "source": [
    "## Exercício 1\n",
    "\n",
    "Um agricultor adquiriu um sistema de captação de água de chuva para utilizar em suas plantações.\n",
    "Sabendo que a estação seca dura em média 4 meses, crie um programa que leia o consumo diário médio de água, fornecido pelo agricultor e calcule o volume total de água gasto até o final da estação seca."
   ]
  },
  {
   "cell_type": "markdown",
   "metadata": {},
   "source": [
    "### Inclusão das bibliotecas\n",
    "\n",
    "Neste caso, como estamos rodando o mesmo notebook, não é necessário incluir novamente a biblioteca `iostream`."
   ]
  },
  {
   "cell_type": "markdown",
   "metadata": {},
   "source": [
    "### Definição de constantes"
   ]
  },
  {
   "cell_type": "code",
   "execution_count": null,
   "metadata": {},
   "outputs": [],
   "source": []
  },
  {
   "cell_type": "markdown",
   "metadata": {},
   "source": [
    "### Definição das variáveis"
   ]
  },
  {
   "cell_type": "code",
   "execution_count": null,
   "metadata": {},
   "outputs": [],
   "source": []
  },
  {
   "cell_type": "markdown",
   "metadata": {},
   "source": [
    "### Desenvolvimento do algoritmo"
   ]
  },
  {
   "cell_type": "code",
   "execution_count": null,
   "metadata": {},
   "outputs": [],
   "source": []
  },
  {
   "cell_type": "markdown",
   "metadata": {},
   "source": [
    "## Exercício 2\n",
    "\n",
    "Crie um algoritmo que leia 3 números reais e calcule:\n",
    "\n",
    "* A média aritmética deles: \n",
    "\n",
    "$MA = \\frac{(n1 + n2 + n3)}{3}$;\n",
    "* A média harmônica deles: \n",
    "\n",
    "$MH = \\frac{3}{\\frac{1}{n1} + \\frac{1}{n2} + \\frac{1}{n3}}$;\n",
    "\n",
    "<div class=\"alert alert-info\">\n",
    "Obs.: Use os parênteses \"()\" para organizar a precedência das operações.\n",
    "</div>"
   ]
  },
  {
   "cell_type": "markdown",
   "metadata": {},
   "source": [
    "### Inclusão das bibliotecas\n",
    "\n",
    "Neste caso, como estamos rodando o mesmo notebook, não é necessário incluir novamente a biblioteca `iostream`."
   ]
  },
  {
   "cell_type": "markdown",
   "metadata": {},
   "source": [
    "### Definição de constantes"
   ]
  },
  {
   "cell_type": "code",
   "execution_count": null,
   "metadata": {},
   "outputs": [],
   "source": []
  },
  {
   "cell_type": "markdown",
   "metadata": {},
   "source": [
    "### Definição das variáveis"
   ]
  },
  {
   "cell_type": "code",
   "execution_count": null,
   "metadata": {},
   "outputs": [],
   "source": []
  },
  {
   "cell_type": "markdown",
   "metadata": {},
   "source": [
    "### Desenvolvimento do algoritmo"
   ]
  },
  {
   "cell_type": "code",
   "execution_count": null,
   "metadata": {},
   "outputs": [],
   "source": []
  },
  {
   "cell_type": "markdown",
   "metadata": {},
   "source": [
    "## Exercício 3\n",
    "\n",
    "Um pedreiro deseja estimar a quantidade de tijolos que ele irá utilizar em uma obra.\n",
    "Ele irá utilizar um tijolo com dimensões de 19cm por 14cm.\n",
    "Com a aplicação da argamassa de assentamento, cada tijolo cobrirá uma área de 20cm por 15cm.\n",
    "\n",
    "O pedreiro deseja saber quantos tijolos ele deverá utilizar em uma determinada obra.\n",
    "\n",
    "Sabendo que as paredes terão um pé-direito de 3,00m, crie um programa que leia a quantidade de paredes (medidos em metros linear) que deseja-se levantar e estime (sem considerar portas e janelas) a quantidade de tijolos necessários."
   ]
  },
  {
   "cell_type": "markdown",
   "metadata": {},
   "source": [
    "### Inclusão das bibliotecas\n",
    "\n",
    "Neste caso, como estamos rodando o mesmo notebook, não é necessário incluir novamente a biblioteca `iostream`."
   ]
  },
  {
   "cell_type": "markdown",
   "metadata": {},
   "source": [
    "### Definição de constantes"
   ]
  },
  {
   "cell_type": "code",
   "execution_count": null,
   "metadata": {},
   "outputs": [],
   "source": []
  },
  {
   "cell_type": "markdown",
   "metadata": {},
   "source": [
    "### Definição das variáveis"
   ]
  },
  {
   "cell_type": "code",
   "execution_count": null,
   "metadata": {},
   "outputs": [],
   "source": []
  },
  {
   "cell_type": "markdown",
   "metadata": {},
   "source": [
    "### Desenvolvimento do algoritmo"
   ]
  },
  {
   "cell_type": "code",
   "execution_count": null,
   "metadata": {},
   "outputs": [],
   "source": []
  },
  {
   "cell_type": "markdown",
   "metadata": {},
   "source": [
    "## Exercício 4\n",
    "\n",
    "A razão áurea é um número irracional, tal qual o famoso número $\\pi$, e é também denotado por uma letra grega, o “phi” ($\\phi$). \n",
    "Este famoso número se manisfesta em diversas aspectos da natureza, como nas espirais de conchas, flores, redemoinhos, teias de aranha e de galáxias.\n",
    "Também o encontramos em pinturas, esculturas, música e construções.\n",
    "Como exemplo, várias obras de Leonardo Da Vinci utilizam a divina proporção, pois o corpo humano também possui diversas relações com a razão áurea. \n",
    "No Egito Antigo, as pirâmides de Gizé foram construídas tendo por base a razão de ouro: o quociente entre a altura de uma face e metade do lado da base da grande pirâmide é igual ao número de ouro. \n",
    "Fibonacci utilizou a razão áurea na solução do famoso problema dos coelhos, naquilo que hoje conhecemos como a sequência de números de Fibonacci. \n",
    "Na natureza, o modelo de desenvolvimento de muitas plantas pode ser relacionado com esta sequência.\n",
    "\n",
    "Conhecido desde a Antiguidade, o $\\phi$ recebeu vários títulos: \"Número Áureo\", \"Razão Áurea\", \"Proporção Áurea\", \"Proporção de Ouro\", \"Número de Ouro\", \"Divisão de Extrema Razão\".\n",
    "\n",
    "Matematicamente, a razão áurea é dada por:\n",
    "\n",
    "$\\phi = \\frac{1 + \\sqrt{5}}{2}$\n",
    "\n",
    "Escreva um algoritmo que determine o valor da razão áurea.\n",
    "\n",
    "Use a função `sqrt(numero)` para calcular a raiz quadrada.\n",
    "\n",
    "__Sabendo que a pirâmide de Quéops obedece a seguinte proporção:__\n",
    "![fig](./figuras/piramide.jpg)\n",
    "\n",
    "__calcule a altura da pirâmide de Quéops, sabendo que sua base mede 230,33m.__\n",
    "\n",
    "Fontes: \n",
    "\n",
    "https://www.megacurioso.com.br/matematica-e-estatistica/74174-voce-sabe-o-que-e-a-proporcao-aurea.htm\n",
    "\n",
    "http://clubes.obmep.org.br/blog/atividade-a-razao-aurea/\n",
    "\n",
    "http://www.rpm.org.br/cdrpm/48/1.htm"
   ]
  },
  {
   "cell_type": "markdown",
   "metadata": {},
   "source": [
    "### Inclusão das bibliotecas\n",
    "\n",
    "Neste caso, como estamos rodando o mesmo notebook, não é necessário incluir novamente a biblioteca `iostream`."
   ]
  },
  {
   "cell_type": "markdown",
   "metadata": {},
   "source": [
    "### Definição de constantes"
   ]
  },
  {
   "cell_type": "code",
   "execution_count": null,
   "metadata": {},
   "outputs": [],
   "source": []
  },
  {
   "cell_type": "markdown",
   "metadata": {},
   "source": [
    "### Definição das variáveis"
   ]
  },
  {
   "cell_type": "code",
   "execution_count": null,
   "metadata": {},
   "outputs": [],
   "source": []
  },
  {
   "cell_type": "markdown",
   "metadata": {},
   "source": [
    "### Desenvolvimento do algoritmo"
   ]
  },
  {
   "cell_type": "code",
   "execution_count": null,
   "metadata": {},
   "outputs": [],
   "source": []
  },
  {
   "cell_type": "markdown",
   "metadata": {},
   "source": [
    "## Exercício 5\n",
    "\n",
    "Um carro A viaja de Ouro Branco à Belo Horizonte a uma velocidade de 80km/h.\n",
    "Outro carro B viaja de Belo Horizonte à Ouro Branco a uma velocidade de 100km/h.\n",
    "Sabendo que a distância entre as cidades é de 100km e que eles saíram no mesmo horário, em qual quilômetro eles irão se encontrar?\n",
    "\n",
    "Crie um programa que leia os dados de velocidade dos carros A e B e a distância entre as cidades e determine o quilômetro onde eles se encontrarão.\n",
    "\n",
    "https://www.sofisica.com.br/conteudos/Mecanica/Cinematica/mu.php"
   ]
  },
  {
   "cell_type": "markdown",
   "metadata": {},
   "source": [
    "### Inclusão das bibliotecas\n",
    "\n",
    "Neste caso, como estamos rodando o mesmo notebook, não é necessário incluir novamente a biblioteca `iostream`."
   ]
  },
  {
   "cell_type": "markdown",
   "metadata": {},
   "source": [
    "### Definição de constantes"
   ]
  },
  {
   "cell_type": "code",
   "execution_count": null,
   "metadata": {},
   "outputs": [],
   "source": []
  },
  {
   "cell_type": "markdown",
   "metadata": {},
   "source": [
    "### Definição das variáveis"
   ]
  },
  {
   "cell_type": "code",
   "execution_count": null,
   "metadata": {},
   "outputs": [],
   "source": []
  },
  {
   "cell_type": "markdown",
   "metadata": {},
   "source": [
    "### Desenvolvimento do algoritmo"
   ]
  },
  {
   "cell_type": "code",
   "execution_count": null,
   "metadata": {},
   "outputs": [],
   "source": []
  },
  {
   "cell_type": "markdown",
   "metadata": {},
   "source": [
    "[**&#10094; Previous**](a04_programacao_c_parte2.ipynb) | [**Home**](a00_aeds1.ipynb) | [**Next &#10095;**](a05_tipo_dados_int.ipynb)"
   ]
  }
 ],
 "metadata": {
  "kernelspec": {
   "display_name": "C++14",
   "language": "C++14",
   "name": "xcpp14"
  },
  "language_info": {
   "codemirror_mode": "text/x-c++src",
   "file_extension": ".cpp",
   "mimetype": "text/x-c++src",
   "name": "c++",
   "version": "14"
  }
 },
 "nbformat": 4,
 "nbformat_minor": 4
}
