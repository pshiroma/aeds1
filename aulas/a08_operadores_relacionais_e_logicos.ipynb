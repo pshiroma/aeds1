{
 "cells": [
  {
   "cell_type": "code",
   "execution_count": 4,
   "metadata": {},
   "outputs": [],
   "source": [
    "#include <iostream>\n",
    "using namespace std;"
   ]
  },
  {
   "cell_type": "markdown",
   "metadata": {},
   "source": [
    "# Operadores relacionais\n",
    "\n",
    "Vimos que os operadores relacionais são:\n",
    "\n",
    "|Operador| Significado |\n",
    "|--|--|\n",
    "| `==` | igual |\n",
    "| `!=` | diferente |\n",
    "| `<` | menor que |\n",
    "| `<=` | menor ou igual que |\n",
    "| `>` | maior que |\n",
    "| `>=` | maior ou igual que |\n",
    "\n",
    "Observe que os operadores relacionais aceitam variáveis, constantes ou literais do tipo inteiro, short, char, float, double."
   ]
  },
  {
   "cell_type": "markdown",
   "metadata": {},
   "source": [
    "<div class=\"alert alert-info\">Observe que o operador de igualdade é ==. O operador =  é de atribuição.</div>"
   ]
  },
  {
   "cell_type": "markdown",
   "metadata": {},
   "source": [
    "# Operadores lógicos\n",
    "\n",
    "Frequentemente precisamos combinar expressões relacionais para satisfazer a condição que queremos inserir dentro de comandos do tipo `if` ou `while`.\n",
    "Por exemplo, se quisermos testar se um número é maior que 10 e menor que 50 é necessário utilizarmos operadores lógicos em combinação com operadores relacionais.\n",
    "Os operadores lógicos são:\n",
    "\n",
    "|Operador| Significado |\n",
    "|--|--|\n",
    "| `&&` | e (and) |\n",
    "| `\\|\\|` | ou (or) |\n",
    "| `!` | não (not) |\n",
    "\n",
    "O operador lógico \"E\" (&&) obedece a seguinte tabela verdade:\n",
    "\n",
    "| Operando 1 | Operando 2 | Resultado |\n",
    "|--|--|--|\n",
    "|TRUE|TRUE|TRUE|\n",
    "|TRUE|FALSE|FALSE|\n",
    "|FALSE|TRUE|FALSE|\n",
    "|FALSE|FALSE|FALSE|\n",
    "\n",
    "Lembrando que, na linguagem C, uma variável com valor 0 é considerado FALSE, e um valor diferente de zero TRUE.\n",
    "\n",
    "O operador lógico \"OU\" (||) obedece a seguinte tabela verdade:\n",
    "\n",
    "| Operando 1 | Operando 2 | Resultado |\n",
    "|--|--|--|\n",
    "|TRUE|TRUE|TRUE|\n",
    "|TRUE|FALSE|TRUE|\n",
    "|FALSE|TRUE|TRUE|\n",
    "|FALSE|FALSE|FALSE|\n",
    "\n",
    "O operador lógico \"NÃO\" (!) obedece a seguinte tabela verdade:\n",
    "\n",
    "| Operando | Resultado |\n",
    "|--|--|\n",
    "|TRUE|FALSE|\n",
    "|FALSE|TRUE|\n"
   ]
  },
  {
   "cell_type": "markdown",
   "metadata": {},
   "source": [
    "## Precedência\n",
    "\n",
    "Conforme vimos certos operadores possuem precedência sobre outros na hora da execução.\n",
    "Abaixo temos uma tabela (quase completa) contendo a precedência dos operadores em C:\n",
    "\n",
    "|Operador|Obs|\n",
    "|--|--|\n",
    "| `( )  [ ] .` | |\n",
    "| `- ++ -- ! ~ (tipo)` |operadores unários, ordem da direita para esquerda|\n",
    "| `* / %` | |\n",
    "| `+ -` | |\n",
    "| `< <= > >=` | |\n",
    "| `== !=` | |\n",
    "| `&` | |\n",
    "| `^` | |\n",
    "| `|` | |\n",
    "| `&&` | |\n",
    "| `\\|\\|` | |\n",
    "| `?` | processados da direita para esquerda|\n",
    "| `=` | processados da direita para esquerda|\n",
    "\n",
    "Em uma expressão, os operadores `( )`, `[ ]` e `.` são executados primeiro, depois os operadores `-` (unário), `++`, `--`, `!`, `~`,  `(tipo)` e assim por diante."
   ]
  },
  {
   "cell_type": "markdown",
   "metadata": {},
   "source": [
    "## Exemplos"
   ]
  },
  {
   "cell_type": "code",
   "execution_count": 7,
   "metadata": {},
   "outputs": [],
   "source": [
    "bool result;"
   ]
  },
  {
   "cell_type": "code",
   "execution_count": 14,
   "metadata": {},
   "outputs": [
    {
     "name": "stdout",
     "output_type": "stream",
     "text": [
      "0\n",
      "1\n",
      "1\n",
      "1\n"
     ]
    }
   ],
   "source": [
    "result = 6 > 7 && 2 < 3;\n",
    "cout << result << endl;\n",
    "\n",
    "result = 12 <= 12 && 0 < 3;\n",
    "cout << result << endl;\n",
    "\n",
    "result = 0 > 7 || 2 < 3;\n",
    "cout << result << endl;\n",
    "\n",
    "result = !(0 > 7);\n",
    "cout << result << endl;"
   ]
  },
  {
   "cell_type": "markdown",
   "metadata": {},
   "source": [
    "## Exercício\n",
    "\n",
    "O índice de massa corporal (IMC) é um parâmetro adotado pela OMS usado para calcular o peso ideal de uma pessoa.\n",
    "Ele é calculado usando a fórmula:\n",
    "\n",
    "$ IMC = \\frac{PESO}{ALTURA^2}$\n",
    "\n",
    "De acordo com o valor obtido, uma pessoa recebe a classificação conforme tabela abaixo:\n",
    "\n",
    "| IMC | CLASSIFICAÇÃO |\n",
    "|--|--|\n",
    "|MENOR QUE 18,5|\tMAGREZA|\n",
    "|ENTRE 18,5 E 24,9|\tNORMAL|\n",
    "|ENTRE 25,0 E 29,9|\tSOBREPESO|\n",
    "|ENTRE 30,0 E 34,9|\tOBESIDADE GRAU I|\n",
    "|ENTRE 35,0 E 39,9|\tOBESIDADE GRAU II (severa)|\n",
    "|MAIOR QUE 40,0|\tOBESIDADE GRAU III (mórbida)|\n",
    "\n",
    "Escreva um programa que leia os dados de uma pessoa e informe qual a classificação a que ela pertence.\n",
    "\n",
    "Fonte: https://pt.wikipedia.org/wiki/%C3%8Dndice_de_massa_corporal"
   ]
  }
 ],
 "metadata": {
  "kernelspec": {
   "display_name": "C++14",
   "language": "C++14",
   "name": "xcpp14"
  },
  "language_info": {
   "codemirror_mode": "text/x-c++src",
   "file_extension": ".cpp",
   "mimetype": "text/x-c++src",
   "name": "c++",
   "version": "14"
  }
 },
 "nbformat": 4,
 "nbformat_minor": 4
}
