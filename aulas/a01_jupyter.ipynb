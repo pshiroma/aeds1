{
 "cells": [
  {
   "cell_type": "markdown",
   "metadata": {},
   "source": [
    "# Escolhendo um ambiente de programação\n",
    "\n",
    "O processo de ensino-aprendizagem em uma disciplina de algoritmos e estruturas de dados envolve, além da parte teórica, um forte componente prático, sem o qual o conhecimento teórico adquirido não é devidamente consolidado.\n",
    "\n",
    "A prática no ensino de algoritmos envolve essencialmente o uso de um ambiente de programação. A escolha do ambiente de programação envolve três fatores principais:\n",
    "\n",
    "1) Escolha do paradigma de programação: O paradigma de programação é uma forma de classificar as linguagens de programação de acordo com suas características em comum, agrupando-as.\n",
    "A escolha do paradigma define a forma como determinado problema será abordado, sendo certo que determinados problemas são mais facilmente solucionados se resolvidos no(s) paradigma(s) mais apropriado(s).\n",
    "Dentre os diversos paradigmas podemos destacar:\n",
    " * Programação estruturada\n",
    " * Programação orientada a objetos\n",
    " * Programação lógica\n",
    " * Programação funcional\n",
    "\n",
    "Para mais informações, consulte:\n",
    "\n",
    "https://fit.faccat.br/~guto/artigos/Artigo_Paradigmas_de_Programacao.pdf\n",
    "\n",
    "https://www.ic.unicamp.br/~zanoni/teaching/mc336/2008-1s/\n",
    "\n",
    "2) Escolha da linguagem de programação: Nesta questão devemos considerar a familiaridade do desenvolvedor com cada linguagem, a disponibilidade e qualidade de bibliotecas externas, o sistema operacional e hardware onde serão executados os códigos dentre outros fatores.\n",
    "\n",
    "3) A última etapa consiste em escolher o compilador / interpretador a ser utilizado. \n",
    "Embora para programadores mais experientes esta escolha não tenha tanto impacto, para aqueles que estão aprendendo a desenvolver algoritmos ela influi em muito em como será a curva de aprendizagem.\n",
    "\n",
    "A importância e o peso dado a cada um dos fatores acima descritos depende de cada problema e do perfil da equipe envolvida."
   ]
  },
  {
   "cell_type": "markdown",
   "metadata": {},
   "source": [
    "#  Jupyter\n",
    "\n",
    "Com o intuito de prover um ambiente de programação intuitivo, fácil de dominar e dinâmico foi escolhido o ambiente <b>Jupyter</b>.\n",
    "\n",
    "O jupyter é uma aplicação web que é acessada por meio do navegador web, ou seja, você pode utilizar o Google Chrome, o Firefox, o Internet Explorer ou outro navegador qualquer para acessá-lo.\n",
    "\n",
    "Além disso, o servidor do jupyter pode estar sendo executado localmente, na sua máquina, ou na nuvem, usando um servidor como o Amazon Web Service (AWS), Azure, Google Cloud ou outro qualquer.\n",
    "\n",
    "Observe que para entrar no aplicativo jupyter, você teve que acessar o link:\n",
    "\n",
    "http://3.17.73.154/hub/user-redirect/git-pull?repo=https%3A%2F%2Fgithub.com%2Fpshiroma%2Faeds1&branch=master&subPath=aulas&app=notebook\n",
    "\n",
    "Isto significa que ele está rodando em um servidor externo, fora do seu computador, e o navegador é apenas a interface gráfica.\n",
    "Igualmente, os arquivos criados por você estarão sendo armazenados na nuvem (neste caso, em um servidor da AWS).\n",
    "\n",
    "A grande facilidade é que você pode acessar o jupyter a partir de qualquer computador conectado a Internet, independente do tipo de sistema operacional ou hardware utilizado.\n",
    "\n",
    "## O que é o jupyter\n",
    "\n",
    "O jupyter é baseado no conceito de <b>notebook</b>.\n",
    "Um exemplo é este documento que você está acessando no momento.\n",
    "Um notebook pode ser idealizado como um caderno onde você pode:\n",
    "* escrever textos e anotações,\n",
    "* escrever equações matemáticas como $\\lim\\limits_{x \\rightarrow 2} x^2 = 4$,\n",
    "* inserir figuras como: ![lena](figuras/lena.png)\n",
    "* inserir link de vídeos: [![video](figuras/youtube1.png)](https://www.youtube.com/watch?v=wswYxcNoi00)\n",
    "\n",
    "Para saber mais, consulte:\n",
    "\n",
    "https://jupyter.brynmawr.edu/services/public/dblank/Jupyter%20Notebook%20Users%20Manual.ipynb\n",
    "\n",
    "https://jupyter.org/\n",
    "\n",
    "https://letscode-academy.com/blog/introducao-ao-jupyter-notebook/\n",
    "\n"
   ]
  },
  {
   "cell_type": "markdown",
   "metadata": {},
   "source": []
  }
 ],
 "metadata": {
  "kernelspec": {
   "display_name": "C++14",
   "language": "C++14",
   "name": "xcpp14"
  },
  "language_info": {
   "codemirror_mode": "text/x-c++src",
   "file_extension": ".cpp",
   "mimetype": "text/x-c++src",
   "name": "c++",
   "version": "14"
  }
 },
 "nbformat": 4,
 "nbformat_minor": 4
}
