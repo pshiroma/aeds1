{
 "cells": [
  {
   "cell_type": "markdown",
   "metadata": {},
   "source": [
    "[**&#10094; Previous**](a11_funcoes2.ipynb) | [**Home**](a00_aeds1.ipynb) | [**Next &#10095;**](a11_funcao4.ipynb)"
   ]
  },
  {
   "cell_type": "code",
   "execution_count": 1,
   "metadata": {},
   "outputs": [],
   "source": [
    "#include <iostream>\n",
    "using namespace std;"
   ]
  },
  {
   "cell_type": "code",
   "execution_count": 2,
   "metadata": {},
   "outputs": [],
   "source": [
    ".X aeds1_plot.cpp"
   ]
  },
  {
   "cell_type": "markdown",
   "metadata": {},
   "source": [
    "# Gráfico de funções\n",
    "\n",
    "Desenhe o gráfico das funções: \n",
    "\n",
    "$y(x) = x^3 - 3x^2 - 5x$\n",
    "\n",
    "e\n",
    "\n",
    "$\\dot{y}(x) = 3x^2 - 6x - 5$"
   ]
  },
  {
   "cell_type": "code",
   "execution_count": 46,
   "metadata": {},
   "outputs": [
    {
     "data": {
      "application/vnd.jupyter.widget-view+json": {
       "model_id": "4cc054602ca24dd3b8942b451fdd16d4",
       "version_major": 2,
       "version_minor": 0
      },
      "text/plain": [
       "A Jupyter widget"
      ]
     },
     "execution_count": 46,
     "metadata": {},
     "output_type": "execute_result"
    }
   ],
   "source": [
    "aeds1::figuras[1]"
   ]
  },
  {
   "cell_type": "code",
   "execution_count": 49,
   "metadata": {},
   "outputs": [],
   "source": [
    "for (float x = -2.0; x <= 5.0; x += 0.3)\n",
    "{\n",
    "    float y = 1*pow(x,3) -3*pow(x,2) - 5*x;\n",
    "    float dy = 3*pow(x,2) -6*x - 5;\n",
    "    aeds1::plot_novo_ponto(x , y, 0, 1);\n",
    "    aeds1::plot_novo_ponto(x , dy, 1, 1);\n",
    "}"
   ]
  },
  {
   "cell_type": "code",
   "execution_count": 48,
   "metadata": {},
   "outputs": [],
   "source": [
    "aeds1::plot_apaga(0,1);"
   ]
  },
  {
   "cell_type": "markdown",
   "metadata": {},
   "source": [
    "## Derivada numérica\n",
    "\n",
    "Vimos anteriormente que é possível calcular, de forma aproximada, o valor ao qual o limite de uma função tende:"
   ]
  },
  {
   "cell_type": "code",
   "execution_count": 78,
   "metadata": {},
   "outputs": [
    {
     "name": "stdout",
     "output_type": "stream",
     "text": [
      "f(-1.9) = -4.9\n",
      "f(-1.99) = -4.99001\n",
      "f(-1.999) = -4.99893\n",
      "f(-1.9999) = -5.00119\n",
      "f(-1.99999) = -5\n",
      "f(-2) = -5\n"
     ]
    }
   ],
   "source": [
    "// limite pela direita\n",
    "for (float h = 0.1; h > 1e-7; h /= 10) {\n",
    "    float a = -2;\n",
    "    float x = a + h;\n",
    "    float fx = (x*x - x - 6)/(x + 2);\n",
    "    cout << setprecision(6) << \"f(\" << x << \") = \" << fx << endl;\n",
    "}"
   ]
  },
  {
   "cell_type": "markdown",
   "metadata": {},
   "source": [
    "Ou seja, se fizermos $h$ razoavelmente pequeno, por exemplo $h = 0.00001$, teremos uma boa aproximação para o limite:"
   ]
  },
  {
   "cell_type": "code",
   "execution_count": 111,
   "metadata": {},
   "outputs": [
    {
     "name": "stdout",
     "output_type": "stream",
     "text": [
      "lim f(-4) = -7\n",
      "lim f(-3) = -6\n",
      "lim f(-2) = -5\n",
      "lim f(-0.99999) = -4\n",
      "lim f(1e-05) = -3\n",
      "lim f(1) = -2\n",
      "lim f(2) = -0.99999\n",
      "lim f(3) = 1.0014e-05\n",
      "lim f(4) = 1\n",
      "lim f(5) = 2\n",
      "lim f(6) = 3\n",
      "lim f(7) = 4\n",
      "lim f(8) = 5\n",
      "lim f(9) = 6\n"
     ]
    }
   ],
   "source": [
    "for (float a = -4; a < 10; a++) {\n",
    "    float h = 0.00001;\n",
    "    float x = a + h;\n",
    "    float fx = (x*x - x - 6)/(x + 2);\n",
    "    cout << setprecision(5) << \"lim f(\" << x << \") = \" << fx << endl;    \n",
    "}"
   ]
  },
  {
   "cell_type": "markdown",
   "metadata": {},
   "source": [
    "Sabemos do cálculo que:\n",
    "\n",
    "$f'(x) = \\lim_\\limits{h \\rightarrow 0}\\dfrac{f(x + h) - f(x)}{h}$.\n",
    "\n",
    "Se aproximarmos o valor de $h$ na expressão acima para um valor **razoavelmente** pequeno, então temos uma forma de encontrar uma aproximação para o valor de $f'(x)$.\n",
    "\n",
    "Numericamente, só podemos efetivamente usar a aproximação acima para valores definidos de $f(x)$, ou seja, é preciso fixar um valor para $x$, e desta forma somente podemos calcular:\n",
    "\n",
    "$f'(a) = \\lim_\\limits{h \\rightarrow 0}\\dfrac{f(a + h) - f(a)}{h}$.\n",
    "\n",
    "Se variarmos o valor de $a$ para o domínio da função, podemos plotar o gráfico de $f'(x)$:"
   ]
  },
  {
   "cell_type": "code",
   "execution_count": 80,
   "metadata": {},
   "outputs": [
    {
     "data": {
      "application/vnd.jupyter.widget-view+json": {
       "model_id": "94af972e7ff642d5b8291198a9ff4a8e",
       "version_major": 2,
       "version_minor": 0
      },
      "text/plain": [
       "A Jupyter widget"
      ]
     },
     "execution_count": 80,
     "metadata": {},
     "output_type": "execute_result"
    }
   ],
   "source": [
    "aeds1::figuras[2]"
   ]
  },
  {
   "cell_type": "code",
   "execution_count": 82,
   "metadata": {},
   "outputs": [],
   "source": [
    "float h, ah;"
   ]
  },
  {
   "cell_type": "code",
   "execution_count": 118,
   "metadata": {},
   "outputs": [],
   "source": [
    "h = 0.001;\n",
    "for (float x = -2.0; x <= 5.0; x += 0.2)\n",
    "{\n",
    "    float y = 1*pow(x,3) -3*pow(x,2) - 5*x;\n",
    "    float dy = 3*pow(x,2) -6*x - 5;\n",
    "\n",
    "    ah = x + h;\n",
    "    float ddy = ( (pow(ah,3) -3*pow(ah,2) - 5*ah) - (pow(x,3) -3*pow(x,2) - 5*x) )/h;\n",
    "    \n",
    "    aeds1::plot_novo_ponto(x , y, 0, 2);\n",
    "    aeds1::plot_novo_ponto(x , dy, 1, 2);\n",
    "    aeds1::plot_novo_ponto(x , ddy, 2, 2);\n",
    "}"
   ]
  },
  {
   "cell_type": "code",
   "execution_count": 117,
   "metadata": {},
   "outputs": [],
   "source": [
    "aeds1::plot_apaga(0,2);\n",
    "aeds1::plot_apaga(1,2);\n",
    "aeds1::plot_apaga(2,2);"
   ]
  },
  {
   "cell_type": "markdown",
   "metadata": {},
   "source": [
    "## Criando funções\n",
    "\n",
    "Observe que no código acima a função $f(x) = x^3 - 3x^2 - 5x$ é utilizada 3 vezes (verifique).\n",
    "Isto faz com que o código fique difícil de ler e também prejudica sua manutenção.\n",
    "Por exemplo, se você quiser mudar a função é necessário realizar a mudança em 3 partes do código.\n",
    "\n",
    "Uma prática mais recomendável de codificação seria fatorar estas chamadas para fora deste trecho de código.\n",
    "Tal efeito é obtido por meio das funções.\n",
    "\n",
    "Vamos criar abaixo uma função chamada `polinomio_x3_3x2_5x` com a seguinte assinatura:\n",
    "\n",
    "`double polinomio_x3_3x2_5x(double x);`\n",
    "\n",
    "que calcula o valor de $f(x) = x^3 - 3x^2 - 5x$:"
   ]
  },
  {
   "cell_type": "code",
   "execution_count": 119,
   "metadata": {},
   "outputs": [],
   "source": [
    "double polinomio_x3_3x2_5x(double x) {\n",
    "    double fx = pow(x,3)  - 3*x*x - 5*x;\n",
    "    return fx;\n",
    "}"
   ]
  },
  {
   "cell_type": "markdown",
   "metadata": {},
   "source": [
    "Uma vez definida a função, podemos reescrever o código anterior chamando a função acima:"
   ]
  },
  {
   "cell_type": "code",
   "execution_count": 121,
   "metadata": {},
   "outputs": [
    {
     "data": {
      "application/vnd.jupyter.widget-view+json": {
       "model_id": "52e3b7ea94924047b4cc63c5164d4b7e",
       "version_major": 2,
       "version_minor": 0
      },
      "text/plain": [
       "A Jupyter widget"
      ]
     },
     "execution_count": 121,
     "metadata": {},
     "output_type": "execute_result"
    }
   ],
   "source": [
    "aeds1::figuras[3]"
   ]
  },
  {
   "cell_type": "code",
   "execution_count": 124,
   "metadata": {},
   "outputs": [],
   "source": [
    "h = 0.001;\n",
    "for (float x = -2.0; x <= 5.0; x += 0.2)\n",
    "{\n",
    "    float y = polinomio_x3_3x2_5x(x);\n",
    "    float dy = ( polinomio_x3_3x2_5x( x + h ) - polinomio_x3_3x2_5x( x ) )/h;\n",
    "    \n",
    "    aeds1::plot_novo_ponto(x , y, 0, 3);\n",
    "    aeds1::plot_novo_ponto(x , dy, 1, 3);\n",
    "}"
   ]
  },
  {
   "cell_type": "code",
   "execution_count": 123,
   "metadata": {},
   "outputs": [],
   "source": [
    "aeds1::plot_apaga(0,3);\n",
    "aeds1::plot_apaga(1,3);"
   ]
  },
  {
   "cell_type": "markdown",
   "metadata": {},
   "source": [
    "Melhor seria se pudéssemos flexibilizar ainda mais a definição da função, para que ela pudesse calcular qualquer polinômio de 3 grau.\n",
    "\n",
    "Podemos obter esta funcionalidade adicionando mais 4 parâmetros na função:\n",
    "\n",
    "`double polinomio_3_grau(double x, double a, double b, double c, double d);`\n",
    "\n",
    "de forma que agora ela calcula o valor de\n",
    "\n",
    "$f(x) = a\\cdot x^3 + b\\cdot x^2 + c\\cdot x + d$"
   ]
  },
  {
   "cell_type": "code",
   "execution_count": 125,
   "metadata": {},
   "outputs": [],
   "source": [
    "double polinomio_3_grau(double x, double a, double b, double c, double d) {\n",
    "    double fx = a*pow(x,3)  + b*x*x + c*x + d;\n",
    "    return fx;\n",
    "}"
   ]
  },
  {
   "cell_type": "code",
   "execution_count": 127,
   "metadata": {},
   "outputs": [
    {
     "data": {
      "application/vnd.jupyter.widget-view+json": {
       "model_id": "ad5ab0568ab0421da85ce6e5d533e467",
       "version_major": 2,
       "version_minor": 0
      },
      "text/plain": [
       "A Jupyter widget"
      ]
     },
     "execution_count": 127,
     "metadata": {},
     "output_type": "execute_result"
    }
   ],
   "source": [
    "aeds1::figuras[4]"
   ]
  },
  {
   "cell_type": "code",
   "execution_count": 128,
   "metadata": {},
   "outputs": [],
   "source": [
    "h = 0.001;\n",
    "for (float x = -2.0; x <= 5.0; x += 0.2)\n",
    "{\n",
    "    float y = polinomio_3_grau(x, 1, -3, -5, 0);\n",
    "    float dy = ( polinomio_3_grau(x + h, 1, -3, -5, 0) - polinomio_3_grau(x, 1, -3, -5, 0) )/h;\n",
    "    \n",
    "    aeds1::plot_novo_ponto(x , y, 0, 4);\n",
    "    aeds1::plot_novo_ponto(x , dy, 1, 4);\n",
    "}"
   ]
  },
  {
   "cell_type": "code",
   "execution_count": 123,
   "metadata": {},
   "outputs": [],
   "source": [
    "aeds1::plot_apaga(0,3);\n",
    "aeds1::plot_apaga(1,3);"
   ]
  },
  {
   "cell_type": "markdown",
   "metadata": {},
   "source": [
    "## Exercício\n",
    "\n",
    "Desenhe o gráfico das funções:\n",
    "\n",
    "$\n",
    "f(x) = \\sin(x)\n",
    "$\n",
    "\n",
    "e\n",
    "\n",
    "$\n",
    "f'(x) = \\lim_\\limits{h \\rightarrow 0} \\dfrac{f(x+h) - f(x)}{h}\n",
    "$ usando a aproximação numérica vista anteriormente para $h = 0.001$.\n",
    "\n",
    "Em seguida, compare com o valor real de $f'(x)$"
   ]
  },
  {
   "cell_type": "markdown",
   "metadata": {},
   "source": [
    "[**&#10094; Previous**](a11_funcoes2.ipynb) | [**Home**](a00_aeds1.ipynb) | [**Next &#10095;**](a11_funcao4.ipynb)"
   ]
  }
 ],
 "metadata": {
  "kernelspec": {
   "display_name": "C++14",
   "language": "C++14",
   "name": "xcpp14"
  },
  "language_info": {
   "codemirror_mode": "text/x-c++src",
   "file_extension": ".cpp",
   "mimetype": "text/x-c++src",
   "name": "c++",
   "version": "14"
  }
 },
 "nbformat": 4,
 "nbformat_minor": 4
}
