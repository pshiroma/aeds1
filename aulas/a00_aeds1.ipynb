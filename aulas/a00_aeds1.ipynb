{
 "cells": [
  {
   "cell_type": "code",
   "execution_count": 10,
   "metadata": {},
   "outputs": [
    {
     "name": "stdout",
     "output_type": "stream",
     "text": [
      "[NbConvertApp] Converting notebook a01_introducao.ipynb to html\n",
      "[NbConvertApp] Writing 279869 bytes to a01_introducao.html\n"
     ]
    }
   ],
   "source": [
    "!jupyter nbconvert a01_introducao.ipynb --to html"
   ]
  },
  {
   "cell_type": "markdown",
   "metadata": {},
   "source": [
    "# Algoritmos e Estruturas de Dados\n",
    "\n",
    "## Sumário\n",
    "\n",
    "1. Introdução \n",
    " 1. [Introdução da disciplina](a01_introducao.ipynb)\n",
    " 2. [Instalação local do jupyter](a01_jupyter_instalação_local.ipynb) (opcional)\n",
    "2. O ambiente jupyter\n",
    " 1. [Introdução ao ambiente Jupyter](a02_introducao_jupyter.ipynb)\n",
    "3. Hello world\n",
    " 1. [Hello world](a03_hello_world.ipynb) - Primeiro programa usando C++ no ambiente jupyter / xeus-cling\n",
    " 2. [Variáveis em C e o comand cin](a03_variavel_cin.ipynb) - Declaração de variáveis e o comando `cin`\n",
    "4. Visão geral de um programa \n",
    " 1. [Estrutura geral de um programa](a04_programacao_c_parte1.ipynb): bibliotecas, identificadores, \n",
    " 2. [Exemplos](a04_programacao_c_parte2.ipynb)\n",
    "5. Variáveis e tipos de dados\n",
    " 1. [Números inteiros](a05_tipo_dados_int.ipynb): int, short, long, unsigned;\n",
    " 2. [Números reais](a05_tipo_dados_float.ipynb): float, double;\n",
    " 3. [Caracteres](a05_tipo_dados_char.ipynb): char, unsigned char\n",
    " 4. [String](a05_tipo_dados_string.ipynb)\n",
    " 5. [Bool](a05_tipo_dados_bool.ipynb)\n",
    " 6. [Variáveis](a05_variaveis.ipynb): Identificador, conversão de tipos, casting, \n",
    "6. Definindo constantes\n",
    " 1. [const e #define](a06_constantes_define.ipynb)\n",
    "7. Operadores\n",
    " 1. [Operadores matemáticos](a07_operacoes_matematicas.ipynb)\n",
    " 2. [Operadores matemáticos](a07_operacoes_matematicas_parte2.ipynb)\n",
    " 3. [Operadores relacionais e lógicos](a07_operadores_relacionais_e_logicos.ipynb)\n",
    "8. Comandos condicionais\n",
    " 1. [Comando if](a08_comando_condicional_if.ipynb)\n",
    " 2. [Comando if-else](a08_comando_condicional_if_else.ipynb)\n",
    " 3. [Comando if aninhado](a08_comando_condicional_if_aninhado.ipynb)\n"
   ]
  }
 ],
 "metadata": {
  "kernelspec": {
   "display_name": "C++14",
   "language": "C++14",
   "name": "xcpp14"
  },
  "language_info": {
   "codemirror_mode": "text/x-c++src",
   "file_extension": ".cpp",
   "mimetype": "text/x-c++src",
   "name": "c++",
   "version": "14"
  }
 },
 "nbformat": 4,
 "nbformat_minor": 4
}
