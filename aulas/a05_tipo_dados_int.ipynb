{
 "cells": [
  {
   "cell_type": "markdown",
   "metadata": {},
   "source": [
    "# Tipo de dados inteiro\n",
    "\n",
    "Vimos que em C a decalaração de uma variável envolve o **tipo** e o seu **nome**.\n",
    "Dentre os tipos, temos o `int` responsável por armazenar números inteiros.\n",
    "\n",
    "Normalmente, para \"armazenarmos\" o número 42, por exemplo, usamos dois *dígitos* (4 e 2).\n",
    "Se quiséssemos escrever o número 1.000.000 seria necessário usar 7 dígitos.\n",
    "Quando escrevemos, o espaço necessário para armazenar um número é variável, dependendo de seu valor.\n",
    "Se, entretanto, limitássemos o número de dígitos para, por exemplo 6, o maior número que poderíamos escrever seria 999.999.\n",
    "\n",
    "É exatamente isto o que ocorre em C. \n",
    "A maioria dos tipos utiliza um número fixo de bytes de memória.\n",
    "Uma consequência é que existe um limite em quais números podem ser armazenados em uma variável do tipo `int`.\n",
    "\n",
    "Por exemplo, na maioria dos computadores atuais o tipo `int` usa 4 bytes (32 dígitos binários).\n",
    "Usando 32 dígitos **binários** o maior número representável é 11111111 11111111 11111111 11111111 e o menor número 00000000 00000000 00000000 00000000.\n",
    "\n",
    "É fácil ver que com 32 dígitos binários podemos representar $2^{32}$ números diferentes, ou seja, 4294967296.\n",
    "Entretanto, se quisermos representar números negativos, precisamos reservar 1 bit para armazenar o sinal.\n",
    "\n",
    "Por exemplo, suponha que tenhamos 4 bits de memória, e reservamos o bit mais a esquerda como sendo o de sinal.\n",
    "Uma forma mais natural seria utilizar os 3 bits à direita para representar o valor absoluto, e usar o último bit como sinal:\n",
    "\n",
    "![](figuras/bitsinal.png)\n",
    "\n",
    "Entretanto, tal representação apresenta dois problemas:\n",
    "\n",
    "1. O número zero possui 2 formas diferentes de representação (0 e -0).\n",
    "2. A subtração e adição devem ser tratadas de forma diferente.\n",
    "\n",
    "Uma forma mais eficiente é utilizar a representação conhecida como *complemento de 2*, onde substituímos os 0's por 1's e os 1's por 0's, e depois somamos 1 ao resultado:\n",
    "\n",
    "![](figuras/complemento2.png)\n",
    "\n",
    "A vantagem desta forma é que existe apenas uma única representação para o número zero, e a subtração é obtida simplesmente utilizando a operação de adição.\n",
    "\n",
    "Em uma representação com complemento de 2 utilizando $n$ bits o maior inteiro representável é $2^{n-1} - 1$ e o menor inteiro representável é $-2^{n-1}$.\n",
    "Para um número inteiro de 32 bits, o maior número representável é 2147483647 e o menor número é -2147483648.\n",
    "\n",
    "Para saber mais:\n",
    "\n",
    "Por que o computador usa o sistema binário e não o decimal? https://pt.quora.com/Por-que-o-computador-n%C3%A3o-opera-com-sistema-decimal\n",
    "\n",
    "Conversão de binário para decimal e vice-versa: https://www.youtube.com/watch?v=86lI785k6GQ\n",
    "\n",
    "Variáveis e memória: https://www.youtube.com/watch?v=CUtFtjQG2sI\n",
    "\n",
    "Complemento de 2: https://www.youtube.com/watch?v=AML1F6li9Y0"
   ]
  },
  {
   "cell_type": "code",
   "execution_count": null,
   "metadata": {},
   "outputs": [],
   "source": [
    "#include <iostream>\n",
    "using namespace std;"
   ]
  },
  {
   "cell_type": "markdown",
   "metadata": {},
   "source": [
    "Vamos criar algumas variáveis do tipo `int`:"
   ]
  },
  {
   "cell_type": "code",
   "execution_count": null,
   "metadata": {},
   "outputs": [],
   "source": [
    "int a, b, c, d, e, f;"
   ]
  },
  {
   "cell_type": "code",
   "execution_count": null,
   "metadata": {},
   "outputs": [],
   "source": [
    "cout << a << \" \" << b << \" \" << c << \" \" << d << \" \" << e << \" \" << f;"
   ]
  },
  {
   "cell_type": "markdown",
   "metadata": {},
   "source": [
    "<div class=\"alert alert-info\">Observe que normalmente em C não é garantido que as variáveis serão inicializadas com zero.</div>"
   ]
  },
  {
   "cell_type": "code",
   "execution_count": null,
   "metadata": {},
   "outputs": [],
   "source": [
    "a = 43;\n",
    "b = -20;\n",
    "c = 3.74;\n",
    "d = 2147483650;\n",
    "e = 2147483647;\n",
    "f = e + 1;"
   ]
  },
  {
   "cell_type": "code",
   "execution_count": null,
   "metadata": {},
   "outputs": [],
   "source": [
    "cout << a << \" \" << b << \" \" << c << \" \" << d << \" \" << e << \" \" << f;"
   ]
  },
  {
   "cell_type": "markdown",
   "metadata": {},
   "source": [
    "Após executar o código acima, observamos que:\n",
    "\n",
    "1. O valor de c foi truncado para a parte inteira (3);\n",
    "2. Em d, apenas os 32 bits menos significativos do número 2147483650 foi armazenado na variável d;\n",
    "3. f armazenou o número -2147483648, porém nenhum aviso foi emitido;"
   ]
  },
  {
   "cell_type": "markdown",
   "metadata": {},
   "source": [
    "## Armazenando inteiros em C\n",
    "\n",
    "Vimos que o tipo `int` é capaz de armazenar números entre -2147483648 e 2147483647 (em máquinas configuradas para inteiros de 4 bytes).\n",
    "A linguagem C provê também outros tipos de dados para armazenar variáveis inteiras, sendo elas:\n",
    "\n",
    "* short\n",
    "* long \n",
    "* unsigned int\n",
    "* unsigned short \n",
    "* unsigned long"
   ]
  },
  {
   "cell_type": "code",
   "execution_count": null,
   "metadata": {},
   "outputs": [],
   "source": [
    "short s;\n",
    "long l;\n",
    "unsigned int ui;\n",
    "unsigned short us;\n",
    "unsigned long ul;"
   ]
  },
  {
   "cell_type": "code",
   "execution_count": null,
   "metadata": {},
   "outputs": [],
   "source": [
    "s = -32768;\n",
    "l = -9223372036854775808;\n",
    "ui = 4294967295;\n",
    "us = 65535;\n",
    "ul = 18446744073709551615;"
   ]
  },
  {
   "cell_type": "code",
   "execution_count": null,
   "metadata": {},
   "outputs": [],
   "source": [
    "cout << s << \" \" << l << \" \" << ui << \" \" << us << \" \" << ul;"
   ]
  },
  {
   "cell_type": "markdown",
   "metadata": {},
   "source": [
    "## Exercício 1\n",
    "\n",
    "Teste os limites das variáveis acima (s, l, ui, us e ul) e verifique se é possível armazenar números maiores (em valor absoluto)."
   ]
  },
  {
   "cell_type": "code",
   "execution_count": null,
   "metadata": {},
   "outputs": [],
   "source": []
  },
  {
   "cell_type": "markdown",
   "metadata": {},
   "source": [
    "## Exercício 2\n",
    "\n",
    "Atribua o valor -1 às variáveis ui, us e ul. Em seguida, imprima seus valores. Explique o resultado."
   ]
  },
  {
   "cell_type": "code",
   "execution_count": null,
   "metadata": {},
   "outputs": [],
   "source": []
  },
  {
   "cell_type": "markdown",
   "metadata": {},
   "source": [
    "## Exercício 3\n",
    "\n",
    "Crie as variáveis para armazenar as seguintes informações (use o tipo de dado apropriado e escolha um nome adequado):\n",
    "\n",
    "* O dia do ano;\n",
    "* A idade de uma pessoa;\n",
    "* O número de pessoas no planeta;\n",
    "* A evolução do número de células em um determinado experimento;\n",
    "* A altura em metros, de um lugar em relação ao nível do mar;\n",
    "* O saldo de gols de uma equipe de futebol;"
   ]
  },
  {
   "cell_type": "code",
   "execution_count": null,
   "metadata": {},
   "outputs": [],
   "source": []
  },
  {
   "cell_type": "markdown",
   "metadata": {},
   "source": [
    "## Exercício 4\n",
    "\n",
    "Qual o número mínimo de bits para representar o número 6000?"
   ]
  }
 ],
 "metadata": {
  "kernelspec": {
   "display_name": "C++14",
   "language": "C++14",
   "name": "xcpp14"
  },
  "language_info": {
   "codemirror_mode": "text/x-c++src",
   "file_extension": ".cpp",
   "mimetype": "text/x-c++src",
   "name": "c++",
   "version": "14"
  }
 },
 "nbformat": 4,
 "nbformat_minor": 4
}
