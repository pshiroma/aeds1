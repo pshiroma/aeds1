{
 "cells": [
  {
   "cell_type": "markdown",
   "metadata": {},
   "source": [
    "# Variáveis\n",
    "\n",
    "Vamos estudar um pouco mais profundamente sobre as variáveis.\n",
    "Vimos que em um programa, existe a necessidade de guardar valores na memória, e isso é feito através de variáveis, que podem ser definidas como nomes que se referem a lugares na memória onde são guardados valores.\n",
    "Ao declararmos uma variável, não apenas estamos reservando um espaço de memória, como também estamos associando um nome a ele, o identificador. \n",
    "\n",
    "Em C, para utilizar uma variável, ela deve ser primeiramente declarada, ou seja, devemos requisitar o espaço necessário para essa variável.\n",
    "Quando declaramos uma variável usamos a sintaxe:\n",
    "\n",
    "`tipo nome_da_variável;`\n",
    "\n",
    "Após reservar um espaço na memória, o computador irá associar a ele o nome da variável. "
   ]
  },
  {
   "cell_type": "markdown",
   "metadata": {},
   "source": [
    "Quando declaramos uma variável, estamos criando um elemento que pode ser (re-)escrito ou lido ao longo do algoritmo.\n",
    "No lado esquerdo informamos o tipo da variável, que pode ser:\n",
    "\n",
    "* int: [Números inteiros](a05_tipo_dados_int.ipynb)\n",
    "* char: [Caracteres (letras e símbolos)](a05_tipo_dados_char.ipynb)\n",
    "* float: [Números reais](a05_tipo_dados_float.ipynb)\n",
    "* double: [Números reais, com precisão maior](a05_tipo_dados_float.ipynb)\n",
    "\n",
    "Além destes tipos básicos, o C++ também fornece os tipos:\n",
    "\n",
    "* bool: [Variáveis booleanas](a05_tipo_dados_bool.ipynb)\n",
    "* string: Disponível na biblioteca string, serve para armazenar [textos](a05_tipo_dados_string.ipynb)"
   ]
  },
  {
   "cell_type": "markdown",
   "metadata": {},
   "source": [
    "<a id=identificador></a>\n",
    "## Identificador de uma variável\n",
    "\n",
    "O nome de uma variável deve seguir algumas regras:\n",
    "\n",
    "* Deve iniciar por uma letra ou por um \"_\" (underscore);\n",
    "* A partir do segundo caracter pode conter letras, números e underscore;\n",
    "* C é uma linguagem case-sensitive, ou seja, faz diferença entre nomes com letras maiúsculas e nomes com letras minúsculas. Maria e maria são identificadores diferentes;\n",
    "* Não pode ser uma palavra reservada da linguagem (for, if, public, true, false, while, void, break, continue, do, else, etc). \n",
    "Consulte https://www.tutorialspoint.com/Reserved-keywords-in-Cplusplus para uma lista completa.\n",
    "\n",
    "Além disso, é interessante seguir algumas recomendações quando nomeamos uma variável:\n",
    "\n",
    "* Deve-se usar nomes significativos dentro do contexto do programa;\n",
    "* Use maiúsculas e minúsculas para separar palavras: \"PesoDoCarro\" ou o underscore: \"raio_do_pneu;\n",
    "* Evite nomes genéricos como \"a\", \"a1\", \"b\",\n"
   ]
  },
  {
   "cell_type": "markdown",
   "metadata": {},
   "source": [
    "## Conversão entre tipos\n",
    "\n",
    "Quando trabalhamos com variáveis de tipos diferentes é importante sabermos as regras de conversão entre os tipos.\n"
   ]
  },
  {
   "cell_type": "code",
   "execution_count": null,
   "metadata": {},
   "outputs": [],
   "source": [
    "#include <iostream>\n",
    "using namespace std;"
   ]
  },
  {
   "cell_type": "code",
   "execution_count": null,
   "metadata": {},
   "outputs": [],
   "source": [
    "int i;\n",
    "unsigned int ui;\n",
    "short s;\n",
    "char ch;\n",
    "float f;"
   ]
  },
  {
   "cell_type": "code",
   "execution_count": null,
   "metadata": {},
   "outputs": [],
   "source": [
    "i = 7.7;\n",
    "cout << i << endl;"
   ]
  },
  {
   "cell_type": "markdown",
   "metadata": {},
   "source": [
    "A conversão de um número real para um inteiro é feito implicitamente, descartando a parte decimal.\n",
    "\n",
    "<div class=\"alert alert-warning\">É importante destacar que um warning não faz com que o programa deixe de ser executado.</div>"
   ]
  },
  {
   "cell_type": "code",
   "execution_count": null,
   "metadata": {},
   "outputs": [],
   "source": [
    "ch = 'A';\n",
    "i = ch;\n",
    "cout << i << endl;"
   ]
  },
  {
   "cell_type": "markdown",
   "metadata": {},
   "source": [
    "A conversão de uma variável `char` para um inteiro é feito sem problemas."
   ]
  },
  {
   "cell_type": "code",
   "execution_count": null,
   "metadata": {},
   "outputs": [],
   "source": [
    "s = 32768;\n",
    "cout << s << endl;"
   ]
  },
  {
   "cell_type": "markdown",
   "metadata": {},
   "source": [
    "Quando tentamos atribuir um valor maior do que o máximo permitido acontece um aviso de overflow."
   ]
  },
  {
   "cell_type": "code",
   "execution_count": null,
   "metadata": {},
   "outputs": [],
   "source": [
    "f = (1 + 1e10) - 1e10;\n",
    "cout << f << endl;\n",
    "\n",
    "f = (1 + 1e10);\n",
    "f = f - 1e10;\n",
    "cout << f << endl;"
   ]
  },
  {
   "cell_type": "markdown",
   "metadata": {},
   "source": [
    "No primeiro caso a expressão `(1 + 1e10) - 1e10` é calculada primeiro, usando a precisão `double`, e seu valor é posteriormente convertido para `float` e salvo em `f`.\n",
    "\n",
    "No segundo caso a expressão `(1 + 1e10)` é calculada e convertida para `float`.\n",
    "Depois a expressão `f - 1e10` é calculada usando `float` novamente."
   ]
  },
  {
   "cell_type": "markdown",
   "metadata": {},
   "source": [
    "## Conversão explícita (casting)\n",
    "\n",
    "Sempre que convertemos de um tipo para outro com perda de informação é uma boa prática realizarmos a conversão explícita, também chamada de *casting*:"
   ]
  },
  {
   "cell_type": "code",
   "execution_count": null,
   "metadata": {},
   "outputs": [],
   "source": [
    "i = (int) 7.7;\n",
    "cout << i;"
   ]
  },
  {
   "cell_type": "markdown",
   "metadata": {},
   "source": [
    "Observe que quando realizamos o casting o aviso de conversão não mais ocorre."
   ]
  },
  {
   "cell_type": "markdown",
   "metadata": {},
   "source": [
    "## Exemplo\n",
    "\n",
    "Vamos escrever um programa que leia o nome de um aluno, as 3 notas que ele obteve em uma disciplina e mostre a média aritmética obtida."
   ]
  },
  {
   "cell_type": "markdown",
   "metadata": {},
   "source": [
    "## Inclusão das bibliotecas"
   ]
  },
  {
   "cell_type": "code",
   "execution_count": null,
   "metadata": {},
   "outputs": [],
   "source": [
    "#include <iostream>\n",
    "#include <string>\n",
    "using namespace std;"
   ]
  },
  {
   "cell_type": "markdown",
   "metadata": {},
   "source": [
    "## Declaração de variáveis:"
   ]
  },
  {
   "cell_type": "code",
   "execution_count": null,
   "metadata": {},
   "outputs": [],
   "source": [
    "string aluno;\n",
    "float nota1, nota2, nota3, media;"
   ]
  },
  {
   "cell_type": "markdown",
   "metadata": {},
   "source": [
    "## Corpo principal do algoritmo"
   ]
  },
  {
   "cell_type": "code",
   "execution_count": null,
   "metadata": {},
   "outputs": [],
   "source": [
    "cout << \"Qual o nome do aluno? \";\n",
    "cin >> aluno;\n",
    "cout << \"Quanto ele tirou na primeira avaliação? \";\n",
    "cin >> nota1;\n",
    "cout << \"Quanto ele tirou na segunda avaliação? \";\n",
    "cin >> nota2;\n",
    "cout << \"Quanto ele tirou na terceira avaliação? \";\n",
    "cin >> nota3;\n",
    "\n",
    "media = (nota1 + nota2 + nota3)/3.0;\n",
    "cout << \"A média de \" << aluno << \" foi de \" << media << endl;"
   ]
  },
  {
   "cell_type": "markdown",
   "metadata": {},
   "source": [
    "<div class=\"alert alert-warning\">Observe que o comando cin irá falhar se você digitar um nome composto. Veremos mais adiante a função getline</div>"
   ]
  },
  {
   "cell_type": "markdown",
   "metadata": {},
   "source": [
    "# Exercício\n",
    "\n",
    "Crie um programa que leia o nome de um estado ou país, sua população e o pib. Em seguida, calcule o pib per capita e imprima-o."
   ]
  },
  {
   "cell_type": "markdown",
   "metadata": {},
   "source": [
    "## Declaração de variáveis"
   ]
  },
  {
   "cell_type": "code",
   "execution_count": null,
   "metadata": {},
   "outputs": [],
   "source": []
  },
  {
   "cell_type": "markdown",
   "metadata": {},
   "source": [
    "## Corpo principal do algoritmo"
   ]
  },
  {
   "cell_type": "code",
   "execution_count": null,
   "metadata": {},
   "outputs": [],
   "source": []
  }
 ],
 "metadata": {
  "kernelspec": {
   "display_name": "C++14",
   "language": "C++14",
   "name": "xcpp14"
  },
  "language_info": {
   "codemirror_mode": "text/x-c++src",
   "file_extension": ".cpp",
   "mimetype": "text/x-c++src",
   "name": "c++",
   "version": "14"
  }
 },
 "nbformat": 4,
 "nbformat_minor": 4
}
