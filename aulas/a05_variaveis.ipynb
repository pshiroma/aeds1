{
 "cells": [
  {
   "cell_type": "markdown",
   "metadata": {},
   "source": [
    "# Variáveis\n",
    "\n",
    "Vamos estudar um pouco mais profundamente sobre as variáveis.\n",
    "Vimos que em um programa, existe a necessidade de guardar valores na memória, e isso é feito através de variáveis, que podem ser definidas como nomes que se referem a lugares na memória onde são guardados valores.\n",
    "Ao declararmos uma variável, não apenas estamos reservando um espaço de memória, como também estamos associando um nome a ele, o identificador. \n",
    "\n",
    "Em C, para utilizar uma variável, ela deve ser primeiramente declarada, ou seja, devemos requisitar o espaço necessário para essa variável.\n",
    "Quando declaramos uma variável usamos a sintaxe:\n",
    "\n",
    "`tipo nome_da_variável;`\n",
    "\n",
    "Após reservar um espaço na memória, o computador irá associar a ele o nome da variável. "
   ]
  },
  {
   "cell_type": "markdown",
   "metadata": {},
   "source": [
    "Quando declaramos uma variável, estamos criando um elemento que pode ser (re-)escrito ou lido ao longo do algoritmo.\n",
    "No lado esquerdo informamos o tipo da variável, que pode ser:\n",
    "\n",
    "* int: [Números inteiros](a05_tipo_dados_int.ipynb)\n",
    "* char: [Caracteres (letras e símbolos)](a05_tipo_dados_char.ipynb)\n",
    "* float: [Números reais](a05_tipo_dados_float.ipynb)\n",
    "* double: [Números reais, com precisão maior](a05_tipo_dados_float.ipynb)\n",
    "\n",
    "Além destes tipos básicos, o C++ também fornece os tipos:\n",
    "\n",
    "* bool: [Variáveis booleanas](a05_tipo_dados_bool.ipynb)\n",
    "* string: Disponível na biblioteca string, serve para armazenar [textos](a05_tipo_dados_string.ipynb)"
   ]
  },
  {
   "cell_type": "markdown",
   "metadata": {},
   "source": [
    "<a id=identificador></a>\n",
    "## Identificador de uma variável\n",
    "\n",
    "O nome de uma variável deve seguir algumas regras:\n",
    "\n",
    "* Deve iniciar por uma letra ou por um \"_\" (underscore);\n",
    "* A partir do segundo caracter pode conter letras, números e underscore;\n",
    "* C é uma linguagem case-sensitive, ou seja, faz diferença entre nomes com letras maiúsculas e nomes com letras minúsculas. Maria e maria são identificadores diferentes;\n",
    "* Não pode ser uma palavra reservada da linguagem (for, if, public, true, false, while, void, break, continue, do, else, etc). \n",
    "Consulte https://www.tutorialspoint.com/Reserved-keywords-in-Cplusplus para uma lista completa.\n",
    "\n",
    "Além disso, é interessante seguir algumas recomendações quando nomeamos uma variável:\n",
    "\n",
    "* Deve-se usar nomes significativos dentro do contexto do programa;\n",
    "* Use maiúsculas e minúsculas para separar palavras: \"PesoDoCarro\" ou o underscore: \"raio_do_pneu;\n",
    "* Evite nomes genéricos como \"a\", \"a1\", \"b\",\n"
   ]
  }
 ],
 "metadata": {
  "kernelspec": {
   "display_name": "C++14",
   "language": "C++14",
   "name": "xcpp14"
  },
  "language_info": {
   "codemirror_mode": "text/x-c++src",
   "file_extension": ".cpp",
   "mimetype": "text/x-c++src",
   "name": "c++",
   "version": "14"
  }
 },
 "nbformat": 4,
 "nbformat_minor": 4
}
