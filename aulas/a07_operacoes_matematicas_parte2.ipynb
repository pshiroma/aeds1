{
 "cells": [
  {
   "cell_type": "markdown",
   "metadata": {},
   "source": [
    "[**&#10094; Previous**](a07_operacoes_matematicas.ipynb) | [**Home**](a00_aeds1.ipynb) | [**Next &#10095;**](a07_operadores_relacionais_e_logicos.ipynb)"
   ]
  },
  {
   "cell_type": "markdown",
   "metadata": {},
   "source": [
    "# Operações matemáticas\n",
    "\n",
    "Vimos [anteriormente](a07_operacoes_matematicas.ipynb) as seguintes operações matemáticas em C:"
   ]
  },
  {
   "cell_type": "markdown",
   "metadata": {},
   "source": [
    "## Operações básicas:"
   ]
  },
  {
   "cell_type": "code",
   "execution_count": 1,
   "metadata": {},
   "outputs": [],
   "source": [
    "#include <iostream>\n",
    "#include <cmath>\n",
    "using namespace std;"
   ]
  },
  {
   "cell_type": "code",
   "execution_count": 2,
   "metadata": {},
   "outputs": [],
   "source": [
    "float f;"
   ]
  },
  {
   "cell_type": "code",
   "execution_count": 6,
   "metadata": {},
   "outputs": [],
   "source": [
    "int i;"
   ]
  },
  {
   "cell_type": "code",
   "execution_count": 12,
   "metadata": {},
   "outputs": [
    {
     "name": "stdout",
     "output_type": "stream",
     "text": [
      "1.75\n",
      "3.5\n",
      "4\n",
      "3\n"
     ]
    }
   ],
   "source": [
    "f = (10 + 5) / 20.0;\n",
    "f++;\n",
    "cout << f << endl;\n",
    "\n",
    "f *= 2;\n",
    "cout << f << endl;\n",
    "\n",
    "i = 25 % 7;\n",
    "cout << i << endl;\n",
    "\n",
    "i = 25 / 7;\n",
    "cout << i << endl;"
   ]
  },
  {
   "cell_type": "markdown",
   "metadata": {},
   "source": [
    "* O uso dos parênteses força que a soma (10 + 5) aconteça antes da divisão;\n",
    "* O uso do `float` 20.0 força o uso da divisão de números reais, e não a divisão de números inteiros;\n",
    "* O operador `++` realiza o incremento de 1 na variável `f`;\n",
    "* O operador `*=` multiplica `f` por 2 e salva o resultado na própria variável;\n",
    "* O operador `%` retorna o resto da divisão entre 2 números inteiros;\n",
    "* Na operação 25/7 é realizado a divisão de 2 números inteiros, e o resultado é um número inteiro."
   ]
  },
  {
   "cell_type": "markdown",
   "metadata": {},
   "source": [
    "## Outras operações matemáticas\n",
    "\n",
    "Além das operações básicas, também temos disponível na biblioteca `cmath` diversas outras funções matemáticas, a saber:"
   ]
  },
  {
   "cell_type": "markdown",
   "metadata": {},
   "source": [
    "## Constantes\n",
    "\n",
    "Vamos definir 2 constantes para fazer a conversão de graus para radianos e vice-versa:"
   ]
  },
  {
   "cell_type": "code",
   "execution_count": 45,
   "metadata": {},
   "outputs": [],
   "source": [
    "// definindo a constante DEG2RAD que converte um ângulo de graus para radianos (2*pi/360)\n",
    "// definindo a constante RAD2DEG que converte um ângulo de radianos para graus (360/2*pi)\n",
    "#define DEG2RAD 0.0174532925199433\n",
    "#define RAD2DEG 57.2957795130823"
   ]
  },
  {
   "cell_type": "markdown",
   "metadata": {},
   "source": [
    "## Declaração de variáveis"
   ]
  },
  {
   "cell_type": "code",
   "execution_count": 13,
   "metadata": {},
   "outputs": [],
   "source": [
    "float theta;\n",
    "float tangente;"
   ]
  },
  {
   "cell_type": "markdown",
   "metadata": {},
   "source": [
    "## Corpo do código"
   ]
  },
  {
   "cell_type": "code",
   "execution_count": 74,
   "metadata": {},
   "outputs": [
    {
     "name": "stdout",
     "output_type": "stream",
     "text": [
      "0.5\n",
      "0.866025388240814\n",
      "0.577350318431854\n",
      "0.547853469848633\n",
      "1.1402382850647\n",
      "0.480472832918167\n",
      "30\n",
      "60\n",
      "30.000000834826\n",
      "30.0000021160288\n",
      "-149.999997883971\n"
     ]
    }
   ],
   "source": [
    "theta = 30*DEG2RAD;\n",
    "\n",
    "// funções de seno, cosseno e tangente:\n",
    "cout << sin(theta) << endl;\n",
    "cout << cos(theta) << endl;\n",
    "cout << tan(theta) << endl;\n",
    "\n",
    "// funções de seno hiperbólico, cosseno hiperbólico e tangente hiperbólica:\n",
    "cout << sinh(theta) << endl;\n",
    "cout << cosh(theta) << endl;\n",
    "cout << tanh(theta) << endl;\n",
    "\n",
    "// funções de arco seno, arco cosseno:\n",
    "cout << asin(0.5)*RAD2DEG << endl;\n",
    "cout << acos(0.5)*RAD2DEG << endl;\n",
    "\n",
    "tangente = tan(theta);\n",
    "// funções de arco tangente:\n",
    "cout << atan(tangente)*RAD2DEG << endl;\n",
    "cout << atan2(tangente,1)*RAD2DEG << endl;\n",
    "cout << atan2(-tangente,-1)*RAD2DEG << endl;"
   ]
  },
  {
   "cell_type": "markdown",
   "metadata": {},
   "source": [
    "No código acima, vimos como chamar as funções trigonométricas em C, em especial, vale notar que:\n",
    "\n",
    "* As funções trigonométricas trabalham sempre com ângulos fornecidos em radianos. É necessário realizar a conversão para graus sempre que necessário.\n",
    "* A função arco tangente possui 2 implementações:\n",
    " * `atan(a)` que recebe apenas um argumento (a) e calcula o arco tangente de `a`.\n",
    " A função `atan` retorna um ângulo no intervalo de $-\\pi/2$ à $\\pi/2$ .\n",
    " * `atan2(y,x)` que recebe 2 argumentos, e calcula o arco tangente de y/x.\n",
    " A função `atan2` retorna um ângulo no intervalo de $-\\pi$ à $\\pi$ .\n"
   ]
  },
  {
   "cell_type": "markdown",
   "metadata": {},
   "source": [
    "## Outras funções matemáticas\n",
    "\n",
    "Veremos adiante outras funções matemáticas:"
   ]
  },
  {
   "cell_type": "code",
   "execution_count": 92,
   "metadata": {},
   "outputs": [
    {
     "name": "stdout",
     "output_type": "stream",
     "text": [
      "7.38905620574951\n",
      "8\n",
      "6\n",
      "1\n",
      "2\n",
      "13\n",
      "-12\n",
      "14\n",
      "-15\n",
      "2.5\n",
      "1.5\n"
     ]
    }
   ],
   "source": [
    "// e^2\n",
    "f = exp(2);\n",
    "cout << f << endl;\n",
    "\n",
    "// 2^3\n",
    "f = pow(2,3);\n",
    "cout << f << endl;\n",
    "\n",
    "// raiz quadrada\n",
    "f = sqrt(36);\n",
    "cout << f << endl;\n",
    "\n",
    "// ln(e)\n",
    "f = log(exp(1));\n",
    "cout << f << endl;\n",
    "\n",
    "// log_10(100)\n",
    "f = log10(100);\n",
    "cout << f << endl;\n",
    "\n",
    "// arrendondamento, truncamento\n",
    "f = ceil(12.5);\n",
    "cout << f << endl;\n",
    "f = ceil(-12.5);\n",
    "cout << f << endl;\n",
    "\n",
    "f = floor(14.5);\n",
    "cout << f << endl;\n",
    "f = floor(-14.5);\n",
    "cout << f << endl;\n",
    "\n",
    "// valor absoluto\n",
    "f = fabs(-2.5);\n",
    "cout << f << endl;\n",
    "\n",
    "// resto usando ponto flutuante\n",
    "f = fmod(9,2.5);\n",
    "cout << f << endl;"
   ]
  },
  {
   "cell_type": "markdown",
   "metadata": {},
   "source": [
    "## Exercício 1\n",
    "\n",
    "Suponha que você queira fazer uma simulação referente a uma aplicação.\n",
    "Você irá fazer um aporte inicial e o seu capital irá ser atualizado mensalmente, conforme a taxa fornecida pelo usuário.\n",
    "\n",
    "A fórmula para calcular o montante final é [dado por](https://www.todamateria.com.br/juros-compostos/):\n",
    "\n",
    "$M = C(1 + i)^t$\n",
    "\n",
    "onde:\n",
    "\n",
    "* M: montante final obtido ao final da aplicação;\n",
    "* C: capital inicial investido;\n",
    "* i: taxa de juros;\n",
    "* t: período de tempo;\n",
    "\n",
    "Crie um programa que leia os valores do capital inicial, taxa de juros e período de tempo e calcule o montante final obtido."
   ]
  },
  {
   "cell_type": "markdown",
   "metadata": {},
   "source": [
    "### Declaração de variáveis"
   ]
  },
  {
   "cell_type": "code",
   "execution_count": null,
   "metadata": {},
   "outputs": [],
   "source": []
  },
  {
   "cell_type": "markdown",
   "metadata": {},
   "source": [
    "### Corpo do algoritmo"
   ]
  },
  {
   "cell_type": "code",
   "execution_count": null,
   "metadata": {},
   "outputs": [],
   "source": []
  },
  {
   "cell_type": "markdown",
   "metadata": {},
   "source": [
    "## Exercício 2\n",
    "\n",
    "Para este exercício considere os valores das massas atômicas:\n",
    "\n",
    "$H = 1u$ e $O = 16u$\n",
    "\n",
    "e considere $6.022 \\times 10^{23}$ para a constante de Avogadro.\n",
    "\n",
    "Escreva um programa que pergunte ao usuário a quantidade de água, dado em gramas, e determine a quantidade de móleculas de água presentes.\n",
    "\n",
    "Consulte: https://mundoeducacao.bol.uol.com.br/quimica/mol.htm"
   ]
  },
  {
   "cell_type": "markdown",
   "metadata": {},
   "source": [
    "### Declaração de variáveis"
   ]
  },
  {
   "cell_type": "code",
   "execution_count": null,
   "metadata": {},
   "outputs": [],
   "source": []
  },
  {
   "cell_type": "markdown",
   "metadata": {},
   "source": [
    "### Corpo do algoritmo"
   ]
  },
  {
   "cell_type": "code",
   "execution_count": null,
   "metadata": {},
   "outputs": [],
   "source": []
  },
  {
   "cell_type": "markdown",
   "metadata": {},
   "source": [
    "## Exercício 3\n",
    "\n",
    "Sabendo que para queimar 1,0 litro de álcool são necessários aproximadamente 6.000 litros de ar e que um litro de ar pesa aproximadamente 1,29g, crie um programa que leia a quantidade de combustível abastecido e calcule a massa de ar consumida."
   ]
  },
  {
   "cell_type": "markdown",
   "metadata": {},
   "source": [
    "### Declaração de variáveis"
   ]
  },
  {
   "cell_type": "code",
   "execution_count": null,
   "metadata": {},
   "outputs": [],
   "source": []
  },
  {
   "cell_type": "markdown",
   "metadata": {},
   "source": [
    "### Corpo do algoritmo"
   ]
  },
  {
   "cell_type": "code",
   "execution_count": null,
   "metadata": {},
   "outputs": [],
   "source": []
  },
  {
   "cell_type": "markdown",
   "metadata": {},
   "source": [
    "## Exercício 4\n",
    "\n",
    "Considere que a gasolina seja constituída apenas de 2,2,4-trimetil-pentano. \n",
    "Escreva um programa que leia a quantidade de gasolina abastecida por um veículo (em kg) e determine a quantidade de oxigênio consumido (em kg) e a quantidade de dióxido de carbono (em kg) que será lançada de volta na atmosfera.\n",
    "Dados: \n",
    "\n",
    "C=12u; O=16u\n",
    "\n",
    "$1 C_8H_{18} + \\frac{25}{2} O_2 \\rightarrow 8 CO_2 + 9 H_2O$"
   ]
  },
  {
   "cell_type": "markdown",
   "metadata": {},
   "source": [
    "### Declaração de variáveis"
   ]
  },
  {
   "cell_type": "code",
   "execution_count": null,
   "metadata": {},
   "outputs": [],
   "source": []
  },
  {
   "cell_type": "markdown",
   "metadata": {},
   "source": [
    "### Corpo do algoritmo"
   ]
  },
  {
   "cell_type": "code",
   "execution_count": null,
   "metadata": {},
   "outputs": [],
   "source": []
  },
  {
   "cell_type": "markdown",
   "metadata": {},
   "source": [
    "## Exercício 5\n",
    "\n",
    "Fonte: https://brasilescola.uol.com.br/matematica/aplicacoes-das-leis-trigonometricas-um-triangulo-seno-.htm\n",
    "\n",
    "O construtor deseja calcular a distância do ponto A ao ponto C, pontos onde a ponte será construída, entretanto ele não possui nenhuma ferramenta que meça essa distância, mas ele conhece de matemática e teve a seguinte ideia. “Como eu possuo uma ferramenta que calcula ângulos, conseguirei determinar o comprimento desta ponte”. Com isso ele marcou um ponto B, calculou o ângulo BÂC que foi igual a 85°, caminhou até o ponto B, uma distância de 2km, e calculou o ângulo ABC obtendo um ângulo de 65°. O construtor acredita que com essas informações será possível calcular o comprimento da ponte.\n",
    "\n",
    "![](figuras/triang1.jpg)\n",
    "\n",
    "Sabendo que a lei dos senos nos diz que:\n",
    "\n",
    "$\n",
    "\\frac{\\overline{BC}}{\\sin{\\hat{A}}} = \\frac{\\overline{AB}}{\\sin{\\hat{C}}} = \\frac{\\overline{AC}}{\\sin{\\hat{B}}}\n",
    "$\n",
    "\n",
    "Escreva um programa que leia os ângulos ABC e BAC e a distância $\\overline{AB}$ e determine o tamanho do segmento $\\overline{AC}$."
   ]
  },
  {
   "cell_type": "markdown",
   "metadata": {},
   "source": [
    "### Declaração de variáveis"
   ]
  },
  {
   "cell_type": "code",
   "execution_count": null,
   "metadata": {},
   "outputs": [],
   "source": []
  },
  {
   "cell_type": "markdown",
   "metadata": {},
   "source": [
    "### Corpo do algoritmo"
   ]
  },
  {
   "cell_type": "code",
   "execution_count": null,
   "metadata": {},
   "outputs": [],
   "source": []
  },
  {
   "cell_type": "markdown",
   "metadata": {},
   "source": [
    "## Exercício 6\n",
    "\n",
    "Suponha que desejemos medir a altura de um objeto (um prédio, uma montanha, etc).\n",
    "A partir de um ponto C, utilizando um instrumento de medição de ângulo chamado \"Estação Total\", medimos o\n",
    "ângulo $\\alpha$. \n",
    "Afastando uma distância conhecida, por exemplo 50m, do ponto C marcamos o ponto \"imaginário\" D.\n",
    "Do ponto D medimos o ângulo $\\beta$, conforme figura abaixo:\n",
    "\n",
    "![https://sca.profmat-sbm.org.br/sca_v2/get_tcc3.php?id=81959](figuras/oliveira2015.png)\n",
    "\n",
    "A partir da geometria temos que:\n",
    "\n",
    "$\n",
    "\\tan{\\alpha} = \\frac{h'}{x}\n",
    "$ e \n",
    "$\n",
    "\\tan{\\beta} = \\frac{h'}{x + 50}\n",
    "$\n",
    "\n",
    "Isolando $x$ na primeira equação e manipulando a segunda equação obtemos a seguinte expressão:\n",
    "\n",
    "$\n",
    "h' = \\frac{50\\tan{\\alpha} \\tan{\\beta} }{\\tan{\\alpha} - \\tan{\\beta} }\n",
    "$\n",
    "\n",
    "Sabendo que a estação total está a uma altura de 1,5m do chão, a altura final é dada por:\n",
    "\n",
    "$\n",
    "h = h' + 1.5\n",
    "$\n",
    "\n",
    "Fonte: [Oliveira, Joerk da Silva \"Aplicações da trigonometria na matemática\"](https://sca.profmat-sbm.org.br/sca_v2/get_tcc3.php?id=81959)\n",
    "\n",
    "Escreva um programa que leia os dados fornecidos pela estação total e calcule a altura do objeto.\n"
   ]
  },
  {
   "cell_type": "markdown",
   "metadata": {},
   "source": [
    "### Declaração de variáveis"
   ]
  },
  {
   "cell_type": "code",
   "execution_count": null,
   "metadata": {},
   "outputs": [],
   "source": []
  },
  {
   "cell_type": "markdown",
   "metadata": {},
   "source": [
    "### Corpo do algoritmo"
   ]
  },
  {
   "cell_type": "code",
   "execution_count": null,
   "metadata": {},
   "outputs": [],
   "source": []
  },
  {
   "cell_type": "markdown",
   "metadata": {},
   "source": [
    "## Exercício 7\n",
    "\n",
    "Medir as distâncias de estrelas sempre foi um desafio, pois diferentemente das medições diretas feitas na Terra, não é possível levar uma regua até as estrelas.\n",
    "Uma forma utilizada a muitos anos é conhecido como método da paralaxe.\n",
    "\n",
    "Leia o poster [Teixeira, Helena \"Aplicações da trigonometria na astronomia - Medição de distâncias pelo método da paralaxe\", ](http://www.cienciaviva.pt/img/Poster_HTeixeira.pdf).\n",
    "\n",
    "Em seguida, escreva um programa que calcule a distância de uma estrela.\n"
   ]
  },
  {
   "cell_type": "markdown",
   "metadata": {},
   "source": [
    "### Declaração de variáveis"
   ]
  },
  {
   "cell_type": "code",
   "execution_count": null,
   "metadata": {},
   "outputs": [],
   "source": []
  },
  {
   "cell_type": "markdown",
   "metadata": {},
   "source": [
    "### Corpo do algoritmo"
   ]
  },
  {
   "cell_type": "code",
   "execution_count": null,
   "metadata": {},
   "outputs": [],
   "source": []
  },
  {
   "cell_type": "markdown",
   "metadata": {},
   "source": [
    "## Exercício - rebite\n",
    "\n",
    "Leia o arquivo disponível em https://essel.com.br/cursos/material/01/EnsaioMateriais/ensa07.pdf\n",
    "\n",
    "Crie um algoritmo que determine o número de rebites necessário para unir duas chapas de aço, sabendo que:\n",
    "\n",
    "* a tensão de cisalhamento (TC) equivalente a 75\\% da tensão de tração (T)\n",
    "* a tensão de tração (T) suportada por cada rebite é 650 MPa\n",
    "* o diâmetro (D) de cada rebite é de 4mm\n",
    "* as chapas suportarão uma força cortante (F) fornecida pelo usuário\n",
    "\n",
    "O número de rebites é dado por $n = \\frac{F}{TC \\cdot S}$, onde\n",
    "\n",
    "$S = \\frac{\\pi D^2}{4}$ é a área da seção transversal do rebite."
   ]
  },
  {
   "cell_type": "markdown",
   "metadata": {},
   "source": [
    "### Declaração de constantes"
   ]
  },
  {
   "cell_type": "code",
   "execution_count": null,
   "metadata": {},
   "outputs": [],
   "source": []
  },
  {
   "cell_type": "markdown",
   "metadata": {},
   "source": [
    "### Declaração de variáveis"
   ]
  },
  {
   "cell_type": "code",
   "execution_count": null,
   "metadata": {},
   "outputs": [],
   "source": []
  },
  {
   "cell_type": "markdown",
   "metadata": {},
   "source": [
    "### Corpo do algoritmo"
   ]
  },
  {
   "cell_type": "code",
   "execution_count": null,
   "metadata": {},
   "outputs": [],
   "source": []
  },
  {
   "cell_type": "markdown",
   "metadata": {},
   "source": [
    "[**&#10094; Previous**](a07_operacoes_matematicas.ipynb) | [**Home**](a00_aeds1.ipynb) | [**Next &#10095;**](a07_operadores_relacionais_e_logicos.ipynb)"
   ]
  }
 ],
 "metadata": {
  "kernelspec": {
   "display_name": "C++14",
   "language": "C++14",
   "name": "xcpp14"
  },
  "language_info": {
   "codemirror_mode": "text/x-c++src",
   "file_extension": ".cpp",
   "mimetype": "text/x-c++src",
   "name": "c++",
   "version": "14"
  }
 },
 "nbformat": 4,
 "nbformat_minor": 4
}
