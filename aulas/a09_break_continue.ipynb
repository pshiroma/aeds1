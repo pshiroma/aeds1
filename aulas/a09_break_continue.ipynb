{
 "cells": [
  {
   "cell_type": "markdown",
   "metadata": {},
   "source": [
    "[**&#10094; Previous**](a09_variavel_for.ipynb) | [**Home**](a00_aeds1.ipynb) | [**Next &#10095;**](a10_arquivos.ipynb)"
   ]
  },
  {
   "cell_type": "code",
   "execution_count": 1,
   "metadata": {},
   "outputs": [],
   "source": [
    "#include <iostream>\n",
    "using namespace std;"
   ]
  },
  {
   "cell_type": "markdown",
   "metadata": {},
   "source": [
    "# Break e continue\n",
    "\n",
    "Em alguns casos queremos alterar o fluxo normal do funcionamento do laço, seja ele o `for`, o `while` ou o `do .. while`.\n",
    "Nestas situações a linguagem C fornece duas alternativas:\n",
    "\n",
    "* `break`: O comando `break` faz com que o programa saia do laço, como se ele tivesse terminado;\n",
    "\n",
    "![break](figuras/tikz/fluxograma_break.png)\n",
    "\n",
    "* `continue`: O comando `continue` faz com que a <a title=\"Cada repetição do laço é chamado de iteração\">iteração</a> termine, avançando imediatamente para a próxima iteração, imediatamente antes do teste de saída.\n",
    "\n",
    "![continue](figuras/tikz/fluxograma_continue.png)\n"
   ]
  },
  {
   "cell_type": "markdown",
   "metadata": {},
   "source": [
    "## Exemplo do comando break"
   ]
  },
  {
   "cell_type": "code",
   "execution_count": 7,
   "metadata": {},
   "outputs": [],
   "source": [
    "int a= 0, b = 10;"
   ]
  },
  {
   "cell_type": "code",
   "execution_count": 8,
   "metadata": {},
   "outputs": [
    {
     "name": "stdout",
     "output_type": "stream",
     "text": [
      "11"
     ]
    }
   ],
   "source": [
    "while (true) {\n",
    "    a++;\n",
    "    if (a > b)\n",
    "        break;\n",
    "}\n",
    "cout << a;"
   ]
  },
  {
   "cell_type": "markdown",
   "metadata": {},
   "source": [
    "À primeira vista, o comando `while` acima é um laço infinito mas, ao executarmos verificamos que o mesmo termina quando o comando `break` é executado.\n",
    "Ou seja, quando a condição `a > b` torna-se verdadeira."
   ]
  },
  {
   "cell_type": "markdown",
   "metadata": {},
   "source": [
    "## Exemplo do comando continue"
   ]
  },
  {
   "cell_type": "code",
   "execution_count": 9,
   "metadata": {},
   "outputs": [],
   "source": [
    "int i;"
   ]
  },
  {
   "cell_type": "code",
   "execution_count": 14,
   "metadata": {},
   "outputs": [
    {
     "name": "stdout",
     "output_type": "stream",
     "text": [
      "0\n",
      "4\n",
      "8\n",
      "12\n",
      "16\n"
     ]
    }
   ],
   "source": [
    "for (i = 0; i < 20; i++)\n",
    "{\n",
    "    if (i % 4 != 0)\n",
    "        continue;\n",
    "    cout << i << endl;\n",
    "}"
   ]
  },
  {
   "cell_type": "markdown",
   "metadata": {},
   "source": [
    "Este laço `for` executa 20 iterações, com a variável `i` variando de 0 até 19.\n",
    "Toda vez que ela não for divisível por 4 (`i % 4 != 0`) ele salta para a próxima iteração.\n",
    "Quando for divisível, ele imprime o valor de `i`."
   ]
  },
  {
   "cell_type": "markdown",
   "metadata": {},
   "source": [
    "[**&#10094; Previous**](a09_variavel_for.ipynb) | [**Home**](a00_aeds1.ipynb) | [**Next &#10095;**](a10_arquivos.ipynb)"
   ]
  }
 ],
 "metadata": {
  "kernelspec": {
   "display_name": "C++14",
   "language": "C++14",
   "name": "xcpp14"
  },
  "language_info": {
   "codemirror_mode": "text/x-c++src",
   "file_extension": ".cpp",
   "mimetype": "text/x-c++src",
   "name": "c++",
   "version": "14"
  }
 },
 "nbformat": 4,
 "nbformat_minor": 4
}
