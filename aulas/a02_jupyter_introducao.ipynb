{
 "cells": [
  {
   "cell_type": "markdown",
   "metadata": {},
   "source": [
    "# Introdução ao jupyter\n",
    "\n",
    "Vamos aprender sobre o funcionamento básico de um notebook do jupyter.\n",
    "\n",
    "Um notebook é dividido em uma ou mais células, e cada célula pode ser do tipo:\n",
    "\n",
    "* Markdown: Usado para escrever anotações, equações matemáticas, inserir figuras ou links para vídeos. Por exemplo, esta célula que você esta lendo no momento é do tipo Markdown;\n",
    "* Code: Usado para escrever e executar códigos em uma linguagem de programação. Por exemplo, a célula abaixo é do tipo Code. Selecione a célula abaixo e dê um clique no botão __Run__:  <img src='figuras/run.png'>"
   ]
  },
  {
   "cell_type": "code",
   "execution_count": 1,
   "metadata": {},
   "outputs": [
    {
     "data": {
      "text/plain": [
       "1.0000000"
      ]
     },
     "execution_count": 1,
     "metadata": {},
     "output_type": "execute_result"
    }
   ],
   "source": [
    "cos(0)"
   ]
  },
  {
   "cell_type": "markdown",
   "metadata": {},
   "source": [
    "Para identificar o tipo de célula, basta observar o lado esquerdo:\n",
    "<img src='figuras/code_cell.png'>\n",
    "O número [1] indica que esta célula é a primeira célula que foi executada no notebook."
   ]
  },
  {
   "cell_type": "markdown",
   "metadata": {},
   "source": [
    "## Comandos principais \n",
    "\n",
    "A seguir uma breve descrição dos principais comandos usados para trabalhar com células dentro do jupyter:\n",
    "\n",
    "* Para navegar por entre as células, basta usar as setas $\\uparrow$ ou $\\downarrow$ do teclado.\n",
    "* Para editar uma célula, use a tecla __Enter__\n",
    "* Para sair do modo de edição, use a tecla __Esc__\n",
    "* Para executar uma célula de código novamente, use a combinação __Shift-Enter__ ou __Ctrl-Enter__\n",
    "* Para inserir uma célula abaixo, use a tecla __b__, para inserir acima, use a tecla __a__\n",
    "* Para cortar uma célula, use a tecla __x__, para colar, use a tecla __v__\n",
    "* Para outras funções, consulte as teclas de atalho no __Help__ ou use a combinação __Shift-Ctrl-P__"
   ]
  },
  {
   "cell_type": "markdown",
   "metadata": {},
   "source": [
    "Vamos fazer treinar um pouco:\n",
    "\n",
    "Entre no modo de edição (__Enter__). \n",
    "\n",
    "Edite etsa cléula e crorjia os erors enocnrtaods.\n",
    "\n",
    "Execute a célula (__Ctrl-Enter__) para mostrar os resultados"
   ]
  },
  {
   "cell_type": "markdown",
   "metadata": {},
   "source": [
    "Em seguida, mova a célula acima para baixo desta (use as teclas de atalho __x__ e __v__)"
   ]
  },
  {
   "cell_type": "markdown",
   "metadata": {},
   "source": [
    "Insira uma nova célula abaixo desta (tecla __b__)"
   ]
  },
  {
   "cell_type": "markdown",
   "metadata": {},
   "source": [
    "## Programando em C++\n",
    "\n",
    "A linguagem C++ apresentada neste tutorial é ligeiramente diferente daquele encontrada em outros compiladores como Codeblocks, Visual Studio ou GCC.\n",
    "\n",
    "A principal mudança consiste que o C++ implementando no xeus-cling é um __interpretador__ e não um __compilador__."
   ]
  },
  {
   "cell_type": "code",
   "execution_count": null,
   "metadata": {},
   "outputs": [],
   "source": [
    "#include <iostream>\n",
    "using namespace std;"
   ]
  },
  {
   "cell_type": "markdown",
   "metadata": {},
   "source": [
    "http://3.17.73.154/hub/user-redirect/git-pull?repo=https%3A%2F%2Fgithub.com%2Fpshiroma%2Faeds1&branch=master&subPath=aulas&app=notebook>\n",
    "    \n",
    "http://3.17.73.154/hub/user-redirect/git-pull?repo=https%3A%2F%2Fgithub.com%2Fpshiroma%2Faeds1&branch=master&subPath=aulas/a01_jupyter.ipynb&app=notebook>\n"
   ]
  }
 ],
 "metadata": {
  "kernelspec": {
   "display_name": "C++14",
   "language": "C++14",
   "name": "xcpp14"
  },
  "language_info": {
   "codemirror_mode": "text/x-c++src",
   "file_extension": ".cpp",
   "mimetype": "text/x-c++src",
   "name": "c++",
   "version": "14"
  }
 },
 "nbformat": 4,
 "nbformat_minor": 4
}
