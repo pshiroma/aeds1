{
 "cells": [
  {
   "cell_type": "markdown",
   "metadata": {},
   "source": [
    "# Tipo de dados CHAR\n",
    "\n",
    "O tipo de dados `char` é um tipo de dados que utiliza 1 byte (8 bits).\n",
    "O tipo `char` é capaz de representar 256 valores distintos.\n",
    "O intervalo de valores aceitos no tipo `char` varia de -128 até 127.\n",
    "\n",
    "Também podemos usar o tipo `unsigned char`, neste caso o intervalo varia de 0 à 255.\n",
    "\n",
    "https://pt.wikibooks.org/wiki/Programar_em_C/Tipos_de_dados\n",
    "\n",
    "https://br.ccm.net/faq/10173-linguagem-c-os-tipos-de-dados"
   ]
  },
  {
   "cell_type": "code",
   "execution_count": 1,
   "metadata": {},
   "outputs": [],
   "source": [
    "#include <iostream>\n",
    "using namespace std;"
   ]
  },
  {
   "cell_type": "code",
   "execution_count": 2,
   "metadata": {},
   "outputs": [],
   "source": [
    "char ch;\n",
    "unsigned char uch;"
   ]
  },
  {
   "cell_type": "code",
   "execution_count": 13,
   "metadata": {},
   "outputs": [
    {
     "name": "stdout",
     "output_type": "stream",
     "text": [
      "A H\n"
     ]
    }
   ],
   "source": [
    "ch = 65;\n",
    "uch = 72;\n",
    "cout << ch << \" \" << uch << endl;"
   ]
  },
  {
   "cell_type": "markdown",
   "metadata": {},
   "source": [
    "<div class=\"alert alert-info\">Observe que ao invés de imprimir 65 e 72 foram impressos 'A' e 'H' (caracteres correspondentes na tabela ASCII).</div>"
   ]
  },
  {
   "cell_type": "code",
   "execution_count": 7,
   "metadata": {},
   "outputs": [
    {
     "name": "stdout",
     "output_type": "stream",
     "text": [
      "X &\n"
     ]
    }
   ],
   "source": [
    "ch = 'X';\n",
    "uch = '&';\n",
    "cout << ch << \" \" << uch << endl;"
   ]
  },
  {
   "cell_type": "markdown",
   "metadata": {},
   "source": [
    "Observamos que as variáveis do tipo `char` e `unsigned char` podem ser tratadas tanto como números ou como caracteres (letras, dígitos ou símbolos especiais).\n",
    "\n",
    "Caracteres são declaradas usando aspas simples, e podem ser:\n",
    "\n",
    "* Letras: 'a', 'B';\n",
    "* Dígitos: '0';\n",
    "* Símbolos: '?';\n",
    "* Caracteres especiais (não imprimíveis): 10 - LF (line feed), 13 - CR (carriage return);\n",
    "\n",
    "https://pt.wikipedia.org/wiki/ASCII"
   ]
  },
  {
   "cell_type": "code",
   "execution_count": 9,
   "metadata": {},
   "outputs": [],
   "source": [
    "char letra;\n",
    "unsigned char letra2, letra3, letra4, letra5;"
   ]
  },
  {
   "cell_type": "code",
   "execution_count": 10,
   "metadata": {},
   "outputs": [
    {
     "name": "stdout",
     "output_type": "stream",
     "text": [
      "A E D S 1"
     ]
    }
   ],
   "source": [
    "letra = 65;\n",
    "letra2 = 69;\n",
    "letra3 = 'D';\n",
    "letra4 = 'S';\n",
    "letra5 = '1';\n",
    "cout << letra << \" \" << letra2 << \" \" << letra3 << \" \" << letra4 <<  \" \" << letra5;"
   ]
  },
  {
   "cell_type": "markdown",
   "metadata": {},
   "source": [
    "## Exercício\n",
    "\n",
    "Reutilize as variáveis acima e armazene os caracteres:\n",
    "\n",
    "'U', 'F', 'S' e 'J'\n",
    "\n",
    "nelas.\n",
    "\n"
   ]
  },
  {
   "cell_type": "code",
   "execution_count": null,
   "metadata": {},
   "outputs": [],
   "source": []
  }
 ],
 "metadata": {
  "kernelspec": {
   "display_name": "C++14",
   "language": "C++14",
   "name": "xcpp14"
  },
  "language_info": {
   "codemirror_mode": "text/x-c++src",
   "file_extension": ".cpp",
   "mimetype": "text/x-c++src",
   "name": "c++",
   "version": "14"
  }
 },
 "nbformat": 4,
 "nbformat_minor": 4
}
