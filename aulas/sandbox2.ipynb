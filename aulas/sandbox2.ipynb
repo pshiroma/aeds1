{
 "cells": [
  {
   "cell_type": "code",
   "execution_count": 4,
   "metadata": {},
   "outputs": [],
   "source": [
    "#include \"xplot/xfigure.hpp\"\n",
    "#include \"xplot/xmarks.hpp\"\n",
    "#include \"xplot/xaxes.hpp\""
   ]
  },
  {
   "cell_type": "code",
   "execution_count": 5,
   "metadata": {},
   "outputs": [],
   "source": [
    "std::size_t size = 10;\n",
    "std::vector<double> x_data(size);\n",
    "std::iota(x_data.begin(), x_data.end(), 0);"
   ]
  },
  {
   "cell_type": "code",
   "execution_count": 6,
   "metadata": {},
   "outputs": [],
   "source": [
    "std::vector<double> y_data = randn(size);"
   ]
  },
  {
   "cell_type": "code",
   "execution_count": 1,
   "metadata": {},
   "outputs": [],
   "source": [
    "#include <vector>\n",
    "#include <random>\n",
    "std::vector<double> randn(int size)\n",
    "{\n",
    "    std::mt19937 generator;\n",
    "    generator.seed(1);\n",
    "    std::normal_distribution<double> normal;\n",
    "    std::vector<double> result(size);\n",
    "    \n",
    "    for (int i = 0; i < size; i++)\n",
    "        result[i] =  normal(generator) ;\n",
    "    return result;\n",
    "}"
   ]
  },
  {
   "cell_type": "code",
   "execution_count": 8,
   "metadata": {},
   "outputs": [],
   "source": [
    "xpl::linear_scale sx, sy;\n",
    "auto ax_x = xpl::axis::initialize(sx)\n",
    "    .label(\"x\")\n",
    "    .finalize();\n",
    "auto ax_y = xpl::axis::initialize(sy)\n",
    "    .label(\"y\")\n",
    "    .orientation(\"vertical\")\n",
    "    .side(\"left\")\n",
    "    .finalize();"
   ]
  },
  {
   "cell_type": "code",
   "execution_count": 9,
   "metadata": {},
   "outputs": [],
   "source": [
    "auto scatter1 = xpl::scatter::initialize(sx, sy)\n",
    "   .x(x_data)\n",
    "   .y(y_data)\n",
    "   .finalize();"
   ]
  },
  {
   "cell_type": "code",
   "execution_count": 10,
   "metadata": {},
   "outputs": [
    {
     "data": {
      "application/vnd.jupyter.widget-view+json": {
       "model_id": "a69bd3c7aaaa435eabe3e6a15af0f581",
       "version_major": 2,
       "version_minor": 0
      },
      "text/plain": [
       "A Jupyter widget"
      ]
     },
     "execution_count": 10,
     "metadata": {},
     "output_type": "execute_result"
    }
   ],
   "source": [
    "auto fig1 = xpl::figure::initialize()\n",
    "    .padding_x(0.025)\n",
    "    .padding_y(0.025)\n",
    "    .finalize();\n",
    "fig1.add_mark(scatter1);\n",
    "fig1.add_axis(ax_x);\n",
    "fig1.add_axis(ax_y);\n",
    "fig1"
   ]
  },
  {
   "cell_type": "code",
   "execution_count": 11,
   "metadata": {},
   "outputs": [],
   "source": [
    "scatter1.names = std::vector<std::string>{\"0\", \"1\", \"2\", \"3\", \"4\", \"5\", \"6\", \"7\", \"8\", \"9\"};"
   ]
  },
  {
   "cell_type": "code",
   "execution_count": 12,
   "metadata": {},
   "outputs": [],
   "source": [
    "scatter1.colors = std::vector<xtl::xoptional<std::string>>{\"red\"};"
   ]
  },
  {
   "cell_type": "code",
   "execution_count": 13,
   "metadata": {},
   "outputs": [],
   "source": [
    "scatter1.marker = \"cross\";"
   ]
  },
  {
   "cell_type": "code",
   "execution_count": null,
   "metadata": {},
   "outputs": [],
   "source": []
  },
  {
   "cell_type": "code",
   "execution_count": null,
   "metadata": {},
   "outputs": [],
   "source": []
  }
 ],
 "metadata": {
  "kernelspec": {
   "display_name": "C++14",
   "language": "C++14",
   "name": "xcpp14"
  },
  "language_info": {
   "codemirror_mode": "text/x-c++src",
   "file_extension": ".cpp",
   "mimetype": "text/x-c++src",
   "name": "c++",
   "version": "14"
  }
 },
 "nbformat": 4,
 "nbformat_minor": 4
}
