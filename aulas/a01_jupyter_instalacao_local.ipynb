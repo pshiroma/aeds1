{
 "cells": [
  {
   "cell_type": "markdown",
   "metadata": {},
   "source": [
    "<a id=\"instalacao\"></a>\n",
    "# Instalação\n",
    "\n",
    "<font color=red>__Atenção:__</font> Como estamos usando o servidor AWS, o jupyter é executado remotamente, não sendo necessário instalá-lo na sua máquina.\n",
    "Porém, se você quiser, pode seguir os passos abaixo para instalar em seu computador.\n",
    "\n",
    "Observação: Como precisamos instalar o kernel C++ (xeus cling), a forma mais simples no Windows é baixar uma imagem com os programas todos pré-instalados (usando a máquina virtual Docker).\n",
    "\n",
    "* <a href=#windows10>Instruções para Windows 10</a>\n",
    "* <a href=#windows>Instruções para Windows</a>\n",
    "* <a href=#ubuntu>Instruções para Ubuntu</a>"
   ]
  },
  {
   "cell_type": "markdown",
   "metadata": {},
   "source": [
    "<a id=\"windows10\"></a>\n",
    "## Windows 10 64-bit  (build 15063 ou superior)\n",
    "\n",
    "### Passo 1: Instale o Docker Desktop:\n",
    "\n",
    "https://www.docker.com/products/docker-desktop\n",
    "\n",
    "<a id=\"powershell\"></a>\n",
    "### Passo 2: Baixe uma imagem do docker contendo o jupyter / xelus-cling instalado:\n",
    "\n",
    "Abra o aplicativo PowerShell:\n",
    "\n",
    "![powershell](figuras/powershell.png)\n",
    "\n",
    "Execute o seguinte comando dentro do PowerShell para baixar uma imagem que já contenha o jupyter com o kernel xeus cling instalado (na prática, estamos baixando uma imagem contendo o sistema operacional Ubuntu instalado com os pacotes necessários para executar o jupyter / xeus-cling):\n",
    "\n",
    "```\n",
    "docker pull dhavenith/jupyter-cling\n",
    "```\n",
    "\n",
    "### Passo 3: Crie uma pasta local para armazenar os seus notebooks:\n",
    "\n",
    "Crie uma pasta para armazenar os seus trabalhos, por exemplo __C:\\aeds1__:\n",
    "\n",
    "![config](figuras/jupyter_config.png)\n",
    "\n",
    "<a id=\"jupyter_windows_run\"></a>\n",
    "### Passo 4: Execute a imagem do docker:\n",
    "\n",
    "Vamos lançar agora o docker. Neste ponto, estamos criando uma nova máquina virtual dentro do seu computador, com a vantagem de não ser necessário configurá-la:\n",
    "\n",
    "```\n",
    "docker run -it -v c:/aeds1:/home/notebooker/aeds1 -p 8888:8888 dhavenith/jupyter-cling\n",
    "```\n",
    "\n",
    "![docker](figuras/docker.png)\n",
    "\n",
    "<a id=\"abrindo_jupyter\"></a>\n",
    "### Passo 5: Abra o jupyter:\n",
    "\n",
    "Por último, copie o endereço que aparece e cole-o na barra de endereço do seu navegador:\n",
    "\n",
    "![jupyter startup](figuras/jupyter_startup1.png)\n",
    "\n",
    "Pronto, você deve visualizar a tela do jupyter:\n",
    "\n",
    "![jupyter startup](figuras/jupyter_startup2.png)"
   ]
  },
  {
   "cell_type": "markdown",
   "metadata": {},
   "source": [
    "<a id=\"windows\"></a>\n",
    "## Windows (outras versões)\n",
    "\n",
    "Baixe o docker toolbox, seguindo as instruções:\n",
    "\n",
    "https://docs.docker.com/toolbox/toolbox_install_windows/\n",
    "\n",
    "ou vá diretamente no site:\n",
    "\n",
    "https://github.com/docker/toolbox/releases\n",
    "\n",
    "e instale a versão mais recente do docker toolbox (DockerToolbox-XX.XX.X.exe).\n",
    "\n",
    "Após isso, siga os passos acima a partir do ponto [Passo 2](#powershell)"
   ]
  },
  {
   "cell_type": "markdown",
   "metadata": {},
   "source": [
    "<a id=\"ubuntu\"></a>\n",
    "## Ubuntu (Linux)\n",
    "\n",
    "Caso ainda não tenha instalado, instale o anaconda ou o miniconda (caso queira economizar espaço):\n",
    "\n",
    "https://docs.anaconda.com/anaconda/install/\n",
    "\n",
    "https://docs.conda.io/en/latest/miniconda.html\n",
    "\n",
    "Em seguida, instale o kernel xeus-cling seguindo os passos descritos em __Installation from conda__:\n",
    "\n",
    "https://github.com/jupyter-xeus/xeus-cling#installation-from-conda\n",
    "\n",
    "<a id=\"jupyter_linux_run\"></a>\n",
    "### Executando o jupyter\n",
    "\n",
    "Abra um terminal e vá para a pasta onde se encontra o material das aulas (utilize o comando cd).\n",
    "\n",
    "Em seguida, execute o comando:\n",
    "\n",
    "```\n",
    "jupyter notebook\n",
    "```\n",
    "\n",
    "Abra um navegador e cole o endereço mostrado na tela, seguindo o [Passo 5](#abrindo_jupyter)"
   ]
  },
  {
   "cell_type": "markdown",
   "metadata": {},
   "source": [
    "<a id=\"gitdownload\"></a>\n",
    "# Download do material\n",
    "\n",
    "O material da disciplina de Algoritmos e Estruturas de Dados I está disponível no repositório github, no link:\n",
    "\n",
    "https://github.com/pshiroma/aeds1\n",
    "\n",
    "Uma vez dentro do repositório, escolha a opção _Clone or download_ e baixe o arquivo zip.\n",
    "![powershell](figuras/github.png)"
   ]
  }
 ],
 "metadata": {
  "kernelspec": {
   "display_name": "C++14",
   "language": "C++14",
   "name": "xcpp14"
  },
  "language_info": {
   "codemirror_mode": "text/x-c++src",
   "file_extension": ".cpp",
   "mimetype": "text/x-c++src",
   "name": "c++",
   "version": "14"
  }
 },
 "nbformat": 4,
 "nbformat_minor": 4
}
