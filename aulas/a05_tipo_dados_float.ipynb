{
 "cells": [
  {
   "cell_type": "markdown",
   "metadata": {},
   "source": [
    "[**&#10094; Previous**](a05_tipo_dados_int.ipynb) | [**Home**](a00_aeds1.ipynb) | [**Next &#10095;**](a05_tipo_dados_char.ipynb)"
   ]
  },
  {
   "cell_type": "markdown",
   "metadata": {},
   "source": [
    "# O tipo de dados float\n",
    "\n",
    "Vimos que em C a decalaração de uma variável envolve o **tipo** e o seu **nome**.\n",
    "O tipo `float` é responsável por armazenar números reais.\n",
    "Seu nome se deve ao fato do número real ser armazenado usando a notação de número flutuante, e sua estrutura interna segue geralmente a norma IEEE 754, representada abaixo:\n",
    "\n",
    "![https://bitismyth.wordpress.com/2011/05/27/o-problema-do-ponto-flutuante-parte-3/](./figuras/float.png)\n",
    "\n",
    "Por exemplo, o número  $5,75_{10}$ (5,75 na base 10) é representado como $101,11_2$ (101,11 na base 2).\n",
    "Transformando para a notação flutuante, teríamos $1,0111 \\times 2^2$.\n",
    "O expoente (2 + 127) seria armazenado no campo expoente e a fração da mantissa 0111 seria armazenada na fração.\n",
    "\n",
    "Entretanto, a aritmética de ponto flutuante não obedece certas propriedades fundamentais que seria esperado, como por exemplo:\n",
    "\n",
    "* $(x + y) + z \\neq x + (y + z)$;\n",
    "* $x \\cdot (y + z) \\neq (x \\cdot y) + (x \\cdot z)$;\n",
    "\n",
    "Além disso, temos outros problemas como:\n",
    "\n",
    "* arredondamento (por exemplo, 0,1 não é representado de forma exata);\n",
    "* arredondamento das operações aritméticas (por exemplo,2/3= 0,666667);\n",
    "\n",
    "Outro exemplo de inconsistência acontece quando calculamos a série:\n",
    "\n",
    "$\n",
    "H_n = 1 + \\frac{1}{2} + \\frac{1}{2} + \\frac{1}{3} + \\ldots + \\frac{1}{n}\n",
    "$\n",
    "\n",
    "O cálculo dela varia ligeiramente se a somatória é feita da esquerda para direita ou da direita para esquerda.\n"
   ]
  },
  {
   "cell_type": "code",
   "execution_count": 7,
   "metadata": {},
   "outputs": [],
   "source": [
    "#include <iostream>\n",
    "using namespace std;"
   ]
  },
  {
   "cell_type": "code",
   "execution_count": 4,
   "metadata": {},
   "outputs": [],
   "source": [
    "float f;"
   ]
  },
  {
   "cell_type": "markdown",
   "metadata": {},
   "source": [
    "Observe a operação abaixo $(1 + 10^{10}) - 10^{10}$.\n",
    "\n",
    "O resultado esperado seria 1, mas veja o que ocorre no código abaixo:"
   ]
  },
  {
   "cell_type": "code",
   "execution_count": 44,
   "metadata": {},
   "outputs": [
    {
     "name": "stdout",
     "output_type": "stream",
     "text": [
      "0"
     ]
    }
   ],
   "source": [
    "f = (1 + 1e10);\n",
    "f = f - 1e10;\n",
    "cout << f;"
   ]
  },
  {
   "cell_type": "markdown",
   "metadata": {},
   "source": [
    "## Tipo de dados double\n",
    "\n",
    "O tipo de dados `float` utiliza 4 bytes (32 bits) e tem capacidade de representar números no intervalo de $3,4 \\times 10^{-38}$ à $3,4 \\times 10^{38}$.\n",
    "Caso seja necessário armazenar um número maior, a linguagem C fornece o tipo `double`, que utiliza 8 bytes e é capaz de armazenar números no intervalo de $1,7 \\times 10^{-308}$ à $1,7 \\times 10^{308}$.\n",
    "\n",
    "Além delas, existe também o tipo `long double`, com maior precisão.\n",
    "\n",
    "https://br.ccm.net/faq/10173-linguagem-c-os-tipos-de-dados\n",
    "\n",
    "https://www.ime.usp.br/~hitoshi/introducao/13-reais.pdf\n",
    "\n",
    "https://www.youtube.com/watch?v=h7gHRUGL4Ns"
   ]
  },
  {
   "cell_type": "code",
   "execution_count": null,
   "metadata": {},
   "outputs": [],
   "source": [
    "double d;"
   ]
  },
  {
   "cell_type": "code",
   "execution_count": 43,
   "metadata": {},
   "outputs": [
    {
     "name": "stdout",
     "output_type": "stream",
     "text": [
      "1"
     ]
    }
   ],
   "source": [
    "d = (1 + 1e10);\n",
    "d = d - 1e10;\n",
    "cout << d;"
   ]
  },
  {
   "cell_type": "markdown",
   "metadata": {},
   "source": [
    "## Exercício 1\n",
    "\n",
    "Crie as variáveis para armazenar as seguintes informações (use o tipo de dado apropriado e escolha um nome adequado):\n",
    "\n",
    "* O salário de uma pessoa;\n",
    "* O número de estrelas no universo;\n",
    "* A  massa de uma célula;"
   ]
  },
  {
   "cell_type": "code",
   "execution_count": null,
   "metadata": {},
   "outputs": [],
   "source": []
  },
  {
   "cell_type": "markdown",
   "metadata": {},
   "source": [
    "## Exercício 2\n",
    "\n",
    "Execute a linha de código abaixo e explique o resultado."
   ]
  },
  {
   "cell_type": "code",
   "execution_count": 45,
   "metadata": {},
   "outputs": [],
   "source": [
    "float f1;"
   ]
  },
  {
   "cell_type": "code",
   "execution_count": 46,
   "metadata": {},
   "outputs": [
    {
     "name": "stdout",
     "output_type": "stream",
     "text": [
      "1"
     ]
    }
   ],
   "source": [
    "f1 = (1 + 1e10) - 1e10;\n",
    "cout << f1;"
   ]
  },
  {
   "cell_type": "markdown",
   "metadata": {},
   "source": [
    "[**&#10094; Previous**](a05_tipo_dados_int.ipynb) | [**Home**](a00_aeds1.ipynb) | [**Next &#10095;**](a05_tipo_dados_char.ipynb)"
   ]
  }
 ],
 "metadata": {
  "kernelspec": {
   "display_name": "C++14",
   "language": "C++14",
   "name": "xcpp14"
  },
  "language_info": {
   "codemirror_mode": "text/x-c++src",
   "file_extension": ".cpp",
   "mimetype": "text/x-c++src",
   "name": "c++",
   "version": "14"
  }
 },
 "nbformat": 4,
 "nbformat_minor": 4
}
