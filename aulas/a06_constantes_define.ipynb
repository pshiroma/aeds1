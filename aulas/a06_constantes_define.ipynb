{
 "cells": [
  {
   "cell_type": "markdown",
   "metadata": {},
   "source": [
    "[**&#10094; Previous**](a05_variaveis.ipynb) | [**Home**](a00_aeds1.ipynb) | [**Next &#10095;**](a07_operacoes_matematicas.ipynb)"
   ]
  },
  {
   "cell_type": "markdown",
   "metadata": {},
   "source": [
    "# Constantes \n",
    "\n",
    "Quando precisamos trabalhar com um valor que não irá sofrer alterações durante o programa é comum utilizarmos constantes.\n",
    "\n",
    "As vantagens de utilizarmos uma constante são:\n",
    "\n",
    "* Não é necessário recordar o valor da constante toda vez que formos utilizá-las no código.\n",
    "* Caso precisemos alterar o valor da constante, basta alterarmos apenas sua definição, e não em cada ponto onde ela é utilizada.\n",
    "\n",
    "Existem duas formas básicas para declarar uma constante em C++:"
   ]
  },
  {
   "cell_type": "markdown",
   "metadata": {},
   "source": [
    "## Usando `#define`\n",
    "\n",
    "Ao usarmos a diretiva `#define` o pré-processador verifica o código fonte e sempre que encontrá-la irá **substituir** cada ocorrência do identificador no código fonte pelo valor definido.\n",
    "\n",
    "Você deverá incluir a diretiva de pré-processador `#define` no início do código:"
   ]
  },
  {
   "cell_type": "code",
   "execution_count": null,
   "metadata": {},
   "outputs": [],
   "source": [
    "#include <iostream>\n",
    "using namespace std;\n",
    "#define PI 3.1415    "
   ]
  },
  {
   "cell_type": "markdown",
   "metadata": {},
   "source": [
    "A sintaxe é (**não coloque ponto-e-vírgula no final**):\n",
    "\n",
    "`#define [identificador] [valor]`"
   ]
  },
  {
   "cell_type": "markdown",
   "metadata": {},
   "source": [
    "## Usando const\n",
    "\n",
    "Usando const, a declaração não precisa estar no início do código."
   ]
  },
  {
   "cell_type": "code",
   "execution_count": 1,
   "metadata": {},
   "outputs": [],
   "source": [
    "const float icms = 0.18; // uma constante real que armazena a aliquota do ICMS.\n",
    "const double pi = 3.1415; // uma constante real que armazena o valor aproximado de pi."
   ]
  },
  {
   "cell_type": "markdown",
   "metadata": {},
   "source": [
    "Com o prefixo \"const\", dizemos que a variável não poderá alterar o seu valor.\n",
    "A sintaxe para const é:\n",
    "\n",
    "`const [tipo] [nome] = [valor];`\n",
    "\n",
    "Neste caso fica explícito o tipo do valor constante, além de podermos criar constantes com escopo local (veremos mais adiante).\n",
    "\n",
    "https://pt.wikiversity.org/wiki/Curso_de_C%2B%2B/Vari%C3%A1veis_e_constantes"
   ]
  },
  {
   "cell_type": "markdown",
   "metadata": {},
   "source": [
    "[**&#10094; Previous**](a05_variaveis.ipynb) | [**Home**](a00_aeds1.ipynb) | [**Next &#10095;**](a07_operacoes_matematicas.ipynb)"
   ]
  }
 ],
 "metadata": {
  "kernelspec": {
   "display_name": "C++14",
   "language": "C++14",
   "name": "xcpp14"
  },
  "language_info": {
   "codemirror_mode": "text/x-c++src",
   "file_extension": ".cpp",
   "mimetype": "text/x-c++src",
   "name": "c++",
   "version": "14"
  }
 },
 "nbformat": 4,
 "nbformat_minor": 4
}
