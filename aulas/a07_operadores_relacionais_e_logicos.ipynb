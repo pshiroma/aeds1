{
 "cells": [
  {
   "cell_type": "markdown",
   "metadata": {},
   "source": [
    "[**&#10094; Previous**](a07_operacoes_matematicas_parte2.ipynb) | [**Home**](a00_aeds1.ipynb) | [**Next &#10095;**](a08_comando_condicional_if.ipynb)"
   ]
  },
  {
   "cell_type": "code",
   "execution_count": null,
   "metadata": {},
   "outputs": [],
   "source": [
    "#include <iostream>\n",
    "using namespace std;"
   ]
  },
  {
   "cell_type": "markdown",
   "metadata": {},
   "source": [
    "# Operadores relacionais\n",
    "\n",
    "Vimos que os operadores relacionais são:\n",
    "\n",
    "|Operador| Significado |\n",
    "|--|--|\n",
    "| `==` | igual |\n",
    "| `!=` | diferente |\n",
    "| `<` | menor que |\n",
    "| `<=` | menor ou igual que |\n",
    "| `>` | maior que |\n",
    "| `>=` | maior ou igual que |\n",
    "\n",
    "Observe que os operadores relacionais aceitam variáveis, constantes ou literais do tipo inteiro, short, char, float, double."
   ]
  },
  {
   "cell_type": "markdown",
   "metadata": {},
   "source": [
    "<div class=\"alert alert-info\">Observe que o operador de igualdade é ==. O operador =  é de atribuição.</div>"
   ]
  },
  {
   "cell_type": "markdown",
   "metadata": {},
   "source": [
    "# Operadores lógicos\n",
    "\n",
    "Frequentemente precisamos combinar expressões relacionais para satisfazer a condição que queremos inserir dentro de comandos do tipo `if` ou `while`.\n",
    "Por exemplo, se quisermos testar se um número é maior que 10 e menor que 50 é necessário utilizarmos operadores lógicos em combinação com operadores relacionais.\n",
    "Os operadores lógicos são:\n",
    "\n",
    "|Operador| Significado |\n",
    "|--|--|\n",
    "| `&&` | e (and) |\n",
    "| `\\|\\|` | ou (or) |\n",
    "| `!` | não (not) |\n",
    "\n",
    "O operador lógico \"E\" (&&) obedece a seguinte tabela verdade:\n",
    "\n",
    "| Operando 1 | Operando 2 | Resultado |\n",
    "|--|--|--|\n",
    "|TRUE|TRUE|TRUE|\n",
    "|TRUE|FALSE|FALSE|\n",
    "|FALSE|TRUE|FALSE|\n",
    "|FALSE|FALSE|FALSE|\n",
    "\n",
    "Lembrando que, na linguagem C, uma variável com valor 0 é considerado FALSE, e um valor diferente de zero TRUE.\n",
    "\n",
    "Ou seja, o resultado de uma expressão `A && B` é verdadeiro somente se `A` e `B` forem verdadeiros, senão o resultado é falso.\n",
    "\n",
    "O operador lógico \"OU\" (||) obedece a seguinte tabela verdade:\n",
    "\n",
    "| Operando 1 | Operando 2 | Resultado |\n",
    "|--|--|--|\n",
    "|TRUE|TRUE|TRUE|\n",
    "|TRUE|FALSE|TRUE|\n",
    "|FALSE|TRUE|TRUE|\n",
    "|FALSE|FALSE|FALSE|\n",
    "\n",
    "Ou seja, o resultado de uma expressão `A || B` é verdadeiro se `A` ou `B` forem verdadeiros.\n",
    "Somente quando ambos são falsos é que o resultado é falso.\n",
    "\n",
    "\n",
    "O operador lógico \"NÃO\" (!) obedece a seguinte tabela verdade:\n",
    "\n",
    "| Operando | Resultado |\n",
    "|--|--|\n",
    "|TRUE|FALSE|\n",
    "|FALSE|TRUE|\n"
   ]
  },
  {
   "cell_type": "markdown",
   "metadata": {},
   "source": [
    "## Precedência\n",
    "\n",
    "Conforme vimos certos operadores possuem precedência sobre outros na hora da execução.\n",
    "Abaixo temos uma tabela (quase completa) contendo a precedência dos operadores em C:\n",
    "\n",
    "|Operador|Obs|\n",
    "|--|--|\n",
    "| `( )  [ ] .` | |\n",
    "| `- ++ -- ! ~ (tipo)` |operadores unários, ordem da direita para esquerda|\n",
    "| `* / %` | |\n",
    "| `+ -` | |\n",
    "| `< <= > >=` | |\n",
    "| `== !=` | |\n",
    "| `&` | |\n",
    "| `^` | |\n",
    "| `|` | |\n",
    "| `&&` | |\n",
    "| `\\|\\|` | |\n",
    "| `?` | processados da direita para esquerda|\n",
    "| `=` | processados da direita para esquerda|\n",
    "\n",
    "Em uma expressão, os operadores `( )`, `[ ]` e `.` são executados primeiro, depois os operadores `-` (unário), `++`, `--`, `!`, `~`,  `(tipo)` e assim por diante."
   ]
  },
  {
   "cell_type": "markdown",
   "metadata": {},
   "source": [
    "## Exemplos"
   ]
  },
  {
   "cell_type": "code",
   "execution_count": null,
   "metadata": {},
   "outputs": [],
   "source": [
    "bool result;"
   ]
  },
  {
   "cell_type": "code",
   "execution_count": null,
   "metadata": {},
   "outputs": [],
   "source": [
    "result = 6 > 7 && 2 < 3;\n",
    "cout << result << endl;\n",
    "\n",
    "result = 12 <= 12 && 0 < 3;\n",
    "cout << result << endl;\n",
    "\n",
    "result = 0 > 7 || 2 < 3;\n",
    "cout << result << endl;\n",
    "\n",
    "result = !(0 > 7);\n",
    "cout << result << endl;"
   ]
  },
  {
   "cell_type": "markdown",
   "metadata": {},
   "source": [
    "## Exercício\n"
   ]
  },
  {
   "cell_type": "markdown",
   "metadata": {},
   "source": [
    "Dados os seguintes valores:\n",
    "\n",
    "```\n",
    "a = 0;\n",
    "b = 5;\n",
    "c = 20;\n",
    "d = 20;\n",
    "e = 42;\n",
    "x = true;\n",
    "y = false;\n",
    "z = true;\n",
    "```\n",
    "\n",
    "Qual o resultado das operações:\n",
    "\n",
    "```\n",
    "a && b\n",
    "a || b\n",
    "!a\n",
    "a > b && b < c\n",
    "c == d && b <= c\n",
    "a != c || b == c\n",
    "a >= c || c <= d\n",
    "!(b >= c) && d != e\n",
    "b % 2 == 1\n",
    "c + d < e\n",
    "(d + e)/2 == 41\n",
    "d + e/2 == 41\n",
    "x && y\n",
    "y || z\n",
    "```"
   ]
  },
  {
   "cell_type": "markdown",
   "metadata": {},
   "source": [
    "Em seguida, escreva o código correspondente às operações acima:"
   ]
  },
  {
   "cell_type": "markdown",
   "metadata": {},
   "source": [
    "### Declaração de variáveis"
   ]
  },
  {
   "cell_type": "code",
   "execution_count": 2,
   "metadata": {},
   "outputs": [],
   "source": [
    "int a,b,c,d,e;\n",
    "bool x,y,z;"
   ]
  },
  {
   "cell_type": "markdown",
   "metadata": {},
   "source": [
    "### Corpo do algoritmo"
   ]
  },
  {
   "cell_type": "code",
   "execution_count": null,
   "metadata": {},
   "outputs": [],
   "source": []
  },
  {
   "cell_type": "markdown",
   "metadata": {},
   "source": [
    "[**&#10094; Previous**](a07_operacoes_matematicas_parte2.ipynb) | [**Home**](a00_aeds1.ipynb) | [**Next &#10095;**](a08_comando_condicional_if.ipynb)"
   ]
  }
 ],
 "metadata": {
  "kernelspec": {
   "display_name": "C++14",
   "language": "C++14",
   "name": "xcpp14"
  },
  "language_info": {
   "codemirror_mode": "text/x-c++src",
   "file_extension": ".cpp",
   "mimetype": "text/x-c++src",
   "name": "c++",
   "version": "14"
  }
 },
 "nbformat": 4,
 "nbformat_minor": 4
}
