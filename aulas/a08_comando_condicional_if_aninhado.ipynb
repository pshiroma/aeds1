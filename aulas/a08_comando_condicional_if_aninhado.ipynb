{
 "cells": [
  {
   "cell_type": "markdown",
   "metadata": {},
   "source": [
    "[**&#10094; Previous**](a08_comando_condicional_if_else.ipynb) | [**Home**](a00_aeds1.ipynb) | [**Next &#10095;**](a09_.ipynb)"
   ]
  },
  {
   "cell_type": "code",
   "execution_count": 1,
   "metadata": {},
   "outputs": [],
   "source": [
    "#include <iostream>\n",
    "using namespace std;"
   ]
  },
  {
   "cell_type": "markdown",
   "metadata": {},
   "source": [
    "# Comandos if aninhados\n",
    "\n",
    "Muitas vezes é necessário colocar um bloco de comando `if` dentro de outro comando `if` ou `else`para alcançarmos a lógica desejada.\n",
    "Esta situação ocorre quando temos três ou mais casos possíveis para serem tratados de forma independente.\n",
    "Por exemplo:"
   ]
  },
  {
   "cell_type": "code",
   "execution_count": 2,
   "metadata": {},
   "outputs": [],
   "source": [
    "float ph;"
   ]
  },
  {
   "cell_type": "code",
   "execution_count": null,
   "metadata": {},
   "outputs": [],
   "source": [
    "cout << \"Entre com o valor do PH: \";\n",
    "cin >> ph;\n",
    "if (ph < 7)\n",
    "    cout << \"PH ácido\";\n",
    "else if (ph == 7)\n",
    "    cout << \"PH neutro\";\n",
    "else if (ph <= 14)\n",
    "    cout << \"PH alcalino\";\n",
    "else\n",
    "    cout << \"PH fora da escala\";"
   ]
  },
  {
   "cell_type": "markdown",
   "metadata": {},
   "source": [
    "Note que no terceiro `if` não é necessário testar se o PH é maior que 7, pois os testes anteriores garantem esta condição.\n",
    "A mesma lógica pode ser obtido pelo código abaixo:"
   ]
  },
  {
   "cell_type": "code",
   "execution_count": 3,
   "metadata": {},
   "outputs": [
    {
     "name": "stdout",
     "output_type": "stream",
     "text": [
      "Entre com o valor do PH: 12\n",
      "PH alcalino"
     ]
    }
   ],
   "source": [
    "cout << \"Entre com o valor do PH: \";\n",
    "cin >> ph;\n",
    "if (ph < 7)\n",
    "    cout << \"PH ácido\";\n",
    "if (ph == 7)\n",
    "    cout << \"PH neutro\";\n",
    "if (ph > 7 && ph <= 14)\n",
    "    cout << \"PH alcalino\";\n",
    "if (ph > 14)\n",
    "    cout << \"PH fora da escala\";"
   ]
  },
  {
   "cell_type": "markdown",
   "metadata": {},
   "source": [
    "Note que nesta implementação:\n",
    "\n",
    "* É necessário testar os intervalos individualmente;\n",
    "* Qualquer que seja o valor de PH os 4 comandos `if`'s são executados. \n",
    "No primeiro exemplo os `if`'s são executados apenas se entrarem na cláusula `else` anterior."
   ]
  },
  {
   "cell_type": "markdown",
   "metadata": {},
   "source": [
    "## Exercício 1\n",
    "\n",
    "Crie um algoritmo que determine as raízes de uma equação de $2^o$ grau.\n",
    "Ela deve testar os 3 casos possíveis:\n",
    "\n",
    "* $\\Delta < 0$: Sem raíz real;\n",
    "* $\\Delta = 0$: Um única raíz;\n",
    "* $\\Delta > 0$: 2 raízes reais;"
   ]
  },
  {
   "cell_type": "markdown",
   "metadata": {},
   "source": [
    "### Definicação de variáveis"
   ]
  },
  {
   "cell_type": "code",
   "execution_count": null,
   "metadata": {},
   "outputs": [],
   "source": []
  },
  {
   "cell_type": "markdown",
   "metadata": {},
   "source": [
    "### Corpo do algoritmo"
   ]
  },
  {
   "cell_type": "code",
   "execution_count": null,
   "metadata": {},
   "outputs": [],
   "source": []
  },
  {
   "cell_type": "markdown",
   "metadata": {},
   "source": [
    "## Exercício 2\n",
    "\n",
    "Crie um algoritmo que determine as raízes de uma equação de $2^o$ grau.\n",
    "Ela deve testar os 3 casos possíveis:\n",
    "\n",
    "* $\\Delta < 0$: Sem raíz real;\n",
    "* $\\Delta = 0$: Um única raíz;\n",
    "* $\\Delta > 0$: 2 raízes reais;"
   ]
  },
  {
   "cell_type": "markdown",
   "metadata": {},
   "source": [
    "### Definicação de variáveis"
   ]
  },
  {
   "cell_type": "code",
   "execution_count": null,
   "metadata": {},
   "outputs": [],
   "source": []
  },
  {
   "cell_type": "markdown",
   "metadata": {},
   "source": [
    "### Corpo do algoritmo"
   ]
  },
  {
   "cell_type": "code",
   "execution_count": null,
   "metadata": {},
   "outputs": [],
   "source": []
  },
  {
   "cell_type": "markdown",
   "metadata": {},
   "source": [
    "[**&#10094; Previous**](a08_comando_condicional_if_aninhado.ipynb) | [**Home**](a00_aeds1.ipynb) | [**Next &#10095;**](a08_comando_condicional_if_aninhado.ipynb)"
   ]
  }
 ],
 "metadata": {
  "kernelspec": {
   "display_name": "C++14",
   "language": "C++14",
   "name": "xcpp14"
  },
  "language_info": {
   "codemirror_mode": "text/x-c++src",
   "file_extension": ".cpp",
   "mimetype": "text/x-c++src",
   "name": "c++",
   "version": "14"
  }
 },
 "nbformat": 4,
 "nbformat_minor": 4
}
