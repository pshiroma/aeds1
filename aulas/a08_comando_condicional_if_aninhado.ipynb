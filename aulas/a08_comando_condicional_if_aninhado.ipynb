{
 "cells": [
  {
   "cell_type": "markdown",
   "metadata": {},
   "source": [
    "[**&#10094; Previous**](a08_comando_condicional_if_else.ipynb) | [**Home**](a00_aeds1.ipynb) | [**Next &#10095;**](a09_laco_while.ipynb)"
   ]
  },
  {
   "cell_type": "code",
   "execution_count": 1,
   "metadata": {},
   "outputs": [],
   "source": [
    "#include <iostream>\n",
    "using namespace std;"
   ]
  },
  {
   "cell_type": "markdown",
   "metadata": {},
   "source": [
    "# Comandos if aninhados\n",
    "\n",
    "Muitas vezes é necessário colocar um bloco de comando `if` dentro de outro comando `if` ou `else`para alcançarmos a lógica desejada.\n",
    "Esta situação ocorre quando temos três ou mais casos possíveis que precisam ser tratados de forma independente.\n",
    "Por exemplo:"
   ]
  },
  {
   "cell_type": "code",
   "execution_count": null,
   "metadata": {},
   "outputs": [],
   "source": [
    "float ph;"
   ]
  },
  {
   "cell_type": "code",
   "execution_count": null,
   "metadata": {},
   "outputs": [],
   "source": [
    "cout << \"Entre com o valor do PH: \";\n",
    "cin >> ph;\n",
    "if (ph < 7)\n",
    "    cout << \"PH ácido\";\n",
    "else if (ph == 7)\n",
    "    cout << \"PH neutro\";\n",
    "else if (ph <= 14)\n",
    "    cout << \"PH alcalino\";\n",
    "else\n",
    "    cout << \"PH fora da escala\";"
   ]
  },
  {
   "cell_type": "markdown",
   "metadata": {},
   "source": [
    "Note que no terceiro `if` não é necessário testar se o PH é maior que 7, pois os testes anteriores garantem esta condição.\n",
    "A mesma lógica pode ser obtido pelo código abaixo:"
   ]
  },
  {
   "cell_type": "code",
   "execution_count": null,
   "metadata": {},
   "outputs": [],
   "source": [
    "cout << \"Entre com o valor do PH: \";\n",
    "cin >> ph;\n",
    "if (ph < 7)\n",
    "    cout << \"PH ácido\";\n",
    "if (ph == 7)\n",
    "    cout << \"PH neutro\";\n",
    "if (ph > 7 && ph <= 14)\n",
    "    cout << \"PH alcalino\";\n",
    "if (ph > 14)\n",
    "    cout << \"PH fora da escala\";"
   ]
  },
  {
   "cell_type": "markdown",
   "metadata": {},
   "source": [
    "Note que nesta implementação:\n",
    "\n",
    "* É necessário testar os intervalos individualmente;\n",
    "* Qualquer que seja o valor de PH os 4 comandos `if`'s são executados. \n",
    "No primeiro exemplo os `if`'s são executados apenas se entrarem na cláusula `else` anterior."
   ]
  },
  {
   "cell_type": "markdown",
   "metadata": {},
   "source": [
    "Veremos em outra aula outro comando, chamado `switch`, que pode ser utilizado nestes tipos de situações."
   ]
  },
  {
   "cell_type": "markdown",
   "metadata": {},
   "source": [
    "Também temos uma situação onde um comando `if` pode estar dentro de outro comando, como por exemplo:"
   ]
  },
  {
   "cell_type": "code",
   "execution_count": 18,
   "metadata": {},
   "outputs": [],
   "source": [
    "int ano_nascimento;\n",
    "int ano_atual;"
   ]
  },
  {
   "cell_type": "code",
   "execution_count": 17,
   "metadata": {},
   "outputs": [
    {
     "name": "stdout",
     "output_type": "stream",
     "text": [
      "Entre com o ano do seu nascimento: 2001\n",
      "Você é maior de idade\n"
     ]
    }
   ],
   "source": [
    "cout << \"Entre com o ano do seu nascimento: \";\n",
    "cin >> ano_nascimento;\n",
    "ano_atual = 2020;\n",
    "if (ano_nascimento <= ano_atual) {\n",
    "    if (ano_atual - ano_nascimento < 18)\n",
    "        cout << \"Você é menor de idade\" << endl;\n",
    "    else if (ano_atual - ano_nascimento == 18)\n",
    "        cout << \"Não tenho certeza ...\" << endl;\n",
    "    else\n",
    "        cout << \"Você é maior de idade\" << endl;\n",
    "} else {\n",
    "    cout << \"Você entrou com um ano inválido\" << endl;\n",
    "} // estes parênteses poderiam ser omitidos neste exemplo"
   ]
  },
  {
   "cell_type": "markdown",
   "metadata": {},
   "source": [
    "A mesma lógica pode ser obtida pelo código abaixo, embora ele seja mais difícil de entender:"
   ]
  },
  {
   "cell_type": "code",
   "execution_count": 25,
   "metadata": {},
   "outputs": [
    {
     "name": "stdout",
     "output_type": "stream",
     "text": [
      "Entre com o ano do seu nascimento: 2020\n",
      "Você é menor de idade\n"
     ]
    }
   ],
   "source": [
    "cout << \"Entre com o ano do seu nascimento: \";\n",
    "cin >> ano_nascimento;\n",
    "ano_atual = 2020;\n",
    "if (ano_nascimento <= ano_atual && ano_atual - ano_nascimento < 18) \n",
    "    cout << \"Você é menor de idade\" << endl;\n",
    "else if (ano_nascimento <= ano_atual && ano_atual - ano_nascimento == 18) \n",
    "    cout << \"Não tenho certeza ...\" << endl;\n",
    "else if (ano_nascimento <= ano_atual && ano_atual - ano_nascimento > 18)\n",
    "    cout << \"Você é maior de idade\" << endl;\n",
    "else \n",
    "    cout << \"Você entrou com um ano inválido\" << endl;"
   ]
  },
  {
   "cell_type": "markdown",
   "metadata": {},
   "source": [
    "## Exercício 1\n",
    "\n",
    "Crie um algoritmo que determine as raízes de uma equação de $2^o$ grau.\n",
    "Ela deve testar os 3 casos possíveis:\n",
    "\n",
    "* $\\Delta < 0$: Sem raíz real;\n",
    "* $\\Delta = 0$: Um única raíz;\n",
    "* $\\Delta > 0$: 2 raízes reais;"
   ]
  },
  {
   "cell_type": "markdown",
   "metadata": {},
   "source": [
    "### Definicação de variáveis"
   ]
  },
  {
   "cell_type": "code",
   "execution_count": null,
   "metadata": {},
   "outputs": [],
   "source": []
  },
  {
   "cell_type": "markdown",
   "metadata": {},
   "source": [
    "### Corpo do algoritmo"
   ]
  },
  {
   "cell_type": "code",
   "execution_count": null,
   "metadata": {},
   "outputs": [],
   "source": []
  },
  {
   "cell_type": "markdown",
   "metadata": {},
   "source": [
    "## Exercício 2\n",
    "\n",
    "O índice de massa corporal (IMC) é um parâmetro adotado pela OMS usado para calcular o peso ideal de uma pessoa.\n",
    "Ele é calculado usando a fórmula:\n",
    "\n",
    "$ IMC = \\frac{PESO}{ALTURA^2}$\n",
    "\n",
    "De acordo com o valor obtido, uma pessoa recebe a classificação conforme tabela abaixo:\n",
    "\n",
    "| IMC | CLASSIFICAÇÃO |\n",
    "|--|--|\n",
    "|MENOR QUE 18,5|\tMAGREZA|\n",
    "|ENTRE 18,5 E 24,9|\tNORMAL|\n",
    "|ENTRE 25,0 E 29,9|\tSOBREPESO|\n",
    "|ENTRE 30,0 E 34,9|\tOBESIDADE GRAU I|\n",
    "|ENTRE 35,0 E 39,9|\tOBESIDADE GRAU II (severa)|\n",
    "|MAIOR QUE 40,0|\tOBESIDADE GRAU III (mórbida)|\n",
    "\n",
    "Escreva um programa que leia os dados de uma pessoa e informe qual a classificação a que ela pertence.\n",
    "\n",
    "Fonte: https://pt.wikipedia.org/wiki/%C3%8Dndice_de_massa_corporal"
   ]
  },
  {
   "cell_type": "markdown",
   "metadata": {},
   "source": [
    "### Definicação de variáveis"
   ]
  },
  {
   "cell_type": "code",
   "execution_count": null,
   "metadata": {},
   "outputs": [],
   "source": []
  },
  {
   "cell_type": "markdown",
   "metadata": {},
   "source": [
    "### Corpo do algoritmo"
   ]
  },
  {
   "cell_type": "code",
   "execution_count": null,
   "metadata": {},
   "outputs": [],
   "source": []
  },
  {
   "cell_type": "markdown",
   "metadata": {},
   "source": [
    "## Exercício 3\n",
    "\n",
    "No Brasil, o valor do salário líquido de uma pessoa assalariada tem o desconto de 2 contribuições obrigatórias:\n",
    "\n",
    "* Desconto do INSS;\n",
    "* Desconto do imposto de renda;\n",
    "\n",
    "A contribuição do INSS é calculada usando a tabela abaixo:\n",
    "\n",
    "| Salário de Contribuição | Alíquota | Parcela a deduzir |\n",
    "|--|--|--|\n",
    "| Salário mínimo: R\\\\$ 1.045,00 | 7,5\\% | - |\n",
    "| De R\\\\$ 1.045,01 a R\\\\$ 2.089,60 | 9\\% | 15,67 |\n",
    "| De R\\\\$ 2.089,61 a R\\\\$ 3.134,40 | 12\\% | 78,36 |\n",
    "| De R\\\\$ 3.134,41 a R\\\\$ 6.101,06 | 14\\% | 141,05 |\n",
    "\n",
    "Para calcular o valor da contribuição deve-se localizar a linha correspondente ao salário.\n",
    "Em seguida, deve-se multiplicar o salário pela alíquota indicada e subtrair a parcela a deduzir do resultado obtido.\n",
    "Caso o salário bruto seja superior à 6.101,06, o salário de contribuição é 6.101,06, caso contrário o salário de contribuição é igual ao salário bruto.\n",
    "\n",
    "$\\text{INSS} = \\text{salario de contribuição} \\times \\text{alíquota} - \\text{parcela a deduzir}$\n",
    "\n",
    "\n",
    "\n",
    "Para calcularmos o imposto de renda retido deve-se utilizar como base de cálculo não o salário bruto, mas o salário bruto descontados da contribuição do INSS (calculado acima) e R\\\\$ 189,59 por dependente.\n",
    "A base de cálculo utilizado no imposto de renda é dado por:\n",
    "\n",
    "$\\text{base de cálculo} = \\text{salário bruto} - \\text{INSS} - \\text{dependentes} \\times 189,59$\n",
    "\n",
    "Sobre a base de cálculo realiza-se o mesmo cálculo anterior para obtermos a contribuição do imposto de renda, usando a tabela abaixo:\n",
    "\n",
    "| Base de cálculo | Alíquota | Parcela a deduzir |\n",
    "|--|--|--|\n",
    "| Até R\\\\$ 1.903,98 | - | - |\n",
    "| De R\\\\$ 1.903,99 até R\\\\$ 2.826,65 | 7,5\\% | 142,80 |\n",
    "| De R\\\\$ 2.826,66 até R\\\\$ 3.751,05 | 15\\% | 354,80 |\n",
    "| De R\\\\$ 3.751,06 até R\\\\$ 4.664,68 | 22,5\\% | 636,13 |\n",
    "| Acima de R\\\\$ 4.664,68 | 27,5\\% | 869,36 |\n",
    "\n",
    "$\\text{IR} = \\text{base de cálculo} \\times \\text{alíquota} - \\text{parcela a deduzir}$.\n",
    "\n",
    "Por exemplo, uma pessoa com salário de R\\\\$ 3.000,00 e 2 dependentes terá descontado os seguintes valores na folha de pagamento:\n",
    "\n",
    "* INSS: R\\\\$ 281,64 (12\\% de 3.000,00 - 78,36)\n",
    "* base de cálculo para IR: R\\\\$ 2.339,18 (3.000,00 - 281,65 - 189,59 x 2)\n",
    "* IR:  R\\\\$ 32,64 (2.339.18 x 7,5\\% - 142,80).\n",
    "* salário líquido: R\\\\$ 2.685,72 (3.000,00 - 281,64 - 32,64)\n",
    "\n",
    "Crie um algoritmo que determine o salário líquido de uma pessoa.\n",
    "Ela deve perguntar o valor do salário bruto e a quantidade de dependentes.\n",
    "\n",
    "https://www.contabeis.com.br/noticias/42234/calculo-da-nova-tabela-progressiva-do-inss-aliquotas-e-parcela-a-deduzir/\n",
    "\n",
    "https://www.calculo-exato.com/calcular-irrf/"
   ]
  },
  {
   "cell_type": "markdown",
   "metadata": {},
   "source": [
    "### Definicação de variáveis"
   ]
  },
  {
   "cell_type": "code",
   "execution_count": null,
   "metadata": {},
   "outputs": [],
   "source": []
  },
  {
   "cell_type": "markdown",
   "metadata": {},
   "source": [
    "### Corpo do algoritmo"
   ]
  },
  {
   "cell_type": "code",
   "execution_count": null,
   "metadata": {},
   "outputs": [],
   "source": []
  },
  {
   "cell_type": "markdown",
   "metadata": {},
   "source": [
    "[**&#10094; Previous**](a08_comando_condicional_if_else.ipynb) | [**Home**](a00_aeds1.ipynb) | [**Next &#10095;**](a09_laco_while.ipynb)"
   ]
  }
 ],
 "metadata": {
  "kernelspec": {
   "display_name": "C++14",
   "language": "C++14",
   "name": "xcpp14"
  },
  "language_info": {
   "codemirror_mode": "text/x-c++src",
   "file_extension": ".cpp",
   "mimetype": "text/x-c++src",
   "name": "c++",
   "version": "14"
  }
 },
 "nbformat": 4,
 "nbformat_minor": 4
}
