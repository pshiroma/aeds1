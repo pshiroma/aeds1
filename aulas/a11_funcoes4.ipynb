{
 "cells": [
  {
   "cell_type": "markdown",
   "metadata": {},
   "source": [
    "[**&#10094; Previous**](a11_funcoes3.ipynb) | [**Home**](a00_aeds1.ipynb) | [**Next &#10095;**](a11_funcao5.ipynb)"
   ]
  },
  {
   "cell_type": "code",
   "execution_count": 1,
   "metadata": {},
   "outputs": [],
   "source": [
    "#include <iostream>\n",
    "using namespace std;"
   ]
  },
  {
   "cell_type": "markdown",
   "metadata": {},
   "source": [
    "# Criando funções\n",
    "\n",
    "Criar suas próprias funções permite estruturar melhor seu algoritmo além de reaproveitar códigos já desenvolvidos.\n",
    "A criação de uma função envolve 2 etapas:\n",
    "\n",
    "* Declaração da assinatura da função: É recomendável explicitar a assinatura da função em um arquivo que seja facilmente encontrável. \n",
    "Geralmente as declarações das funções encontra-se em um arquivo texto chamado header e sua extensão costuma ser .h, .hpp ou .hxx.\n",
    "Dentro do arquivo header também podem ser encontrados a declaração de constantes e a definição de novos tipos.\n",
    "\n",
    "* Implementação da função: A implementação do que a função irá executar geralmente fica em um arquivo com extensão .cpp ou .c.\n",
    "A divisão das implementações em um ou mais arquivos fica a critério do desenvolvedor."
   ]
  },
  {
   "cell_type": "markdown",
   "metadata": {},
   "source": [
    "No caso do ambiente jupyter, iremos implementar as funções dentro dos notebooks, não sendo necessário criar novos arquivos."
   ]
  }
 ],
 "metadata": {
  "kernelspec": {
   "display_name": "C++14",
   "language": "C++14",
   "name": "xcpp14"
  },
  "language_info": {
   "codemirror_mode": "text/x-c++src",
   "file_extension": ".cpp",
   "mimetype": "text/x-c++src",
   "name": "c++",
   "version": "14"
  }
 },
 "nbformat": 4,
 "nbformat_minor": 4
}
