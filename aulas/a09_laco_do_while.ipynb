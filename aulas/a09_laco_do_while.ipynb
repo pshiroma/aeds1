{
 "cells": [
  {
   "cell_type": "markdown",
   "metadata": {},
   "source": [
    "[**&#10094; Previous**](a09_laco_while.ipynb) | [**Home**](a00_aeds1.ipynb) | [**Next &#10095;**](a09_laco_for.ipynb)"
   ]
  },
  {
   "cell_type": "code",
   "execution_count": 1,
   "metadata": {},
   "outputs": [],
   "source": [
    "#include <iostream>\n",
    "using namespace std;"
   ]
  },
  {
   "cell_type": "markdown",
   "metadata": {},
   "source": [
    "# Laço do .. while\n",
    "\n",
    "Laços são utilizados para executar um conjunto de instruções repetidas vezes.\n",
    "Eles são repetidos até que uma condição definida pelo programador seja satisfeita.\n",
    "Ao contrário do laço `while` o laço `do .. while` executa os comandos pelo menos uma vez.\n",
    "\n",
    "A sintaxe é dada por:\n",
    "\n",
    "```\n",
    "do {\n",
    "    ... // comandos\n",
    "} while (condicao);\n",
    "```\n",
    "\n",
    "e seu fluxograma pode ser representado por:\n",
    "\n",
    "\n",
    "![do while](figuras/tikz/fluxograma_do_while.png)\n",
    "\n",
    "* No caso da estrutura `do .. while` o bloco de comandos é executado pelo menos uma vez.\n",
    "* Após cada execução, a condição é testada e, se for verdadeiro, os comandos são novamente executados.\n",
    "* Quando a expressão for falsa, o laço é finalizado."
   ]
  },
  {
   "cell_type": "markdown",
   "metadata": {},
   "source": [
    "## Exemplo 1\n",
    "\n",
    "Vamos criar um algoritmo que soma os números dados pelo usuário até que o mesmo entre com o número 0."
   ]
  },
  {
   "cell_type": "markdown",
   "metadata": {},
   "source": [
    "## Declaração de variáveis"
   ]
  },
  {
   "cell_type": "code",
   "execution_count": 2,
   "metadata": {},
   "outputs": [],
   "source": [
    "float numero, soma = 0.0;"
   ]
  },
  {
   "cell_type": "markdown",
   "metadata": {},
   "source": [
    "## Corpo do algoritmo"
   ]
  },
  {
   "cell_type": "code",
   "execution_count": null,
   "metadata": {},
   "outputs": [],
   "source": [
    "do {\n",
    "    cout<<\"Entre um número: \";\n",
    "    cin >> numero;\n",
    "    soma += numero;\n",
    "}\n",
    "while(numero != 0.0);\n",
    "cout << \"soma = \" << soma;"
   ]
  },
  {
   "cell_type": "markdown",
   "metadata": {},
   "source": [
    "## Exemplo 2\n",
    "\n",
    "O modelo de crescimento [populacional de Malthus](https://pt.wikipedia.org/wiki/Teoria_populacional_malthusiana) é um modelo matemático que, apesar de ser simples, aparece frequentemente na natureza.\n",
    "Ele pode ser utilizado para modelar diversos processos, como o crescimento populacional de bactérias, de uma cidade e diversas outras populações.\n",
    "\n",
    "Matematicamente ela pode ser expressa pela equação:\n",
    "\n",
    "$\n",
    "\\frac{dN}{dt} = kN\n",
    "$\n",
    "\n",
    "cuja solução é dada por:\n",
    "\n",
    "$\n",
    "N(t) = N_0e^{kt}\n",
    "$\n",
    "\n",
    "onde $N(t)$ é a população em um dado instante $t$, $N_0$ é a população inicial e $k$ a taxa de crescimento.\n",
    "\n",
    "Suponha o exemplo dado em https://www.youtube.com/watch?v=tVJGR3NUbh4 onde temos:\n",
    "\n",
    "* População inicial de 10.000 bactérias.\n",
    "* A cada 30 minutos ela cresce 80%.\n",
    "\n",
    "Assim, substituindo:\n",
    "\n",
    "$N(30) = 18000 = 10000 e^{30k}$ e, após algumas manipulações, obtemos:\n",
    "\n",
    "$k = ln(1.8)/30$.\n",
    "\n",
    "Vamos simular o crescimento de bactérias até que elas atinjam o valor de 10.000."
   ]
  },
  {
   "cell_type": "markdown",
   "metadata": {},
   "source": [
    "## Declaração de variáveis"
   ]
  },
  {
   "cell_type": "code",
   "execution_count": 4,
   "metadata": {},
   "outputs": [],
   "source": [
    "float k, t, N, N0;"
   ]
  },
  {
   "cell_type": "markdown",
   "metadata": {},
   "source": [
    "## Corpo do algoritmo"
   ]
  },
  {
   "cell_type": "code",
   "execution_count": 8,
   "metadata": {},
   "outputs": [
    {
     "name": "stdout",
     "output_type": "stream",
     "text": [
      "A população após 0 minutos é de 10000\n",
      "A população após 1 minutos é de 10197.9\n",
      "A população após 2 minutos é de 10399.6\n",
      "A população após 3 minutos é de 10605.4\n",
      "A população após 4 minutos é de 10815.2\n",
      "A população após 5 minutos é de 11029.2\n",
      "A população após 6 minutos é de 11247.5\n",
      "A população após 7 minutos é de 11470\n",
      "A população após 8 minutos é de 11697\n",
      "A população após 9 minutos é de 11928.4\n",
      "A população após 10 minutos é de 12164.4\n",
      "A população após 11 minutos é de 12405.1\n",
      "A população após 12 minutos é de 12650.5\n",
      "A população após 13 minutos é de 12900.8\n",
      "A população após 14 minutos é de 13156.1\n",
      "A população após 15 minutos é de 13416.4\n",
      "A população após 16 minutos é de 13681.9\n",
      "A população após 17 minutos é de 13952.6\n",
      "A população após 18 minutos é de 14228.6\n",
      "A população após 19 minutos é de 14510.2\n",
      "A população após 20 minutos é de 14797.3\n",
      "A população após 21 minutos é de 15090.1\n",
      "A população após 22 minutos é de 15388.6\n",
      "A população após 23 minutos é de 15693.1\n",
      "A população após 24 minutos é de 16003.6\n",
      "A população após 25 minutos é de 16320.3\n",
      "A população após 26 minutos é de 16643.2\n",
      "A população após 27 minutos é de 16972.5\n",
      "A população após 28 minutos é de 17308.3\n",
      "A população após 29 minutos é de 17650.8\n",
      "A população após 30 minutos é de 18000\n",
      "A população após 31 minutos é de 18356.1\n",
      "A população após 32 minutos é de 18719.3\n",
      "A população após 33 minutos é de 19089.7\n",
      "A população após 34 minutos é de 19467.4\n",
      "A população após 35 minutos é de 19852.6\n",
      "A população após 36 minutos é de 20245.4\n",
      "A população após 37 minutos é de 20646\n",
      "A população após 38 minutos é de 21054.5\n",
      "A população após 39 minutos é de 21471.1\n",
      "A população após 40 minutos é de 21895.9\n",
      "A população após 41 minutos é de 22329.2\n",
      "A população após 42 minutos é de 22771\n",
      "A população após 43 minutos é de 23221.5\n",
      "A população após 44 minutos é de 23681\n",
      "A população após 45 minutos é de 24149.5\n",
      "A população após 46 minutos é de 24627.4\n",
      "A população após 47 minutos é de 25114.6\n",
      "A população após 48 minutos é de 25611.6\n",
      "A população após 49 minutos é de 26118.3\n",
      "A população após 50 minutos é de 26635.1\n",
      "A população após 51 minutos é de 27162.1\n",
      "A população após 52 minutos é de 27699.5\n",
      "A população após 53 minutos é de 28247.6\n",
      "A população após 54 minutos é de 28806.5\n",
      "A população após 55 minutos é de 29376.5\n",
      "A população após 56 minutos é de 29957.7\n",
      "A população após 57 minutos é de 30550.5\n",
      "A população após 58 minutos é de 31154.9\n",
      "A população após 59 minutos é de 31771.4\n",
      "A população após 60 minutos é de 32400\n",
      "A população após 61 minutos é de 33041.1\n",
      "A população após 62 minutos é de 33694.8\n",
      "A população após 63 minutos é de 34361.5\n",
      "A população após 64 minutos é de 35041.4\n",
      "A população após 65 minutos é de 35734.7\n",
      "A população após 66 minutos é de 36441.8\n",
      "A população após 67 minutos é de 37162.8\n",
      "A população após 68 minutos é de 37898.1\n",
      "A população após 69 minutos é de 38648\n",
      "A população após 70 minutos é de 39412.7\n",
      "A população após 71 minutos é de 40192.5\n",
      "A população após 72 minutos é de 40987.7\n",
      "A população após 73 minutos é de 41798.7\n",
      "A população após 74 minutos é de 42625.8\n",
      "A população após 75 minutos é de 43469.2\n",
      "A população após 76 minutos é de 44329.2\n",
      "A população após 77 minutos é de 45206.4\n",
      "A população após 78 minutos é de 46100.8\n",
      "A população após 79 minutos é de 47013\n",
      "A população após 80 minutos é de 47943.2\n",
      "A população após 81 minutos é de 48891.8\n",
      "A população após 82 minutos é de 49859.1\n",
      "A população após 83 minutos é de 50845.7\n",
      "A população após 84 minutos é de 51851.7\n",
      "A população após 85 minutos é de 52877.6\n",
      "A população após 86 minutos é de 53923.9\n",
      "A população após 87 minutos é de 54990.8\n",
      "A população após 88 minutos é de 56078.9\n",
      "A população após 89 minutos é de 57188.5\n",
      "A população após 90 minutos é de 58320\n",
      "A população após 91 minutos é de 59473.9\n",
      "A população após 92 minutos é de 60650.7\n",
      "A população após 93 minutos é de 61850.7\n",
      "A população após 94 minutos é de 63074.5\n",
      "A população após 95 minutos é de 64322.5\n",
      "A população após 96 minutos é de 65595.2\n",
      "A população após 97 minutos é de 66893.1\n",
      "A população após 98 minutos é de 68216.6\n",
      "A população após 99 minutos é de 69566.4\n",
      "A população após 100 minutos é de 70942.8\n",
      "A população após 101 minutos é de 72346.5\n",
      "A população após 102 minutos é de 73777.9\n",
      "A população após 103 minutos é de 75237.7\n",
      "A população após 104 minutos é de 76726.4\n",
      "A população após 105 minutos é de 78244.5\n",
      "A população após 106 minutos é de 79792.6\n",
      "A população após 107 minutos é de 81371.4\n",
      "A população após 108 minutos é de 82981.4\n",
      "A população após 109 minutos é de 84623.3\n",
      "A população após 110 minutos é de 86297.7\n",
      "A população após 111 minutos é de 88005.2\n",
      "A população após 112 minutos é de 89746.5\n",
      "A população após 113 minutos é de 91522.2\n",
      "A população após 114 minutos é de 93333.1\n",
      "A população após 115 minutos é de 95179.8\n",
      "A população após 116 minutos é de 97063\n",
      "A população após 117 minutos é de 98983.5\n",
      "A população após 118 minutos é de 100942\n"
     ]
    }
   ],
   "source": [
    "N0 = 10000;\n",
    "t = 0;\n",
    "k = log(1.8)/30;\n",
    "\n",
    "do {\n",
    "    N = N0*exp(k*t);\n",
    "    cout<<\"A população após \" << t << \" minutos é de \" << N << endl;\n",
    "    t = t + 1;\n",
    "}\n",
    "while(N <= 1e5);"
   ]
  },
  {
   "cell_type": "markdown",
   "metadata": {},
   "source": [
    "[**&#10094; Previous**](a09_laco_while.ipynb) | [**Home**](a00_aeds1.ipynb) | [**Next &#10095;**](a09_laco_for.ipynb)"
   ]
  }
 ],
 "metadata": {
  "kernelspec": {
   "display_name": "C++14",
   "language": "C++14",
   "name": "xcpp14"
  },
  "language_info": {
   "codemirror_mode": "text/x-c++src",
   "file_extension": ".cpp",
   "mimetype": "text/x-c++src",
   "name": "c++",
   "version": "14"
  }
 },
 "nbformat": 4,
 "nbformat_minor": 4
}
