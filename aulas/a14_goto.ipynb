{
 "cells": [
  {
   "cell_type": "markdown",
   "metadata": {},
   "source": [
    "# Comando goto\n",
    "\n",
    "O comando goto apresenta um comportamento próximo aquele encontrado dentro dos processadores (linguagem assembly) e seu uso não obedece ao paradigma de programação estruturada, portanto seu uso é atualmente desencorajado.\n",
    "\n",
    "![goto](figuras/goto292.png)"
   ]
  },
  {
   "cell_type": "code",
   "execution_count": 1,
   "metadata": {},
   "outputs": [],
   "source": [
    "#include <iostream>\n",
    "using namespace std;"
   ]
  },
  {
   "cell_type": "code",
   "execution_count": 3,
   "metadata": {},
   "outputs": [],
   "source": [
    "int numero;"
   ]
  },
  {
   "cell_type": "code",
   "execution_count": 5,
   "metadata": {},
   "outputs": [
    {
     "name": "stdout",
     "output_type": "stream",
     "text": [
      "0\n",
      "1\n",
      "2\n",
      "3\n",
      "4\n",
      "5\n",
      "6\n",
      "7\n",
      "8\n",
      "9\n"
     ]
    }
   ],
   "source": [
    "numero = 0;\n",
    "inicio: if (numero < 10) {\n",
    "    cout << numero << endl;\n",
    "    numero++;\n",
    "    goto inicio;\n",
    "}"
   ]
  },
  {
   "cell_type": "markdown",
   "metadata": {},
   "source": [
    "Historicamente o conceito do comando goto surgiu antes da consolidação do paradigma de programação estruturada.\n",
    "De fato, o comando goto é um dos comandos que geralmente é implementado diretamente em um microprocessador, enquanto as estruturas while e for não são, e devem ser reorganizadas pelo compilador que utiliza o comando goto para obter o mesmo efeito.\n",
    "\n",
    "O código acima pode ser facilmente escrito como:"
   ]
  },
  {
   "cell_type": "code",
   "execution_count": 6,
   "metadata": {},
   "outputs": [
    {
     "name": "stdout",
     "output_type": "stream",
     "text": [
      "0\n",
      "1\n",
      "2\n",
      "3\n",
      "4\n",
      "5\n",
      "6\n",
      "7\n",
      "8\n",
      "9\n"
     ]
    }
   ],
   "source": [
    "numero = 0;\n",
    "while (numero < 10) {\n",
    "    cout << numero << endl;\n",
    "    numero++;\n",
    "}"
   ]
  },
  {
   "cell_type": "markdown",
   "metadata": {},
   "source": [
    "cuja leitura é muito mais fácil."
   ]
  }
 ],
 "metadata": {
  "kernelspec": {
   "display_name": "C++14",
   "language": "C++14",
   "name": "xcpp14"
  },
  "language_info": {
   "codemirror_mode": "text/x-c++src",
   "file_extension": ".cpp",
   "mimetype": "text/x-c++src",
   "name": "c++",
   "version": "14"
  }
 },
 "nbformat": 4,
 "nbformat_minor": 4
}
