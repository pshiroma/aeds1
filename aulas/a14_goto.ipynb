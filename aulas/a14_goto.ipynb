{
 "cells": [
  {
   "cell_type": "markdown",
   "metadata": {},
   "source": [
    "# Comando goto\n",
    "\n",
    "O comando goto apresenta um comportamento próximo aquele encontrado dentro dos processadores (linguagem assembly) e seu uso não obedece ao paradigma de programação estruturada, portanto seu uso é atualmente desencorajado.\n",
    "\n",
    "![goto](figuras/goto292.png)"
   ]
  }
 ],
 "metadata": {
  "kernelspec": {
   "display_name": "C++14",
   "language": "C++14",
   "name": "xcpp14"
  },
  "language_info": {
   "codemirror_mode": "text/x-c++src",
   "file_extension": ".cpp",
   "mimetype": "text/x-c++src",
   "name": "c++",
   "version": "14"
  }
 },
 "nbformat": 4,
 "nbformat_minor": 4
}
