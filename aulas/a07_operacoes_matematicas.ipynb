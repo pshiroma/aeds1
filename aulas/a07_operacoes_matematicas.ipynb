{
 "cells": [
  {
   "cell_type": "markdown",
   "metadata": {},
   "source": [
    "# Operações matemáticas\n",
    "\n",
    "Como sabemos o computador pode ser visto como uma calculadora inteligente.\n",
    "\n",
    "Vamos escrever um programa que calcula as raízes de uma equação de 2 grau:"
   ]
  },
  {
   "cell_type": "markdown",
   "metadata": {},
   "source": [
    "## Inclusão das bibliotecas\n",
    "\n",
    "A raiz quadrada pode ser encontrada dentro da biblioteca `cmath`"
   ]
  },
  {
   "cell_type": "code",
   "execution_count": null,
   "metadata": {},
   "outputs": [],
   "source": [
    "#include <iostream>\n",
    "#include <string>\n",
    "#include <cmath>\n",
    "using namespace std;"
   ]
  },
  {
   "cell_type": "markdown",
   "metadata": {},
   "source": [
    "## Declaração de variáveis"
   ]
  },
  {
   "cell_type": "code",
   "execution_count": null,
   "metadata": {},
   "outputs": [],
   "source": [
    "float a, b,c;\n",
    "float x1, x2;"
   ]
  },
  {
   "cell_type": "code",
   "execution_count": null,
   "metadata": {},
   "outputs": [],
   "source": [
    "float delta;"
   ]
  },
  {
   "cell_type": "markdown",
   "metadata": {},
   "source": [
    "## Corpo principal do algoritmo\n",
    "\n",
    "A seguir, vamos implementar a fórmula de Bhaskara:\n",
    "\n",
    "$\\Delta = b^2 - 4\\cdot a \\cdot c$\n",
    "\n",
    "cujas raízes são:\n",
    "\n",
    "$x_1 = \\frac{-b + \\sqrt{\\Delta}}{2a}$ e\n",
    "\n",
    "$x_2 = \\frac{-b - \\sqrt{\\Delta}}{2a}$\n"
   ]
  },
  {
   "cell_type": "code",
   "execution_count": null,
   "metadata": {},
   "outputs": [],
   "source": [
    "cout << \"Calculando as raízes da equação ax^2 + bx + c = 0: \" << endl;\n",
    "cout << \"Entre com o valor de a: \";\n",
    "cin >> a;\n",
    "cout << \"Entre com o valor de b: \";\n",
    "cin >> b;\n",
    "cout << \"Entre com o valor de c: \";\n",
    "cin >> c;\n",
    "\n",
    "delta = b*b - 4*a*c;\n",
    "x1 = (-b + sqrt(delta))/(2*a);\n",
    "x2 = (-b - sqrt(delta))/(2*a);\n",
    "\n",
    "cout << \"As raízes são: \" << x1 << \" e \" << x2 << endl;"
   ]
  },
  {
   "cell_type": "markdown",
   "metadata": {},
   "source": [
    "<div class=\"alert alert-info\">O valor de b^2 pode ser calculado tanto usando b*b ou a função pow(b,2)</div>"
   ]
  },
  {
   "cell_type": "markdown",
   "metadata": {},
   "source": [
    "## Exemplos\n",
    "\n",
    "Como visto, as operações matemáticas em C são simples e intuitivas.\n",
    "Vamos mostrar abaixo mais algumas operações:"
   ]
  },
  {
   "cell_type": "code",
   "execution_count": null,
   "metadata": {},
   "outputs": [],
   "source": [
    "int i;"
   ]
  },
  {
   "cell_type": "code",
   "execution_count": null,
   "metadata": {},
   "outputs": [],
   "source": [
    "i = 365*24*60;\n",
    "cout << \"Minutos em um ano: \" << i;"
   ]
  },
  {
   "cell_type": "markdown",
   "metadata": {},
   "source": [
    "Cuidado com alguns erros comuns, por exemplo, suponha que desejemos calcular a média de 2 números:"
   ]
  },
  {
   "cell_type": "code",
   "execution_count": null,
   "metadata": {},
   "outputs": [],
   "source": [
    "i = 10+8/2;\n",
    "cout << i;"
   ]
  },
  {
   "cell_type": "markdown",
   "metadata": {},
   "source": [
    "Este erro acontece porque existe uma precedência entre as operações matemáticas. Veja o exemplo abaixo:"
   ]
  },
  {
   "cell_type": "code",
   "execution_count": null,
   "metadata": {},
   "outputs": [],
   "source": [
    "i = 10+8/2*5-42;\n",
    "cout << i ;"
   ]
  },
  {
   "cell_type": "markdown",
   "metadata": {},
   "source": [
    "No exemplo acima, as operações de **multiplicação** e **divisão** são executadas primeiro, da esquerda para direita.\n",
    "\n",
    "Ou seja:\n",
    "\n",
    "```\n",
    "i = 10 + (8 / 2) * 5 - 42\n",
    "i = 10 + (4 * 5) - 42\n",
    "i = (10 + 20) - 42\n",
    "i = 30 - 42\n",
    "i = -12\n",
    "```\n",
    "\n",
    "\n",
    "\n",
    "As operações de **soma** e **subtração** são executadas a seguir, também da esquerda para direita."
   ]
  },
  {
   "cell_type": "markdown",
   "metadata": {},
   "source": [
    "Caso desejemos mudar a ordem com que as operações são realizadas, basta usar um ou mais parênteses:"
   ]
  },
  {
   "cell_type": "code",
   "execution_count": null,
   "metadata": {},
   "outputs": [],
   "source": [
    "i = ((6 + 3)/(1 + 2))*(4 + 6);\n",
    "cout << i;"
   ]
  },
  {
   "cell_type": "markdown",
   "metadata": {},
   "source": [
    "```\n",
    "i = ((6 + 3)/(1 + 2))*(4 + 6)\n",
    "i = (9/(1 + 2))*(4 + 6)\n",
    "i = (9/3)*(4 + 6)\n",
    "i = 3*(4 + 6)\n",
    "i = 3*10\n",
    "i = 30\n",
    "```"
   ]
  },
  {
   "cell_type": "markdown",
   "metadata": {},
   "source": [
    "<div class=\"alert alert-warning\">Cuidado com a divisão entre inteiros</div>\n",
    "\n",
    "Um cuidado extra que você deve ter em mente quando realiza a divisão é que a divisão entre 2 números **inteiros** é arredondada para um número inteiro:"
   ]
  },
  {
   "cell_type": "code",
   "execution_count": null,
   "metadata": {},
   "outputs": [],
   "source": [
    "float f;"
   ]
  },
  {
   "cell_type": "code",
   "execution_count": null,
   "metadata": {},
   "outputs": [],
   "source": [
    "f = 1/5;\n",
    "cout << f << endl;\n",
    "f  = 4/5;\n",
    "cout << f << endl;"
   ]
  },
  {
   "cell_type": "markdown",
   "metadata": {},
   "source": [
    "Veja que, mesmo a variável `f` sendo do tipo float, o resultado é arredondado **antes** da atribuição (=).\n",
    "\n",
    "Para corrigir este tipo de problema existem 2 formas: \n",
    "\n",
    "1. Realizar o casting para float\n",
    "2. Usar um operando que seja do tipo float"
   ]
  },
  {
   "cell_type": "code",
   "execution_count": null,
   "metadata": {},
   "outputs": [],
   "source": [
    "f = (float)1/5;\n",
    "cout << f << endl;\n",
    "\n",
    "f = 4/5.0;\n",
    "cout << f << endl;"
   ]
  },
  {
   "cell_type": "markdown",
   "metadata": {},
   "source": [
    "## Exemplo: Cálculo do resto da divisão\n",
    "\n",
    "Para calcularmos o resto da divisão de dois números inteiros, utilizamos o operador `%`.\n",
    "Note que é necessário utilizar variáveis inteiras como entrada."
   ]
  },
  {
   "cell_type": "markdown",
   "metadata": {},
   "source": [
    "### Declaração de variáveis"
   ]
  },
  {
   "cell_type": "code",
   "execution_count": null,
   "metadata": {},
   "outputs": [],
   "source": [
    "int divisor, dividendo, resto, quociente;"
   ]
  },
  {
   "cell_type": "markdown",
   "metadata": {},
   "source": [
    "### Corpo do algoritmo"
   ]
  },
  {
   "cell_type": "code",
   "execution_count": null,
   "metadata": {},
   "outputs": [],
   "source": [
    "cout << \"Entre com o dividendo: \";\n",
    "cin >> dividendo;\n",
    "cout << \"Entre com o divisor: \";\n",
    "cin >> divisor;\n",
    "\n",
    "quociente = dividendo / divisor;\n",
    "resto = dividendo % divisor;\n",
    "\n",
    "cout << \"O quociente é \" << quociente << \" e o resto \" << resto << endl;"
   ]
  },
  {
   "cell_type": "markdown",
   "metadata": {},
   "source": [
    "## Exemplo: Abreviação de Operadores\n",
    "\n",
    "A linguagem C fornece operadores *unários* (que recebem apenas 1 operando) para abreviar a sintaxe e tornar o código-fonte mais enxuto.\n",
    "Tal prática também evita que uma variável seja inadivertidamente utilizada.\n",
    "\n",
    "Por exemplo, suponha que, por um lapso você tenha declarado as variáveis:"
   ]
  },
  {
   "cell_type": "code",
   "execution_count": null,
   "metadata": {},
   "outputs": [],
   "source": [
    "int Umavariavel, UmaVariavel;"
   ]
  },
  {
   "cell_type": "markdown",
   "metadata": {},
   "source": [
    "Como a linguagem C é *case sensitive*, ou seja, diferencia maiúsculas e minúsculas, temos 2 variáveis.\n",
    "\n",
    "Se você executar o código:"
   ]
  },
  {
   "cell_type": "code",
   "execution_count": null,
   "metadata": {},
   "outputs": [],
   "source": [
    "Umavariavel = 5;\n",
    "UmaVariavel = 7;\n",
    "\n",
    "UmaVariavel = UmaVariavel + 1;"
   ]
  },
  {
   "cell_type": "markdown",
   "metadata": {},
   "source": [
    "o código torna-se difícil de entender.\n",
    "Nestes casos onde deseja-se alterar o valor de uma variável, realizando um autoincremento ou outra operação que atue apenas sobre uma variável existem as opções a seguir:"
   ]
  },
  {
   "cell_type": "code",
   "execution_count": null,
   "metadata": {},
   "outputs": [],
   "source": [
    "float variavel; "
   ]
  },
  {
   "cell_type": "code",
   "execution_count": null,
   "metadata": {},
   "outputs": [],
   "source": [
    "variavel = 5;\n",
    "cout << variavel << endl;\n",
    "\n",
    "variavel++;\n",
    "cout << \"Autoincremento: \" << variavel << endl;\n",
    "\n",
    "++variavel;\n",
    "cout << \"Outra forma de autoincremento: \" << variavel << endl;\n",
    "\n",
    "variavel--;\n",
    "cout << \"Autodecremento: \" << variavel << endl;\n",
    "\n",
    "variavel += 5;\n",
    "cout << \"Autoincremento com valor diferente de 1: \" << variavel << endl;\n",
    "\n",
    "variavel -= 3;\n",
    "cout << \"Autodecremento com valor diferente de 1: \" << variavel << endl;\n",
    "\n",
    "variavel *= 2;\n",
    "cout << \"Atribuição com multiplicação: \" << variavel << endl;\n",
    "\n",
    "variavel /= 2;\n",
    "cout << \"Atribuição com divisão: \" << variavel << endl;\n"
   ]
  }
 ],
 "metadata": {
  "kernelspec": {
   "display_name": "C++14",
   "language": "C++14",
   "name": "xcpp14"
  },
  "language_info": {
   "codemirror_mode": "text/x-c++src",
   "file_extension": ".cpp",
   "mimetype": "text/x-c++src",
   "name": "c++",
   "version": "14"
  }
 },
 "nbformat": 4,
 "nbformat_minor": 4
}
