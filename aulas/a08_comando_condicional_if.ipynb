{
 "cells": [
  {
   "cell_type": "markdown",
   "metadata": {},
   "source": [
    "[**&#10094; Previous**](a07_operadores_relacionais_e_logicos.ipynb) | [**Home**](a00_aeds1.ipynb) | [**Next &#10095;**](a08_comando_condicional_if_else.ipynb)"
   ]
  },
  {
   "cell_type": "markdown",
   "metadata": {},
   "source": [
    "# Comando condicional if\n",
    "\n",
    "\n",
    "Conforme vimos nos exemplos anteriores, o fluxo de um programa segue a ordem em que as linhas são escritas, por exemplo, no código:"
   ]
  },
  {
   "cell_type": "code",
   "execution_count": 2,
   "metadata": {},
   "outputs": [],
   "source": [
    "int i,j,k;"
   ]
  },
  {
   "cell_type": "code",
   "execution_count": 5,
   "metadata": {},
   "outputs": [
    {
     "data": {
      "text/plain": [
       "65"
      ]
     },
     "execution_count": 5,
     "metadata": {},
     "output_type": "execute_result"
    }
   ],
   "source": [
    "i = 20;\n",
    "j = 10;\n",
    "k = i + j;\n",
    "j = k + 5;\n",
    "i = k + j;"
   ]
  },
  {
   "cell_type": "markdown",
   "metadata": {},
   "source": [
    "temos o seguinte:\n",
    "\n",
    "1. i recebe o valor de 20;\n",
    "2. j recebe o valor de 10;\n",
    "3. k recebe o valor de i (20) + j (10);\n",
    "4. j recebe o valor de k (30) + 5;\n",
    "5. i recebe o valor de k (30) + j (35)\n",
    "\n",
    "Ao final, teremos:\n",
    "\n",
    "* k = 30;\n",
    "* j = 35;\n",
    "* i = 65;\n"
   ]
  },
  {
   "cell_type": "markdown",
   "metadata": {},
   "source": [
    "O grande avanço que diferencia um computador de uma calculadora normal é sua capacidade em mudar o fluxo com que estes comandos são executados.\n",
    "Esta mudança de fluxo pode ser feita utilizando comandos específicos, como o `if`, `switch`, `for`, `while`, `goto`.\n",
    "São estes comandos e sua capacidade de mudar o fluxo de execução é que permitiram o surgimento de computadores \"inteligentes\"."
   ]
  },
  {
   "cell_type": "markdown",
   "metadata": {},
   "source": [
    "## Sintaxe comando if\n",
    "\n",
    "O comando `if` obedece a seguinte sintaxe:\n",
    "\n",
    "```\n",
    "if (condicao)\n",
    "{\n",
    "   ... // conjunto de comandos\n",
    "}\n",
    "```\n",
    "\n",
    "Se a condição for verdadeira, o conjunto de comandos entre '{' e '}' é executado.\n",
    "Se a condição for falsa, os comandos entre '{' e '}' são pulados.\n",
    "\n",
    "![if](figuras/tikz/fluxograma_if.png)"
   ]
  },
  {
   "cell_type": "code",
   "execution_count": 6,
   "metadata": {},
   "outputs": [],
   "source": [
    "#include <iostream>\n",
    "using namespace std;"
   ]
  },
  {
   "cell_type": "code",
   "execution_count": 7,
   "metadata": {},
   "outputs": [],
   "source": [
    "float temperatura;"
   ]
  },
  {
   "cell_type": "code",
   "execution_count": 10,
   "metadata": {},
   "outputs": [
    {
     "name": "stdout",
     "output_type": "stream",
     "text": [
      "Entre com a temperatura: 40\n",
      "Atenção! Você está com febre!\n"
     ]
    }
   ],
   "source": [
    "cout << \"Entre com a temperatura: \";\n",
    "cin >> temperatura;\n",
    "if (temperatura > 37.8)\n",
    "{\n",
    "    cout << \"Atenção! Você está com febre!\" << endl;\n",
    "}"
   ]
  },
  {
   "cell_type": "markdown",
   "metadata": {},
   "source": [
    "## Operadores relacionais\n",
    "\n",
    "Vimos anteriormente diversos operadores matemáticos.\n",
    "O campo de condição presente dentro do comando `if` utiliza principalmente outro tipo de operador, chamado de operadores de comparação e operadores lógicos."
   ]
  },
  {
   "cell_type": "code",
   "execution_count": 11,
   "metadata": {},
   "outputs": [],
   "source": [
    "int anoTetra = 1994;\n",
    "int anoPenta = 2002;\n",
    "int copaEUA = 1994;\n",
    "int copaFranca = 1998;\n",
    "int copaJapao = 2002;\n",
    "int copaAlemanha = 2006;"
   ]
  },
  {
   "cell_type": "code",
   "execution_count": 25,
   "metadata": {},
   "outputs": [
    {
     "name": "stdout",
     "output_type": "stream",
     "text": [
      "O tetra foi nos EUA\n",
      "O penta foi antes da copa da Alemanha\n",
      "A copa do Japao foi depois da copa da Franca\n",
      "O Brasil conquistou o penta na copa do Japao ou antes\n",
      "O Brasil conquistou o penta depois ou no mesmo ano do tetra\n",
      "O Brasil não conquistou o penta na Alemanha\n"
     ]
    }
   ],
   "source": [
    "// Exemplos de expressões que retornam true:\n",
    "if (anoTetra == copaEUA) {\n",
    "    cout << \"O tetra foi nos EUA\" << endl;\n",
    "}\n",
    "if (anoPenta < copaAlemanha) {\n",
    "    cout << \"O penta foi antes da copa da Alemanha\" << endl;\n",
    "}\n",
    "if (copaJapao > copaFranca) {\n",
    "    cout << \"A copa do Japao foi depois da copa da Franca\" << endl;\n",
    "}\n",
    "if (anoPenta <= copaJapao) {\n",
    "    cout << \"O Brasil conquistou o penta na copa do Japao ou antes\" << endl;\n",
    "}\n",
    "if (anoPenta >= anoTetra) {\n",
    "    cout << \"O Brasil conquistou o penta depois ou no mesmo ano do tetra\" << endl;\n",
    "}\n",
    "if (anoPenta != copaAlemanha) {\n",
    "    cout << \"O Brasil não conquistou o penta na Alemanha\" << endl;\n",
    "}"
   ]
  },
  {
   "cell_type": "code",
   "execution_count": 26,
   "metadata": {},
   "outputs": [],
   "source": [
    "// Exemplos de expressões que retornam false\n",
    "// Nenhum dos comandos cout é executado:\n",
    "if (anoPenta == copaEUA) {\n",
    "    cout << \"O penta foi nos EUA\" << endl;\n",
    "}\n",
    "if (copaAlemanha < copaEUA) {\n",
    "    cout << \"A copa da Alemanha foi antes da copa dos EUA\" << endl;\n",
    "}\n",
    "if (anoTetra != copaEUA) {\n",
    "    cout << \"O tetra não foi na copa dos EUA\" << endl;\n",
    "}"
   ]
  },
  {
   "cell_type": "markdown",
   "metadata": {},
   "source": [
    "## Resumindo\n",
    "\n",
    "|Operador| Significado |\n",
    "|--|--|\n",
    "| `==` | igual |\n",
    "| `!=` | diferente |\n",
    "| `<` | menor que |\n",
    "| `<=` | menor ou igual que |\n",
    "| `>` | maior que |\n",
    "| `>=` | maior ou igual que |\n",
    "\n",
    "Observe que os operadores relacionais aceitam variáveis, constantes ou literais do tipo inteiro, short, char, float, double."
   ]
  },
  {
   "cell_type": "code",
   "execution_count": 18,
   "metadata": {},
   "outputs": [],
   "source": [
    "char ch1 = 'A';\n",
    "char ch2 = 'B';"
   ]
  },
  {
   "cell_type": "code",
   "execution_count": 20,
   "metadata": {},
   "outputs": [
    {
     "name": "stdout",
     "output_type": "stream",
     "text": [
      "caracter A vem antes do caracter B (na tabela ASCII)\n",
      "o valor de A na tabela ASCII é menor que 70\n"
     ]
    }
   ],
   "source": [
    "if (ch1 < ch2) {\n",
    "    cout << \"caracter A vem antes do caracter B (na tabela ASCII)\" << endl;\n",
    "}\n",
    "if (ch1 < 70) {\n",
    "    cout << \"o valor de A na tabela ASCII é menor que 70\" << endl;\n",
    "}\n"
   ]
  },
  {
   "cell_type": "markdown",
   "metadata": {},
   "source": [
    "## Exemplo 1\n",
    "\n",
    "Vamos escrever um algoritmo que verifique se um número é divisível por 3:"
   ]
  },
  {
   "cell_type": "code",
   "execution_count": 21,
   "metadata": {},
   "outputs": [],
   "source": [
    "int numero;\n",
    "int resto;"
   ]
  },
  {
   "cell_type": "code",
   "execution_count": 24,
   "metadata": {},
   "outputs": [
    {
     "name": "stdout",
     "output_type": "stream",
     "text": [
      "Entre com um número: 1333\n"
     ]
    }
   ],
   "source": [
    "cout << \"Entre com um número: \" ;\n",
    "cin >> numero;\n",
    "resto = numero % 3;\n",
    "if (resto == 0){\n",
    "    cout << \"O número é divisível por 3\" << endl;\n",
    "}"
   ]
  },
  {
   "cell_type": "markdown",
   "metadata": {},
   "source": [
    "## Exemplo 2\n",
    "\n",
    "Vamos escrever um algoritmo que leia a nota de 3 avaliações, calcule a média e verifique se ela é maior que 60:"
   ]
  },
  {
   "cell_type": "code",
   "execution_count": 27,
   "metadata": {},
   "outputs": [],
   "source": [
    "float nota1, nota2, nota3, media;"
   ]
  },
  {
   "cell_type": "code",
   "execution_count": 28,
   "metadata": {},
   "outputs": [
    {
     "name": "stdout",
     "output_type": "stream",
     "text": [
      "Entre com a primeira nota: 50\n",
      "Entre com a segunda nota: 80\n",
      "Entre com a terceira nota: 90\n",
      "Parabens! Você passou\n"
     ]
    }
   ],
   "source": [
    "cout << \"Entre com a primeira nota: \" ;\n",
    "cin >> nota1;\n",
    "cout << \"Entre com a segunda nota: \" ;\n",
    "cin >> nota2;\n",
    "cout << \"Entre com a terceira nota: \" ;\n",
    "cin >> nota3;\n",
    "media = (nota1 + nota2 + nota3)/3;\n",
    "if (media >=60){\n",
    "    cout << \"Parabens! Você passou\" << endl;\n",
    "}"
   ]
  },
  {
   "cell_type": "markdown",
   "metadata": {},
   "source": [
    "## Exercício 1\n",
    "\n",
    "Escreva um algoritmo que leia um valor $x$ dado pelo usuário e determine se $x$ é zero da função:\n",
    "\n",
    "$f(x) = x^2 + 2x + 1$\n",
    "\n",
    "Lembre-se: Dizemos que $x$ é zero da função se $f(x) = 0$"
   ]
  },
  {
   "cell_type": "markdown",
   "metadata": {},
   "source": [
    "## Declaração de variáveis"
   ]
  },
  {
   "cell_type": "code",
   "execution_count": null,
   "metadata": {},
   "outputs": [],
   "source": []
  },
  {
   "cell_type": "markdown",
   "metadata": {},
   "source": [
    "## Corpo do algoritmo"
   ]
  },
  {
   "cell_type": "code",
   "execution_count": null,
   "metadata": {},
   "outputs": [],
   "source": []
  },
  {
   "cell_type": "markdown",
   "metadata": {},
   "source": [
    "## Exercício 2\n",
    "\n",
    "Suponha que uma caixa esteja sendo puxada com velocidade constante por uma corda na direção da força *f*.\n",
    "A corda é capaz de suportar uma força de até 100N.\n",
    "\n",
    "![https://www.coladaweb.com/fisica/mecanica/plano-inclinado](figuras/plano-inclinado.jpg)\n",
    "\n",
    "Crie um algoritmo que leia a massa da caixa, o ângulo de inclinação da rampa e imprima um aviso caso a corda for se partir."
   ]
  },
  {
   "cell_type": "markdown",
   "metadata": {},
   "source": [
    "## Declaração de variáveis"
   ]
  },
  {
   "cell_type": "code",
   "execution_count": null,
   "metadata": {},
   "outputs": [],
   "source": []
  },
  {
   "cell_type": "markdown",
   "metadata": {},
   "source": [
    "## Corpo do algoritmo"
   ]
  },
  {
   "cell_type": "code",
   "execution_count": null,
   "metadata": {},
   "outputs": [],
   "source": []
  },
  {
   "cell_type": "markdown",
   "metadata": {},
   "source": [
    "Referências:\n",
    "\n",
    "https://www.programiz.com/cpp-programming/if-else\n",
    "\n",
    "https://pt.wikibooks.org/wiki/Programar_em_C/Controle_de_fluxo"
   ]
  },
  {
   "cell_type": "markdown",
   "metadata": {},
   "source": [
    "[**&#10094; Previous**](a07_operadores_relacionais_e_logicos.ipynb) | [**Home**](a00_aeds1.ipynb) | [**Next &#10095;**](a08_comando_condicional_if_else.ipynb)"
   ]
  }
 ],
 "metadata": {
  "kernelspec": {
   "display_name": "C++14",
   "language": "C++14",
   "name": "xcpp14"
  },
  "language_info": {
   "codemirror_mode": "text/x-c++src",
   "file_extension": ".cpp",
   "mimetype": "text/x-c++src",
   "name": "c++",
   "version": "14"
  }
 },
 "nbformat": 4,
 "nbformat_minor": 4
}
