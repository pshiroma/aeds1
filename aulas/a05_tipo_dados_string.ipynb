{
 "cells": [
  {
   "cell_type": "markdown",
   "metadata": {},
   "source": [
    "# Tipo de dados string\n",
    "\n",
    "Em C++ é possível definir o tipo de dados do tipo `string`, capaz de armazenar textos de tamanho variável.\n",
    "\n",
    "Para utilizar strings é necessário carregar a biblioteca `<string>`:"
   ]
  },
  {
   "cell_type": "code",
   "execution_count": 1,
   "metadata": {},
   "outputs": [],
   "source": [
    "#include <iostream>\n",
    "#include <string>\n",
    "\n",
    "using namespace std;"
   ]
  },
  {
   "cell_type": "code",
   "execution_count": 2,
   "metadata": {},
   "outputs": [],
   "source": [
    "string texto;"
   ]
  },
  {
   "cell_type": "code",
   "execution_count": 3,
   "metadata": {},
   "outputs": [
    {
     "name": "stdout",
     "output_type": "stream",
     "text": [
      "Uma string"
     ]
    }
   ],
   "source": [
    "texto = \"Uma string\";\n",
    "cout << texto;"
   ]
  },
  {
   "cell_type": "markdown",
   "metadata": {},
   "source": [
    "Na linguagem C original as strings eram criadas como vetores de caracteres mas, com o advento do C++ a classe string representa hoje uma boa opção.\n",
    "\n",
    "https://www.cprogramming.com/tutorial/string.html"
   ]
  },
  {
   "cell_type": "markdown",
   "metadata": {},
   "source": [
    "## Exercício 1\n",
    "\n",
    "Crie uma variável do tipo `string` para armazenar o texto \"Alo mundo!\".\n",
    "\n",
    "Imprima o texto na tela."
   ]
  },
  {
   "cell_type": "code",
   "execution_count": null,
   "metadata": {},
   "outputs": [],
   "source": []
  },
  {
   "cell_type": "markdown",
   "metadata": {},
   "source": [
    "## Exercício 2\n",
    "\n",
    "A declaração abaixo atribui uma string ou um inteiro à variável `a`?\n",
    "\n",
    "`a = \"12\";`"
   ]
  }
 ],
 "metadata": {
  "kernelspec": {
   "display_name": "C++14",
   "language": "C++14",
   "name": "xcpp14"
  },
  "language_info": {
   "codemirror_mode": "text/x-c++src",
   "file_extension": ".cpp",
   "mimetype": "text/x-c++src",
   "name": "c++",
   "version": "14"
  }
 },
 "nbformat": 4,
 "nbformat_minor": 4
}
