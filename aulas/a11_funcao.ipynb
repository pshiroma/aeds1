{
 "cells": [
  {
   "cell_type": "markdown",
   "metadata": {},
   "source": [
    "[**&#10094; Previous**](a10_arquivos_parte2.ipynb) | [**Home**](a00_aeds1.ipynb) | [**Next &#10095;**](a11_funcao.ipynb)"
   ]
  },
  {
   "cell_type": "code",
   "execution_count": 12,
   "metadata": {},
   "outputs": [],
   "source": [
    "#include <iostream>\n",
    "#include <string>\n",
    "#include <random>\n",
    "#include <cmath>\n",
    "//#include <iomanip>\n",
    "//#include <map>\n",
    "using namespace std;"
   ]
  },
  {
   "cell_type": "code",
   "execution_count": null,
   "metadata": {},
   "outputs": [],
   "source": [
    "#include <iostream>\n",
    "using namespace std;"
   ]
  },
  {
   "cell_type": "markdown",
   "metadata": {},
   "source": [
    "# Funções\n",
    "\n",
    "As bibliotecas são parte fundamental para a existência de um ecossistema responsável por prover funcionalidades que não foram originalmente implementadas.\n",
    "Tal recurso é feito principalmente por meio das funções que são disponibilizadas dentro de cada biblioteca.\n",
    "\n",
    "Muitas bibliotecas, devido à sua ampla gama de aplicações, tornam-se parte intrínsica da linguagem e com o tempo passam a estar disponíveis no momento da instalação do compilador.\n",
    "\n",
    "Para sua utilização basta inserir a diretiva `include <biblioteca>` com a biblioteca a ser incluída.\n",
    "\n",
    "Como exemplos temos:\n",
    "\n",
    "* cmath: Biblioteca com funções matemáticas;\n",
    "* string: Manipulação de strings; \n",
    "* list: Manipulação de listas ligadas;\n",
    "* set: Manipulação de conjuntos;\n",
    "* bitset: Manipulação de vetores de bits;\n",
    "* complex: Manipulação de números complexos;\n",
    "\n",
    "\n",
    "Outras bibliotecas, por serem mais específicas, devem ser baixados no site do desenvolver e ser instalados antes de poderem ser utilizados, como por exemplo:\n",
    "\n",
    "Além disso, temos diversos programas que foram desenvolvidos na linguagem C, como por exemplo o OpenFOAM, que permite simular o comportamento [dinâmico de fluídos ](https://www.youtube.com/watch?v=Atoz4VVuV5A).\n",
    "Devido ao fato do mesmo seguir a filosofia de código livre, é possível baixar o código fonte, **realizar modificações** e compilá-lo para gerar um novo executável.\n"
   ]
  },
  {
   "cell_type": "markdown",
   "metadata": {},
   "source": [
    "## Assinatura\n",
    "\n",
    "Em C, toda função possui uma assinatura, que indica qual a forma correta de utilizá-la.\n",
    "Geralmente a assinatura de uma função encontra-se dentro de um arquivo com extensão \".h\", que pode ser encontrado em uma pasta do seu computador.\n",
    "\n",
    "Também é possível encontrar a documentação de uma função em sites específicos, como:\n",
    "\n",
    "* http://www.cplusplus.com/reference\n",
    "* https://www.mica.edu.vn/perso/Vu-Hai/EE3490/Ref/The%20C++Standard%20Library%20-%202nd%20Edition.pdf\n",
    "* https://www.programiz.com/cpp-programming/library-function \n",
    "\n",
    "A assinatura de uma função tem o formato:\n",
    "\n",
    "```\n",
    "tipo nome_da_funcao(tipo nome_variave1, tipo nome_variavel2, ...);\n",
    "```\n",
    "\n",
    "onde o `tipo` antes do nome da função indica o tipo de dados que é retornado pela função, podendo ser\n",
    "\n",
    "* Qualquer um dos tipos básicos vistos até agora, como int, bool, char, float, double, long, etc;\n",
    "* `void`, no caso da função não retornar nenhum valor como resposta;\n",
    "* Novo tipo, definido no arquivo .h;\n",
    "\n",
    "O nome da função segue as mesmas regras para a declaração de uma variável, e deve ser única no seu projeto.\n",
    "\n",
    "Dentro dos parênteses temos a lista de parâmetros que a função recebe como *entrada*, contendo o tipo do parâmetro bem como um nome mnemônico para cada um.\n",
    "Observe que o nome da variável que você passa para a função não precisa ser o mesmo que se encontra na sua assinatura."
   ]
  },
  {
   "cell_type": "markdown",
   "metadata": {},
   "source": [
    "## Exemplo: função isinf\n",
    "\n",
    "Consultando o site http://www.cplusplus.com/reference/cmath sobre a função `isinf` obtemos:\n",
    "\n",
    "![isinf](figuras/isinf1.png)\n",
    "\n",
    "Neste caso, temos:\n",
    "\n",
    "* O nome da função é `isinf`;\n",
    "* Ela retorna um valor do tipo `bool` como resposta;\n",
    "* Você deve passar como parâmetro de entrada um valor `x` do tipo `float`, `double` ou `long double`;\n",
    "\n",
    "Mais abaixo, temos a descrição dos parâmetros de entrada, onde vemos que `x` é um valor do tipo flutuante:\n",
    "\n",
    "![isinf](figuras/isinf2.png)\n",
    "\n",
    "Vimos na assinatura que o valor de retorno é do tipo bool.\n",
    "Na descrição abaixo temos a explicação do seu significado: Um número diferente de zero (true) se x for infinito, e zero (false) caso contrário.\n",
    "\n",
    "![isinf](figuras/isinf3.png)\n",
    "\n",
    "Por último, um breve exemplo ilustrando seu uso:\n",
    "\n",
    "![isinf](figuras/isinf4.png)\n"
   ]
  },
  {
   "cell_type": "code",
   "execution_count": 159,
   "metadata": {},
   "outputs": [
    {
     "name": "stdout",
     "output_type": "stream",
     "text": [
      "0\n",
      "1\n",
      "-1\n",
      "0\n"
     ]
    }
   ],
   "source": [
    "cout << isinf(0.0) << endl;\n",
    "cout << isinf(1.0/0.0) << endl;\n",
    "cout << isinf(-1.0/0.0) << endl;\n",
    "cout << isinf(sqrt(-1.0)) << endl;"
   ]
  },
  {
   "cell_type": "markdown",
   "metadata": {},
   "source": [
    "## Exemplos: função cos\n",
    "\n",
    "Consultando o site http://www.cplusplus.com/reference/cmath/cos/ temos a documentação da função `cos`:\n",
    "\n",
    "![cos](figuras/cos.png)\n",
    "\n"
   ]
  },
  {
   "cell_type": "markdown",
   "metadata": {},
   "source": [
    "Na função `cos` observamos que:\n",
    "\n",
    "* O valor de `x` representa um ângulo em **radianos**."
   ]
  },
  {
   "cell_type": "code",
   "execution_count": 166,
   "metadata": {},
   "outputs": [
    {
     "name": "stdout",
     "output_type": "stream",
     "text": [
      "0.5\n",
      "-1\n",
      "6.12323e-17\n"
     ]
    }
   ],
   "source": [
    "cout << cos(M_PI/3) << endl;\n",
    "cout << cos(M_PI) << endl;\n",
    "cout << cos(M_PI/2) << endl;"
   ]
  },
  {
   "cell_type": "markdown",
   "metadata": {},
   "source": [
    "<div class=\"alert alert-info\">Note que $cos(\\pi/2)$ não é exatamente zero.</div>"
   ]
  },
  {
   "cell_type": "code",
   "execution_count": 168,
   "metadata": {},
   "outputs": [
    {
     "name": "stdout",
     "output_type": "stream",
     "text": [
      "cos(pi/2) não é zero\n"
     ]
    }
   ],
   "source": [
    "if (cos(M_PI/2) == 0.0)\n",
    "    cout << \"cos(pi/2) é zero\" << endl;\n",
    "else\n",
    "    cout << \"cos(pi/2) não é zero\" << endl;\n"
   ]
  },
  {
   "cell_type": "markdown",
   "metadata": {},
   "source": [
    "<div class=\"alert alert-info\">Quando trabalhamos com números reais (float, double) fique sempre alerta com comparações do tipo == ou !=</div>"
   ]
  },
  {
   "cell_type": "markdown",
   "metadata": {},
   "source": [
    "## Exemplo: time\n",
    "\n",
    "Consulte as funções `time` e `ctime` dentro da biblioteca ctime (http://www.cplusplus.com/reference/ctime/) e em seguida execute o código abaixo:"
   ]
  },
  {
   "cell_type": "code",
   "execution_count": 95,
   "metadata": {},
   "outputs": [],
   "source": [
    "#include <ctime>\n",
    "using namespace std;"
   ]
  },
  {
   "cell_type": "code",
   "execution_count": 96,
   "metadata": {},
   "outputs": [],
   "source": [
    "time_t current_time;"
   ]
  },
  {
   "cell_type": "markdown",
   "metadata": {},
   "source": [
    "A biblioteca ctime cria um novo tipo de dados, chamado `time_t`.\n",
    "Em muitos casos o tipo `time_t` é apenas um `long int`, capaz de armazenar a quantidade de segundos desde 1/1/1970."
   ]
  },
  {
   "cell_type": "code",
   "execution_count": 169,
   "metadata": {},
   "outputs": [
    {
     "name": "stdout",
     "output_type": "stream",
     "text": [
      "1586524208 seconds has passed since 00:00:00 GMT, Jan 1, 1970"
     ]
    }
   ],
   "source": [
    "current_time = time(NULL);\n",
    "cout << current_time << \" seconds has passed since 00:00:00 GMT, Jan 1, 1970\";"
   ]
  },
  {
   "cell_type": "code",
   "execution_count": 172,
   "metadata": {},
   "outputs": [
    {
     "name": "stdout",
     "output_type": "stream",
     "text": [
      "Fri Apr 10 10:10:08 2020\n",
      "\n"
     ]
    }
   ],
   "source": [
    "cout << ctime(&current_time) << endl;"
   ]
  },
  {
   "cell_type": "markdown",
   "metadata": {},
   "source": [
    "## Exemplo: normal_distribution"
   ]
  },
  {
   "cell_type": "code",
   "execution_count": 2,
   "metadata": {},
   "outputs": [],
   "source": [
    "std::random_device rd{};\n",
    "std::mt19937 gen;\n",
    "std::normal_distribution<> d;"
   ]
  },
  {
   "cell_type": "code",
   "execution_count": 94,
   "metadata": {},
   "outputs": [
    {
     "name": "stdout",
     "output_type": "stream",
     "text": [
      "9.45025\n",
      "8.59713\n",
      "11.5828\n",
      "8.95485\n",
      "10.2576\n",
      "8.04061\n",
      "8.49219\n",
      "9.68471\n",
      "10.8582\n",
      "10.0713\n",
      "7.70769\n",
      "8.58445\n",
      "10.8858\n",
      "10.6319\n",
      "10.0403\n",
      "9.09688\n",
      "10.1753\n",
      "10.1944\n",
      "9.46475\n",
      "10.7774\n"
     ]
    }
   ],
   "source": [
    "gen = mt19937(1);\n",
    "//gen = mt19937(rd());\n",
    "d = normal_distribution<>(10,1);\n",
    "\n",
    "for (int n=0; n < 20; n++) {\n",
    "    cout << d(gen) << endl;\n",
    "}"
   ]
  },
  {
   "cell_type": "markdown",
   "metadata": {},
   "source": [
    "## Exercícios\n",
    "\n",
    "Consulte a biblioteca `cmath` e"
   ]
  },
  {
   "cell_type": "markdown",
   "metadata": {},
   "source": [
    "[**&#10094; Previous**](a10_arquivos_parte2.ipynb) | [**Home**](a00_aeds1.ipynb) | [**Next &#10095;**](a11_funcao.ipynb)"
   ]
  }
 ],
 "metadata": {
  "kernelspec": {
   "display_name": "C++14",
   "language": "C++14",
   "name": "xcpp14"
  },
  "language_info": {
   "codemirror_mode": "text/x-c++src",
   "file_extension": ".cpp",
   "mimetype": "text/x-c++src",
   "name": "c++",
   "version": "14"
  }
 },
 "nbformat": 4,
 "nbformat_minor": 4
}
