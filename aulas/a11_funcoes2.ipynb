{
 "cells": [
  {
   "cell_type": "markdown",
   "metadata": {},
   "source": [
    "[**&#10094; Previous**](a10_arquivos_parte2.ipynb) | [**Home**](a00_aeds1.ipynb) | [**Next &#10095;**](a11_funcao.ipynb)"
   ]
  },
  {
   "cell_type": "markdown",
   "metadata": {},
   "source": [
    "# Funções - usando funções externas\n",
    "\n",
    "A linguagem C permite utilizar funções escritas por outras pessoas, diminuindo o tempo de desenvolvimento de novos programas. \n",
    "Quando desejamos utilizar funções existem 2 opções:\n",
    "\n",
    "* O desenvolvedor disponibilizou uma biblioteca compilada, mas não o código fonte.\n",
    " Neste caso, você terá provalvemente um arquivo com extensão .lib (ou .so no linux) e um arquvo de texto com extensão .h, .hpp ou similar. Cada compilador possui uma forma diferente de configurar a inclusão de bibliotecas compiladas.\n",
    " No ambiente xeus-cling / jupyter, você incluir as seguintes diretivas no seu notebook:\n",
    " \n",
    " ``` #pragma cling add_include_path(\"diretório contendo os arquivos .h\")```\n",
    "\n",
    " ``` #pragma cling add_library_path(\"diretório contendo os arquivls .so ou .dll\")```\n",
    "\n",
    " ```#pragma cling load(\"nome do arquivo .so ou .dll que você deseja incluir\")```\n",
    " \n",
    "* O desenvolvedor disponibilizou o código fonte.\n",
    " Neste caso, você pode carregar o arquivo diretamente no seu notebook, usando os comandos internos `.L \"nome do arquvo\"` ou `.X \"nome do arquivo\"`\n",
    "\n",
    "Vamos carregar o arquivo aeds1_plot.cpp:"
   ]
  },
  {
   "cell_type": "code",
   "execution_count": 1,
   "metadata": {},
   "outputs": [],
   "source": [
    ".X aeds1_plot.cpp"
   ]
  },
  {
   "cell_type": "markdown",
   "metadata": {},
   "source": [
    "O arquivo aeds1_plot.cpp possui uma variável chamada `figuras`, que é responsável por desenhar as figura.\n",
    "Pode-se criar até 20 figuras.\n",
    "\n",
    "```\n",
    "aeds1::figuras[0]\n",
    "```\n",
    "<div class=\"alert alert-info\">Variável utilizada para desenhar o gráfico de uma função. Não utilize ponto-e-vírgula no final.</div>\n",
    "\n",
    "Dentro da figura são desenhados curvas, que podem representar o gráfico de funções.\n",
    "Cada curva é identificada por um número inteiro.\n",
    "O arquivo aeds1_plot.cpp possui as seguintes funções implementadas:\n",
    "\n",
    "```\n",
    "void aeds1::plot_novo_ponto(double x, double y, int curvaid = 0, int fig = 0)\n",
    "```\n",
    "<div class=\"alert alert-info\">Insere um novo ponto de coordenadas $(x,y)$ na curva cujo idenfificador é \"curvaid\" e na figura \"fig\". Caso nenhum valor seja fornecido, assume-se curvaid = 0 e fig = 0.</div>\n",
    "\n",
    "```\n",
    "void aeds1::plot_apaga_ponto(int curvaid = 0, int fig = 0)\n",
    "```\n",
    "<div class=\"alert alert-info\">Apaga o último ponto inserido na curva cujo identificador é \"curvaid\" e na figura \"fig\". Caso nenhum valor seja fornecido, assume-se curvaid = 0 e fig = 0.</div>\n",
    "\n",
    "```\n",
    "void aeds1::plot_apaga(int curvaid = 0, int fig = 0)\n",
    "```\n",
    "<div class=\"alert alert-info\">Apaga todos os pontos da curva cujo identificador é \"curvaid\" da figura. Caso nenhum valor seja fornecido, assume-se curvaid = 0 e fig = 0.</div>"
   ]
  },
  {
   "cell_type": "markdown",
   "metadata": {},
   "source": [
    "## Desenhando uma parábola\n",
    "\n",
    "Uma função é uma relação matemática estabelecida entre duas variáveis.\n",
    "Se chamarmos as variáveis de $x$ e $y$, podemos dizer que a função relaciona, para cada valor de $x$ (dentro do domínio) um valor $y$ (no contra-domínio).\n",
    "\n",
    "Assim podemos escrever $y = f(x)$\n",
    "\n",
    "A parábola é uma função cujo formato é dado por:\n",
    "\n",
    "$y = ax^2 + bx + c$.\n",
    "\n",
    "Vamos desenhar uma parábola onde $a = 0.2$, $b = 0$ e $c = 0$."
   ]
  },
  {
   "cell_type": "code",
   "execution_count": null,
   "metadata": {},
   "outputs": [],
   "source": [
    "aeds1::figuras[0]"
   ]
  },
  {
   "cell_type": "code",
   "execution_count": null,
   "metadata": {},
   "outputs": [],
   "source": [
    "int curva_id, fig_id;"
   ]
  },
  {
   "cell_type": "code",
   "execution_count": null,
   "metadata": {},
   "outputs": [],
   "source": [
    "curva_id = 0;\n",
    "fig_id = 0;\n",
    "for (float x = -4.0; x <= 4.0; x += 0.2)\n",
    "{\n",
    "    float y = 0.2*pow(x,2);\n",
    "    aeds1::plot_novo_ponto(x , y, curva_id, fig_id);\n",
    "}"
   ]
  },
  {
   "cell_type": "code",
   "execution_count": null,
   "metadata": {},
   "outputs": [],
   "source": [
    "aeds1::plot_apaga_ponto( curva_id, fig_id);"
   ]
  },
  {
   "cell_type": "code",
   "execution_count": null,
   "metadata": {},
   "outputs": [],
   "source": [
    "aeds1::plot_apaga( fig_id );"
   ]
  },
  {
   "cell_type": "markdown",
   "metadata": {},
   "source": [
    "## Desenhando o cosseno"
   ]
  },
  {
   "cell_type": "code",
   "execution_count": null,
   "metadata": {},
   "outputs": [],
   "source": [
    "aeds1::figuras[1]"
   ]
  },
  {
   "cell_type": "code",
   "execution_count": null,
   "metadata": {},
   "outputs": [],
   "source": [
    "curva_id = 0;\n",
    "fig_id = 1;\n",
    "for (float i = 0.0; i < 4*M_PI; i += 0.2)\n",
    "{\n",
    "    aeds1::plot_novo_ponto(i, cos(i), curva_id, fig_id);\n",
    "}"
   ]
  },
  {
   "cell_type": "code",
   "execution_count": null,
   "metadata": {},
   "outputs": [],
   "source": [
    "aeds1::plot_apaga(curva_id, fig_id);"
   ]
  },
  {
   "cell_type": "markdown",
   "metadata": {},
   "source": [
    "## Desenhando uma exponencial amortecida\n",
    "\n",
    "Vamos desenhar agora o gráfico da função exponencial:\n",
    "\n",
    "$ f(x) = 2 \\cdot e^{-x/2}\n",
    "$\n",
    "\n",
    "e da curva cosseno amortecido pela exponencial:\n",
    "\n",
    "$ f(x) = 2 \\cdot e^{-x/2} \\cdot \\cos(x)\n",
    "$"
   ]
  },
  {
   "cell_type": "code",
   "execution_count": null,
   "metadata": {},
   "outputs": [],
   "source": [
    "aeds1::figuras[2]"
   ]
  },
  {
   "cell_type": "code",
   "execution_count": null,
   "metadata": {},
   "outputs": [],
   "source": [
    "for (float x = 0.0; x < 4*M_PI; x += 0.2)\n",
    "{\n",
    "    aeds1::plot_novo_ponto(x, 2*exp(-x/2)       , 0, 2);\n",
    "    aeds1::plot_novo_ponto(x, 2*exp(-x/2)*cos(x), 1, 2);\n",
    "}"
   ]
  },
  {
   "cell_type": "code",
   "execution_count": null,
   "metadata": {},
   "outputs": [],
   "source": [
    "aeds1::plot_apaga(0,2);\n",
    "aeds1::plot_apaga(1,2);"
   ]
  },
  {
   "cell_type": "markdown",
   "metadata": {},
   "source": [
    "## Desenhando uma equação paramétrica\n",
    "\n",
    "Uma função tipicamente possui apenas 1 único valor $y$ associado a uma entrada $x$.\n",
    "Esta definição traz limitações aos tipos de gráficos que podem ser obtidos.\n",
    "Por exemplo, um círculo não pode ser descrito na forma $y = f(x)$.\n",
    "\n",
    "As equações paramétricas são equações onde um parâmetro adicional é acrescentado, e os valores de $x$ e $y$ são funções deste parâmetro.\n",
    "Ou seja, dado o parâmetro $t$, as equações paramétricas são dados por funções:\n",
    "\n",
    "$x = x(t)$ e  $y = y(y)$\n",
    "\n",
    "Vamos desenhar o gráfico para\n",
    "\n",
    "* $x(t) = t + 1$\n",
    "* $y(t) = t - 2$\n",
    "\n",
    "usando o intervalo $0 \\leq t \\leq 10$"
   ]
  },
  {
   "cell_type": "code",
   "execution_count": null,
   "metadata": {},
   "outputs": [],
   "source": [
    "aeds1::figuras[3]"
   ]
  },
  {
   "cell_type": "code",
   "execution_count": null,
   "metadata": {},
   "outputs": [],
   "source": [
    "for (float t = 0.0; t < 10.0; t += 0.2)\n",
    "{\n",
    "    float x = t + 1;\n",
    "    float y = t - 2;\n",
    "    aeds1::plot_novo_ponto( x , y , 0, 3);\n",
    "}"
   ]
  },
  {
   "cell_type": "markdown",
   "metadata": {},
   "source": [
    "## Exercício 1\n",
    "\n",
    "Desenhe o gráfico da função:\n",
    "\n",
    "$y = log(x)$ para o intervalo $[0, 10]$"
   ]
  },
  {
   "cell_type": "code",
   "execution_count": null,
   "metadata": {},
   "outputs": [],
   "source": [
    "aeds1::figuras[4]"
   ]
  },
  {
   "cell_type": "code",
   "execution_count": null,
   "metadata": {},
   "outputs": [],
   "source": []
  },
  {
   "cell_type": "markdown",
   "metadata": {},
   "source": [
    "## Exercício 2 - meia-vida\n",
    "\n",
    "Uma substância possui um decaimento exponencial e uma meia-vida de 10 minutos.\n",
    "Inicialmente existe 1000g desta substância em um recipiente.\n",
    "\n",
    "Desenhe o gráfico da quantidade de substância presente no recipiente com o intervalo de **1 minuto**.\n",
    "O gráfico deve parar quando existir menos de 10g da substância.\n",
    "\n",
    "Sabemos que ela obedece à uma equação do tipo:\n",
    "\n",
    "$S(t) = S_0e^{-rt}$"
   ]
  },
  {
   "cell_type": "code",
   "execution_count": 5,
   "metadata": {},
   "outputs": [
    {
     "data": {
      "application/vnd.jupyter.widget-view+json": {
       "model_id": "40d48b8242df4511904dd2232087b1d2",
       "version_major": 2,
       "version_minor": 0
      },
      "text/plain": [
       "A Jupyter widget"
      ]
     },
     "execution_count": 5,
     "metadata": {},
     "output_type": "execute_result"
    }
   ],
   "source": [
    "aeds1::figuras[5]"
   ]
  },
  {
   "cell_type": "code",
   "execution_count": null,
   "metadata": {},
   "outputs": [],
   "source": []
  },
  {
   "cell_type": "code",
   "execution_count": null,
   "metadata": {},
   "outputs": [],
   "source": []
  },
  {
   "cell_type": "markdown",
   "metadata": {},
   "source": [
    "## Exercício 3 - distribuição normal\n",
    "\n",
    "A distribuição normal é caracterizada por uma função de probabilidade, cujo gráfico descreve uma curva em formato de sino.\n",
    "Ela é uma da funções mais importantes no estudo da estatística e é utilizada para modelar um grande número de fenômenos naturais.\n",
    "\n",
    "Ela é caracterizada por meio de 2 parâmetros, chamados de:\n",
    "\n",
    "* esperança matemática ($\\mu$)\n",
    "* desvio padrão ($\\sigma$)\n",
    "\n",
    "A densidade de probabilidade da distribuição normal é dado por \n",
    "\n",
    "$f(x) = \\frac{1}{\\sigma\\sqrt{2\\pi}} e^{-\\frac{1}{2}\\left(\\frac{x - \\mu}{\\sigma} \\right)^2}$\n",
    "\n",
    "Faça um algoritmo que leia os parâmetros $\\mu$ e $\\sigma$ e desenhe o gráfico da densidade de probabilidade no intervalo $[\\mu-4\\sigma, \\mu+4\\sigma]$\n",
    "\n",
    "https://pt.wikipedia.org/wiki/Distribui%C3%A7%C3%A3o_normal"
   ]
  },
  {
   "cell_type": "code",
   "execution_count": null,
   "metadata": {},
   "outputs": [],
   "source": [
    "aeds1::figuras[6]"
   ]
  },
  {
   "cell_type": "code",
   "execution_count": null,
   "metadata": {},
   "outputs": [],
   "source": []
  },
  {
   "cell_type": "markdown",
   "metadata": {},
   "source": [
    "## Exercício 4 - cardióide\n",
    "\n",
    "Em geometria, o cardioide é um epiciclóide que possui somente uma ponta. \n",
    "Um cardioide é uma curva matemática cuja forma se assemelha à de um coração. \n",
    "Por este motivo, recebe o nome derivado das palavras kardia (coração) e eidos (forma).\n",
    "\n",
    "Sua forma paramétrica usando o parâmetro $\\theta$ é dado por:\n",
    "\n",
    "* $x(\\theta) = (1 - \\sin\\theta)\\cdot \\cos\\theta$\n",
    "* $y(\\theta) = (1 - \\sin\\theta)\\cdot \\sin\\theta$\n",
    "\n",
    "Desenhe a cardioide no intervalo $0 \\leq \\theta \\leq 2\\pi$."
   ]
  },
  {
   "cell_type": "code",
   "execution_count": null,
   "metadata": {},
   "outputs": [],
   "source": [
    "aeds1::figuras[7]"
   ]
  },
  {
   "cell_type": "code",
   "execution_count": null,
   "metadata": {},
   "outputs": [],
   "source": []
  },
  {
   "cell_type": "markdown",
   "metadata": {},
   "source": [
    "## Exercício 5 - queda livre\n",
    "\n",
    "Suponha um corpo em queda livre, sujeita apenas às forças da gravidade e a resistência do ar.\n",
    "\n",
    "A força resultante é dada por:\n",
    "\n",
    "$F = F_g + F_{ar} = ma$\n",
    "\n",
    "onde a força da gravidade é dada por:\n",
    "\n",
    "$F_g = mg$\n",
    "\n",
    "e a resistência do ar é dado por:\n",
    "\n",
    "$F_{ar} = -cv^2$\n",
    "\n",
    "O valor $c$ é chamado de coeficiente de arraste concentrado, que depende da área, formato e material do objeto, $v$ é a velocidade atual, $m$ é a massa e $g$ a aceleração da gravidade.\n",
    "\n",
    "Combinando as equações acima obtemos a relação:\n",
    "\n",
    "$\n",
    "\\frac{dv}{dt} = g - \\frac{c}{m}v^2\n",
    "$\n",
    "\n",
    "Resolvendo esta equação obtemos a seguinte expressão para a velocidade em função do tempo:\n",
    "\n",
    "$\n",
    "v(t) = \\sqrt{\\frac{gm}{c}}tanh\\left( \\sqrt{\\frac{g c}{m}}t \\right)\n",
    "$"
   ]
  },
  {
   "cell_type": "markdown",
   "metadata": {},
   "source": [
    "Desenhe o gráfico da função $v(t)$ usando os seguintes dados:\n",
    "\n",
    "* massa de 68.1kg\n",
    "* use o intervalor de 0 até 12s\n",
    "* coeficiente de arraste de 0.25 kg/m\n",
    "* aceleração da gravidade de 9.81m/s^2\n",
    "\n",
    "Fonte: [CHAPRA, pg 7](#chapra)"
   ]
  },
  {
   "cell_type": "code",
   "execution_count": null,
   "metadata": {},
   "outputs": [],
   "source": [
    "aeds1::figuras[8]"
   ]
  },
  {
   "cell_type": "code",
   "execution_count": null,
   "metadata": {},
   "outputs": [],
   "source": []
  },
  {
   "cell_type": "markdown",
   "metadata": {},
   "source": [
    "## Exercício - Balanço de massa\n",
    "\n",
    "Considere o exemplo dado no vídeo:\n",
    "\n",
    "https://www.youtube.com/watch?v=wNgCuLqGPyo\n",
    "\n",
    "Simule e plote o gráfico da função\n",
    "\n",
    "$\n",
    "h(t) = \\frac{\\dot{m}_0}{c} + \\left[ h_0 - \\frac{\\dot{m}_0}{c}  \\right] e^{- \\frac{c}{\\rho A}t}\n",
    "$\n",
    "\n",
    "para os casos indicados no vídeo:\n",
    "\n",
    "* $\\dot{m}_0 = 0.1 m/s$\n",
    "* $\\rho = 1000 kg/m^3$\n",
    "* $A = 0.005m^2$\n",
    "* $c = 0.05kg/m\\cdot s$\n",
    "* $h_0 = 1m$, $h_0 = 2m$ e $h_0 = 3m$"
   ]
  },
  {
   "cell_type": "code",
   "execution_count": null,
   "metadata": {},
   "outputs": [],
   "source": []
  },
  {
   "cell_type": "code",
   "execution_count": null,
   "metadata": {},
   "outputs": [],
   "source": []
  },
  {
   "cell_type": "markdown",
   "metadata": {},
   "source": [
    "## Exercício - atividade cinética microbiana\n",
    "\n",
    "Suponha que tenhamos um tanque e desejamos produzir um certo microorganismo dentro dele.\n",
    "Uma variável de interesse é chamada de velocidade máxima de crescimento específica, $\\mu_{max}$, que ajuda a determinar qual a produtividade que iremos obter.\n",
    "\n",
    "Considere um modelo do tipo Arrhenius que modela a cinética da atividade microbiana da seguinte forma:\n",
    "\n",
    "$\n",
    "\\mu_{max} = A e^{-\\frac{a}{t}} -  B e^{-\\frac{b}{t}}\n",
    "$\n",
    "\n",
    "onde a primeita exponencial está relacionado ao ganho metabólico devido ao aumento de temperatura e a segunda está relacionado à morte celular devido à temperatura.\n",
    "\n",
    "Para melhores explicações, consulte https://www.youtube.com/watch?v=oCHta-QLQqA\n",
    "\n",
    "Desejamos **maximizar** o valor de $\\mu_{max}$.\n",
    "Os valores de $A$, $a$, $B$ e $b$ dependem de fatores fora do nosso controle e, portanto a única forma que temos é ajustando a temperatura $t$ do reator.\n",
    "\n",
    "Crie um algoritmo que plote o gráfico da função acime e determine, com erro de até 0.1°C a temperatura que maximiza o valor de $\\mu_{max}$.\n",
    "\n",
    "Considere os seguintes valores:\n",
    "\n",
    "* $A = 0,493269$\n",
    "* $a = 49,938$\n",
    "* $B = 89.700.000$\n",
    "* $b = 718$\n",
    "* use o intervalo de temperatura $15 < t < 35$"
   ]
  },
  {
   "cell_type": "code",
   "execution_count": null,
   "metadata": {},
   "outputs": [],
   "source": []
  },
  {
   "cell_type": "code",
   "execution_count": null,
   "metadata": {},
   "outputs": [],
   "source": []
  },
  {
   "cell_type": "markdown",
   "metadata": {},
   "source": [
    "## Referências:\n",
    "\n",
    "<a id=\"chapra\">CHAPRA, STEVEN C.  Métodos Numéricos Aplicados Com Matlab Para Engenheiros e Cientistas 3ª ed. McGraw Hill</a>"
   ]
  },
  {
   "cell_type": "markdown",
   "metadata": {},
   "source": [
    "[**&#10094; Previous**](a10_arquivos_parte2.ipynb) | [**Home**](a00_aeds1.ipynb) | [**Next &#10095;**](a11_funcao.ipynb)"
   ]
  }
 ],
 "metadata": {
  "kernelspec": {
   "display_name": "C++14",
   "language": "C++14",
   "name": "xcpp14"
  },
  "language_info": {
   "codemirror_mode": "text/x-c++src",
   "file_extension": ".cpp",
   "mimetype": "text/x-c++src",
   "name": "c++",
   "version": "14"
  }
 },
 "nbformat": 4,
 "nbformat_minor": 4
}
