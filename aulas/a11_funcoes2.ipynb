{
 "cells": [
  {
   "cell_type": "markdown",
   "metadata": {},
   "source": [
    "[**&#10094; Previous**](a10_arquivos_parte2.ipynb) | [**Home**](a00_aeds1.ipynb) | [**Next &#10095;**](a11_funcao.ipynb)"
   ]
  },
  {
   "cell_type": "markdown",
   "metadata": {},
   "source": [
    "# Funções - usando funções externas\n",
    "\n",
    "A linguagem C permite utilizar funções escritas por outras pessoas, diminuindo o tempo de desenvolvimento de novos programas. \n",
    "Quando desejamos utilizar funções existem 2 opções:\n",
    "\n",
    "* O desenvolvedor disponibilizou uma biblioteca compilada, mas não o código fonte.\n",
    " Neste caso, você terá provalvemente um arquivo com extensão .lib (ou .so no linux) e um arquvo de texto com extensão .h, .hpp ou similar. Cada compilador possui uma forma diferente de configurar a inclusão de bibliotecas compiladas.\n",
    " No ambiente xeus-cling / jupyter, você incluir as seguintes diretivas no seu notebook:\n",
    " \n",
    " ``` #pragma cling add_include_path(\"diretório contendo os arquivos .h\")```\n",
    "\n",
    " ``` #pragma cling add_library_path(\"diretório contendo os arquivls .so ou .dll\")```\n",
    "\n",
    " ```#pragma cling load(\"nome do arquivo .so ou .dll que você deseja incluir\")```\n",
    " \n",
    "* O desenvolvedor disponibilizou o código fonte.\n",
    " Neste caso, você pode carregar o arquivo diretamente no seu notebook, usando os comandos internos `.L \"nome do arquvo\"` ou `.X \"nome do arquivo\"`\n",
    "\n",
    "Vamos carregar o arquivo aeds1_plot.cpp:"
   ]
  },
  {
   "cell_type": "code",
   "execution_count": 1,
   "metadata": {},
   "outputs": [],
   "source": [
    ".X aeds1_plot.cpp"
   ]
  },
  {
   "cell_type": "markdown",
   "metadata": {},
   "source": [
    "O arquivo aeds1_plot.cpp possui uma variável chamada `figuras`, que é responsável por desenhar as figura.\n",
    "Pode-se criar até 20 figuras.\n",
    "\n",
    "```\n",
    "aeds1::figuras[0]\n",
    "```\n",
    "<div class=\"alert alert-info\">Variável utilizada para desenhar o gráfico de uma função.</div>\n",
    "\n",
    "Dentro da figura são desenhados curvas, que podem representar o gráfico de funções.\n",
    "Cada curva é identificada por um número inteiro.\n",
    "O arquivo aeds1_plot.cpp possui as seguintes funções implementadas:\n",
    "\n",
    "```\n",
    "void aeds1::plot_novo_ponto(double x, double y, int curvaid = 0, int fig = 0)\n",
    "```\n",
    "<div class=\"alert alert-info\">Insere um novo ponto de coordenadas $(x,y)$ na curva cujo idenfificador é \"curvaid\" e na figura \"fig\". Caso nenhum valor seja fornecido, assume-se curvaid = 0 e fig = 0.</div>\n",
    "\n",
    "```\n",
    "void aeds1::plot_apaga_ponto(int curvaid = 0, int fig = 0)\n",
    "```\n",
    "<div class=\"alert alert-info\">Apaga o último ponto inserido na curva cujo identificador é \"curvaid\" e na figura \"fig\". Caso nenhum valor seja fornecido, assume-se curvaid = 0 e fig = 0.</div>\n",
    "\n",
    "```\n",
    "void aeds1::plot_apaga(int curvaid = 0, int fig = 0)\n",
    "```\n",
    "<div class=\"alert alert-info\">Apaga todos os pontos da curva cujo identificador é \"curvaid\" da figura. Caso nenhum valor seja fornecido, assume-se curvaid = 0 e fig = 0.</div>"
   ]
  },
  {
   "cell_type": "markdown",
   "metadata": {},
   "source": [
    "## Desenhando uma parábola\n"
   ]
  },
  {
   "cell_type": "code",
   "execution_count": 2,
   "metadata": {},
   "outputs": [
    {
     "data": {
      "application/vnd.jupyter.widget-view+json": {
       "model_id": "1778883499c446fda5147f8692647d37",
       "version_major": 2,
       "version_minor": 0
      },
      "text/plain": [
       "A Jupyter widget"
      ]
     },
     "execution_count": 2,
     "metadata": {},
     "output_type": "execute_result"
    }
   ],
   "source": [
    "aeds1::figuras[0]"
   ]
  },
  {
   "cell_type": "code",
   "execution_count": 3,
   "metadata": {},
   "outputs": [],
   "source": [
    "int curva_id, fig_id;"
   ]
  },
  {
   "cell_type": "code",
   "execution_count": 7,
   "metadata": {},
   "outputs": [],
   "source": [
    "curva_id = 0;\n",
    "fig_id = 0;\n",
    "for (float i = -4.0; i <= 4.0; i += 0.2)\n",
    "{\n",
    "    aeds1::plot_novo_ponto(i , 0.2*pow(i,2), curva_id, fig_id);\n",
    "}"
   ]
  },
  {
   "cell_type": "code",
   "execution_count": 14,
   "metadata": {},
   "outputs": [],
   "source": [
    "aeds1::plot_apaga_ponto( curva_id, fig_id);"
   ]
  },
  {
   "cell_type": "code",
   "execution_count": 6,
   "metadata": {},
   "outputs": [],
   "source": [
    "aeds1::plot_apaga( fig_id );"
   ]
  },
  {
   "cell_type": "markdown",
   "metadata": {},
   "source": [
    "## Desenhando o cosseno"
   ]
  },
  {
   "cell_type": "code",
   "execution_count": 15,
   "metadata": {},
   "outputs": [
    {
     "data": {
      "application/vnd.jupyter.widget-view+json": {
       "model_id": "1cd24239cdec4f40a836d726f32a2071",
       "version_major": 2,
       "version_minor": 0
      },
      "text/plain": [
       "A Jupyter widget"
      ]
     },
     "execution_count": 15,
     "metadata": {},
     "output_type": "execute_result"
    }
   ],
   "source": [
    "aeds1::figuras[1]"
   ]
  },
  {
   "cell_type": "code",
   "execution_count": 16,
   "metadata": {},
   "outputs": [],
   "source": [
    "curva_id = 0;\n",
    "fig_id = 1;\n",
    "for (float i = 0.0; i < 4*M_PI; i += 0.2)\n",
    "{\n",
    "    aeds1::plot_novo_ponto(i, cos(i), curva_id, fig_id);\n",
    "}"
   ]
  },
  {
   "cell_type": "code",
   "execution_count": null,
   "metadata": {},
   "outputs": [],
   "source": [
    "aeds1::plot_apaga(curva_id, fig_id);"
   ]
  },
  {
   "cell_type": "markdown",
   "metadata": {},
   "source": [
    "## Desenhando uma exponencial amortecida"
   ]
  },
  {
   "cell_type": "code",
   "execution_count": 17,
   "metadata": {},
   "outputs": [
    {
     "data": {
      "application/vnd.jupyter.widget-view+json": {
       "model_id": "f930988720a9454f91c0250c195c1a88",
       "version_major": 2,
       "version_minor": 0
      },
      "text/plain": [
       "A Jupyter widget"
      ]
     },
     "execution_count": 17,
     "metadata": {},
     "output_type": "execute_result"
    }
   ],
   "source": [
    "aeds1::figuras[2]"
   ]
  },
  {
   "cell_type": "code",
   "execution_count": 18,
   "metadata": {},
   "outputs": [],
   "source": [
    "for (float i = 0.0; i < 4*M_PI; i += 0.2)\n",
    "{\n",
    "    aeds1::plot_novo_ponto(i,2*exp(-i/2)*cos(i), 0, 2);\n",
    "    aeds1::plot_novo_ponto(i,2*exp(-i/2)       , 1, 2);\n",
    "}"
   ]
  },
  {
   "cell_type": "code",
   "execution_count": null,
   "metadata": {},
   "outputs": [],
   "source": [
    "aeds1::plot_apaga(0,2);\n",
    "aeds1::plot_apaga(1,2);"
   ]
  },
  {
   "cell_type": "markdown",
   "metadata": {},
   "source": [
    "[**&#10094; Previous**](a10_arquivos_parte2.ipynb) | [**Home**](a00_aeds1.ipynb) | [**Next &#10095;**](a11_funcao.ipynb)"
   ]
  }
 ],
 "metadata": {
  "kernelspec": {
   "display_name": "C++14",
   "language": "C++14",
   "name": "xcpp14"
  },
  "language_info": {
   "codemirror_mode": "text/x-c++src",
   "file_extension": ".cpp",
   "mimetype": "text/x-c++src",
   "name": "c++",
   "version": "14"
  }
 },
 "nbformat": 4,
 "nbformat_minor": 4
}
