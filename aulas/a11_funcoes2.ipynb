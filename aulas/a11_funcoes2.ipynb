{
 "cells": [
  {
   "cell_type": "markdown",
   "metadata": {},
   "source": [
    "[**&#10094; Previous**](a10_arquivos_parte2.ipynb) | [**Home**](a00_aeds1.ipynb) | [**Next &#10095;**](a11_funcao.ipynb)"
   ]
  },
  {
   "cell_type": "markdown",
   "metadata": {},
   "source": [
    "# Funções - usando funções externas\n",
    "\n",
    "A linguagem C permite utilizar funções escritas por outras pessoas, diminuindo o tempo de desenvolvimento de novos programas. \n",
    "Quando desejamos utilizar funções existem 2 opções:\n",
    "\n",
    "* O desenvolvedor disponibilizou uma biblioteca compilada, mas não o código fonte.\n",
    " Neste caso, você terá provalvemente um arquivo com extensão .lib (ou .so no linux) e um arquvo de texto com extensão .h, .hpp ou similar. Cada compilador possui uma forma diferente de configurar a inclusão de bibliotecas compiladas.\n",
    " No ambiente xeus-cling / jupyter, você incluir as seguintes diretivas no seu notebook:\n",
    " \n",
    " ``` #pragma cling add_include_path(\"diretório contendo os arquivos .h\")```\n",
    "\n",
    " ``` #pragma cling add_library_path(\"diretório contendo os arquivls .so ou .dll\")```\n",
    "\n",
    " ```#pragma cling load(\"nome do arquivo .so ou .dll que você deseja incluir\")```\n",
    " \n",
    "* O desenvolvedor disponibilizou o código fonte.\n",
    " Neste caso, você pode carregar o arquivo diretamente no seu notebook, usando os comandos internos `.L \"nome do arquvo\"` ou `.X \"nome do arquivo\"`\n",
    "\n",
    "Vamos carregar o arquivo aeds1_plot.cpp:"
   ]
  },
  {
   "cell_type": "code",
   "execution_count": 1,
   "metadata": {},
   "outputs": [],
   "source": [
    ".X aeds1_plot.cpp"
   ]
  },
  {
   "cell_type": "markdown",
   "metadata": {},
   "source": [
    "O arquivo aeds1_plot.cpp possui uma variável chamada `figuras`, que é responsável por desenhar as figura.\n",
    "Pode-se criar até 20 figuras.\n",
    "\n",
    "```\n",
    "aeds1::figuras[0]\n",
    "```\n",
    "<div class=\"alert alert-info\">Variável utilizada para desenhar o gráfico de uma função. Não utilize ponto-e-vírgula no final.</div>\n",
    "\n",
    "Dentro da figura são desenhados curvas, que podem representar o gráfico de funções.\n",
    "Cada curva é identificada por um número inteiro.\n",
    "O arquivo aeds1_plot.cpp possui as seguintes funções implementadas:\n",
    "\n",
    "```\n",
    "void aeds1::plot_novo_ponto(double x, double y, int curvaid = 0, int fig = 0)\n",
    "```\n",
    "<div class=\"alert alert-info\">Insere um novo ponto de coordenadas $(x,y)$ na curva cujo idenfificador é \"curvaid\" e na figura \"fig\". Caso nenhum valor seja fornecido, assume-se curvaid = 0 e fig = 0.</div>\n",
    "\n",
    "```\n",
    "void aeds1::plot_apaga_ponto(int curvaid = 0, int fig = 0)\n",
    "```\n",
    "<div class=\"alert alert-info\">Apaga o último ponto inserido na curva cujo identificador é \"curvaid\" e na figura \"fig\". Caso nenhum valor seja fornecido, assume-se curvaid = 0 e fig = 0.</div>\n",
    "\n",
    "```\n",
    "void aeds1::plot_apaga(int curvaid = 0, int fig = 0)\n",
    "```\n",
    "<div class=\"alert alert-info\">Apaga todos os pontos da curva cujo identificador é \"curvaid\" da figura. Caso nenhum valor seja fornecido, assume-se curvaid = 0 e fig = 0.</div>"
   ]
  },
  {
   "cell_type": "markdown",
   "metadata": {},
   "source": [
    "## Desenhando uma parábola\n",
    "\n",
    "Uma função é uma relação matemática estabelecida entre duas variáveis.\n",
    "Se chamarmos as variáveis de $x$ e $y$, podemos dizer que a função relaciona, para cada valor de $x$ (dentro do domínio) um valor $y$ (no contra-domínio).\n",
    "\n",
    "Assim podemos escrever $y = f(x)$\n",
    "\n",
    "A parábola é uma função cujo formato é dado por:\n",
    "\n",
    "$y = ax^2 + bx + c$.\n",
    "\n",
    "Vamos desenhar uma parábola onde $a = 0.2$, $b = 0$ e $c = 0$."
   ]
  },
  {
   "cell_type": "code",
   "execution_count": 9,
   "metadata": {},
   "outputs": [
    {
     "data": {
      "application/vnd.jupyter.widget-view+json": {
       "model_id": "4f0bff92e5de4ec18b7959e0ad77e405",
       "version_major": 2,
       "version_minor": 0
      },
      "text/plain": [
       "A Jupyter widget"
      ]
     },
     "execution_count": 9,
     "metadata": {},
     "output_type": "execute_result"
    }
   ],
   "source": [
    "aeds1::figuras[0]"
   ]
  },
  {
   "cell_type": "code",
   "execution_count": 2,
   "metadata": {},
   "outputs": [],
   "source": [
    "int curva_id, fig_id;"
   ]
  },
  {
   "cell_type": "code",
   "execution_count": 10,
   "metadata": {},
   "outputs": [],
   "source": [
    "curva_id = 0;\n",
    "fig_id = 0;\n",
    "for (float x = -4.0; x <= 4.0; x += 0.2)\n",
    "{\n",
    "    float y = 0.2*pow(x,2);\n",
    "    aeds1::plot_novo_ponto(x , y, curva_id, fig_id);\n",
    "}"
   ]
  },
  {
   "cell_type": "code",
   "execution_count": null,
   "metadata": {},
   "outputs": [],
   "source": [
    "aeds1::plot_apaga_ponto( curva_id, fig_id);"
   ]
  },
  {
   "cell_type": "code",
   "execution_count": null,
   "metadata": {},
   "outputs": [],
   "source": [
    "aeds1::plot_apaga( fig_id );"
   ]
  },
  {
   "cell_type": "markdown",
   "metadata": {},
   "source": [
    "## Desenhando o cosseno"
   ]
  },
  {
   "cell_type": "code",
   "execution_count": null,
   "metadata": {},
   "outputs": [],
   "source": [
    "aeds1::figuras[1]"
   ]
  },
  {
   "cell_type": "code",
   "execution_count": null,
   "metadata": {},
   "outputs": [],
   "source": [
    "curva_id = 0;\n",
    "fig_id = 1;\n",
    "for (float i = 0.0; i < 4*M_PI; i += 0.2)\n",
    "{\n",
    "    aeds1::plot_novo_ponto(i, cos(i), curva_id, fig_id);\n",
    "}"
   ]
  },
  {
   "cell_type": "code",
   "execution_count": null,
   "metadata": {},
   "outputs": [],
   "source": [
    "aeds1::plot_apaga(curva_id, fig_id);"
   ]
  },
  {
   "cell_type": "markdown",
   "metadata": {},
   "source": [
    "## Desenhando uma exponencial amortecida"
   ]
  },
  {
   "cell_type": "code",
   "execution_count": null,
   "metadata": {},
   "outputs": [],
   "source": [
    "aeds1::figuras[2]"
   ]
  },
  {
   "cell_type": "code",
   "execution_count": null,
   "metadata": {},
   "outputs": [],
   "source": [
    "for (float i = 0.0; i < 4*M_PI; i += 0.2)\n",
    "{\n",
    "    aeds1::plot_novo_ponto(i,2*exp(-i/2)*cos(i), 0, 2);\n",
    "    aeds1::plot_novo_ponto(i,2*exp(-i/2)       , 1, 2);\n",
    "}"
   ]
  },
  {
   "cell_type": "code",
   "execution_count": null,
   "metadata": {},
   "outputs": [],
   "source": [
    "aeds1::plot_apaga(0,2);\n",
    "aeds1::plot_apaga(1,2);"
   ]
  },
  {
   "cell_type": "markdown",
   "metadata": {},
   "source": [
    "## Desenhando uma equação paramétrica\n",
    "\n",
    "Uma função tipicamente possui apenas 1 único valor $y$ associado a uma entrada $x$.\n",
    "Esta definição traz limitações aos tipos de gráficos que podem ser obtidos.\n",
    "Por exemplo, um círculo não pode ser descrito na forma $y = f(x)$.\n",
    "\n",
    "As equações paramétricas são equações onde um parâmetro adicional é acrescentado, e os valores de $x$ e $y$ são funções deste parâmetro.\n",
    "Ou seja, dado o parâmetro $t$, as equações paramétricas são dados por funções:\n",
    "\n",
    "$x = x(t)$ e  $y = y(y)$\n",
    "\n",
    "Vamos desenhar o gráfico para\n",
    "\n",
    "* $x(t) = t + 1$\n",
    "* $y(t) = t - 2$\n",
    "\n",
    "usando o intervalo $0 \\leq t \\leq 10$"
   ]
  },
  {
   "cell_type": "code",
   "execution_count": 11,
   "metadata": {},
   "outputs": [
    {
     "data": {
      "application/vnd.jupyter.widget-view+json": {
       "model_id": "59956f8fe4a34aad89385ec74ce0ec1a",
       "version_major": 2,
       "version_minor": 0
      },
      "text/plain": [
       "A Jupyter widget"
      ]
     },
     "execution_count": 11,
     "metadata": {},
     "output_type": "execute_result"
    }
   ],
   "source": [
    "aeds1::figuras[3]"
   ]
  },
  {
   "cell_type": "code",
   "execution_count": 23,
   "metadata": {},
   "outputs": [],
   "source": [
    "for (float t = 0.0; t < 10.0; t += 0.2)\n",
    "{\n",
    "    float x = t + 1;\n",
    "    float y = t - 2;\n",
    "    aeds1::plot_novo_ponto( x , y , 0, 3);\n",
    "}"
   ]
  },
  {
   "cell_type": "markdown",
   "metadata": {},
   "source": [
    "## Exercício - cardióide\n",
    "\n",
    "Em geometria, o cardioide é um epiciclóide que possui somente uma ponta. \n",
    "Um cardioide é uma curva matemática cuja forma se assemelha à de um coração. \n",
    "Por este motivo, recebe o nome derivado das palavras kardia (coração) e eidos (forma).\n",
    "\n",
    "Sua forma paramétrica usando o parâmetro $\\theta$ é dado por:\n",
    "\n",
    "* $x(\\theta) = (1 - \\sin\\theta)\\cdot \\cos\\theta$\n",
    "* $y(\\theta) = (1 - \\sin\\theta)\\cdot \\sin\\theta$\n",
    "\n",
    "Desenhe a cardioide no intervalo $0 \\leq \\theta \\leq 2\\pi$."
   ]
  },
  {
   "cell_type": "code",
   "execution_count": 14,
   "metadata": {},
   "outputs": [
    {
     "data": {
      "application/vnd.jupyter.widget-view+json": {
       "model_id": "5b6c0c63689646cc98c7574b8eae0ada",
       "version_major": 2,
       "version_minor": 0
      },
      "text/plain": [
       "A Jupyter widget"
      ]
     },
     "execution_count": 14,
     "metadata": {},
     "output_type": "execute_result"
    }
   ],
   "source": [
    "aeds1::figuras[4]"
   ]
  },
  {
   "cell_type": "code",
   "execution_count": 21,
   "metadata": {},
   "outputs": [],
   "source": []
  },
  {
   "cell_type": "markdown",
   "metadata": {},
   "source": [
    "## Exercício 1\n",
    "\n",
    "Suponha um corpo em queda livre, sujeita apenas às forças da gravidade e a resistência do ar.\n",
    "\n",
    "A força resultante é dada por:\n",
    "\n",
    "$F = F_g + F_{ar} = ma$\n",
    "\n",
    "onde a força da gravidade é dada por:\n",
    "\n",
    "$F_g = mg$\n",
    "\n",
    "e a resistência do ar é dado por:\n",
    "\n",
    "$F_{ar} = -cv^2$\n",
    "\n",
    "O valor $c$ é chamado de coeficiente de arraste concentrado, que depende da área, formato e material do objeto, $v$ é a velocidade atual, $m$ é a massa e $g$ a aceleração da gravidade.\n",
    "\n",
    "Combinando as equações acima obtemos a relação:\n",
    "\n",
    "$\n",
    "\\frac{dv}{dt} = g - \\frac{c}{m}v^2\n",
    "$\n",
    "\n",
    "Resolvendo esta equação obtemos a seguinte expressão para a velocidade em função do tempo:\n",
    "\n",
    "$\n",
    "v(t) = \\sqrt{\\frac{gm}{c}}tanh\\left( \\sqrt{\\frac{g c}{m}}t \\right)\n",
    "$"
   ]
  },
  {
   "cell_type": "markdown",
   "metadata": {},
   "source": [
    "Desenhe o gráfico da função $v(t)$ usando os seguintes dados:\n",
    "\n",
    "* massa de 68.1kg\n",
    "* use o intervalor de 0 até 12s\n",
    "* coeficiente de arraste de 0.25 kg/m\n",
    "* aceleração da gravidade de 9.81m/s^2\n",
    "\n",
    "Fonte: [CHAPRA, pg 7](#chapra)"
   ]
  },
  {
   "cell_type": "code",
   "execution_count": 3,
   "metadata": {},
   "outputs": [
    {
     "data": {
      "application/vnd.jupyter.widget-view+json": {
       "model_id": "6c2d9b589b844f20bee71995516ca7e9",
       "version_major": 2,
       "version_minor": 0
      },
      "text/plain": [
       "A Jupyter widget"
      ]
     },
     "execution_count": 3,
     "metadata": {},
     "output_type": "execute_result"
    }
   ],
   "source": [
    "aeds1::figuras[3]"
   ]
  },
  {
   "cell_type": "code",
   "execution_count": 4,
   "metadata": {},
   "outputs": [],
   "source": [
    "double m = 68.1;\n",
    "double g = 9.81;\n",
    "double c = 0.25;"
   ]
  },
  {
   "cell_type": "code",
   "execution_count": 8,
   "metadata": {},
   "outputs": [],
   "source": [
    "curva_id = 0;\n",
    "fig_id = 2;\n",
    "for (float t = 0.0; t <= 12.0; t += 0.1)\n",
    "{\n",
    "    double v = sqrt(g*m/c)*tanh( sqrt(g*c/m)*t );\n",
    "    aeds1::plot_novo_ponto(t , v , curva_id, fig_id);\n",
    "}"
   ]
  },
  {
   "cell_type": "code",
   "execution_count": 7,
   "metadata": {},
   "outputs": [],
   "source": [
    "aeds1::plot_apaga(0,2);"
   ]
  },
  {
   "cell_type": "markdown",
   "metadata": {},
   "source": [
    "## Referências:\n",
    "\n",
    "<a id=\"chapra\">CHAPRA, STEVEN C.  Métodos Numéricos Aplicados Com Matlab Para Engenheiros e Cientistas 3ª ed. McGraw Hill</a>"
   ]
  },
  {
   "cell_type": "markdown",
   "metadata": {},
   "source": [
    "[**&#10094; Previous**](a10_arquivos_parte2.ipynb) | [**Home**](a00_aeds1.ipynb) | [**Next &#10095;**](a11_funcao.ipynb)"
   ]
  }
 ],
 "metadata": {
  "kernelspec": {
   "display_name": "C++14",
   "language": "C++14",
   "name": "xcpp14"
  },
  "language_info": {
   "codemirror_mode": "text/x-c++src",
   "file_extension": ".cpp",
   "mimetype": "text/x-c++src",
   "name": "c++",
   "version": "14"
  }
 },
 "nbformat": 4,
 "nbformat_minor": 4
}
