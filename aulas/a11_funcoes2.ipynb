{
 "cells": [
  {
   "cell_type": "markdown",
   "metadata": {},
   "source": [
    "[**&#10094; Previous**](a10_arquivos_parte2.ipynb) | [**Home**](a00_aeds1.ipynb) | [**Next &#10095;**](a11_funcao.ipynb)"
   ]
  },
  {
   "cell_type": "markdown",
   "metadata": {},
   "source": [
    "# Funções - usando funções externas\n",
    "\n",
    "A linguagem C permite utilizar funções escritas por outras pessoas, diminuindo o tempo de desenvolvimento de novos programas. \n",
    "Quando desejamos utilizar funções existem 2 opções:\n",
    "\n",
    "* O desenvolvedor disponibilizou uma biblioteca compilada, mas não o código fonte.\n",
    " Neste caso, você terá provalvemente um arquivo com extensão .lib (ou .so no linux) e um arquvo de texto com extensão .h, .hpp ou similar. Cada compilador possui uma forma diferente de configurar a inclusão de bibliotecas compiladas.\n",
    " No ambiente xeus-cling / jupyter, você incluir as seguintes diretivas no seu notebook:\n",
    " \n",
    " ``` #pragma cling add_include_path(\"diretório contendo os arquivos .h\")```\n",
    "\n",
    " ``` #pragma cling add_library_path(\"diretório contendo os arquivls .so ou .dll\")```\n",
    "\n",
    " ```#pragma cling load(\"nome do arquivo .so ou .dll que você deseja incluir\")```\n",
    " \n",
    "* O desenvolvedor disponibilizou o código fonte.\n",
    " Neste caso, você pode carregar o arquivo diretamente no seu notebook, usando os comandos internos `.L \"nome do arquvo\"` ou `.X \"nome do arquivo\"`\n",
    "\n",
    "Vamos carregar o arquivo aeds1_plot.cpp:"
   ]
  },
  {
   "cell_type": "code",
   "execution_count": 1,
   "metadata": {},
   "outputs": [],
   "source": [
    ".X aeds1_plot.cpp"
   ]
  },
  {
   "cell_type": "markdown",
   "metadata": {},
   "source": [
    "O arquivo aeds1_plot.cpp possui as seguintes variáveis globais que podem ser utilizadas:\n",
    "\n",
    "```\n",
    "aeds1::fig\n",
    "```\n",
    "<div class=\"alert alert-info\">Variável utilizada para desenhar o gráfico de uma função.</div>\n",
    "\n",
    "O arquivo aeds1_plot.cpp possui as seguintes funções implementadas:\n",
    "\n",
    "```\n",
    "void aeds1::plot_apaga()\n",
    "```\n",
    "<div class=\"alert alert-info\">Apaga o conteúdo da figura.</div>\n",
    "\n",
    "```\n",
    "void aeds1::plot_novo_ponto(double x, double y)\n",
    "```\n",
    "<div class=\"alert alert-info\">Insere um novo ponto de coordenadas $(x,y)$ na figura.</div>\n",
    "\n",
    "```\n",
    "void aeds1::plot_apaga_ponto()\n",
    "```\n",
    "<div class=\"alert alert-info\">Apaga o último ponto inserido na figura.</div>"
   ]
  },
  {
   "cell_type": "code",
   "execution_count": 2,
   "metadata": {},
   "outputs": [
    {
     "data": {
      "application/vnd.jupyter.widget-view+json": {
       "model_id": "c99dd616273f4903b9bffa10fd612572",
       "version_major": 2,
       "version_minor": 0
      },
      "text/plain": [
       "A Jupyter widget"
      ]
     },
     "execution_count": 2,
     "metadata": {},
     "output_type": "execute_result"
    }
   ],
   "source": [
    "aeds1::fig"
   ]
  },
  {
   "cell_type": "code",
   "execution_count": 79,
   "metadata": {},
   "outputs": [],
   "source": [
    "aeds1::plot_exemplo();"
   ]
  },
  {
   "cell_type": "code",
   "execution_count": 81,
   "metadata": {},
   "outputs": [],
   "source": [
    "aeds1::plot_apaga(0);"
   ]
  },
  {
   "cell_type": "code",
   "execution_count": 77,
   "metadata": {},
   "outputs": [],
   "source": [
    "aeds1::plot_apaga_ponto(0);"
   ]
  },
  {
   "cell_type": "code",
   "execution_count": 82,
   "metadata": {},
   "outputs": [],
   "source": [
    "for (float i = 0.0; i < 2*M_PI; i+=0.1)\n",
    "{\n",
    "    aeds1::plot_novo_ponto(i,exp(-i)*sin(i), 0);\n",
    "    aeds1::plot_novo_ponto(i,cos(i)/2, 1);\n",
    "}"
   ]
  },
  {
   "cell_type": "markdown",
   "metadata": {},
   "source": [
    "[**&#10094; Previous**](a10_arquivos_parte2.ipynb) | [**Home**](a00_aeds1.ipynb) | [**Next &#10095;**](a11_funcao.ipynb)"
   ]
  }
 ],
 "metadata": {
  "kernelspec": {
   "display_name": "C++14",
   "language": "C++14",
   "name": "xcpp14"
  },
  "language_info": {
   "codemirror_mode": "text/x-c++src",
   "file_extension": ".cpp",
   "mimetype": "text/x-c++src",
   "name": "c++",
   "version": "14"
  }
 },
 "nbformat": 4,
 "nbformat_minor": 4
}
