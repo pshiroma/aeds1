{
 "cells": [
  {
   "cell_type": "markdown",
   "metadata": {},
   "source": [
    "# Tipo de dados bool\n",
    "\n",
    "O tipo de dados `bool` armazena valores do tipo *verdadeiro* e *falso*.\n",
    "Seu nome tem origem no matemático <a href=https://www.tecmundo.com.br/programacao/1527-logica-booleana-saiba-um-pouco-mais-sobre-esta-logica-e-como-ela-funciona.htm>George Boole</a>, criador da álgebra booleana.\n",
    "\n",
    "A álgebra de Boole baseia-se em três operadores: E, OU e NÃO (AND, OR, NOT), e foi fundamental para o desenvolvimento dos circuitos lógicos, base dos computadores modernos.\n",
    "Ou seja, embora um microprocessador pareça ser algo extremamente complicado, caso pudéssemos visualizá-lo no seu nível mais fundamental, veríamos milhões de portas lógicas conectadas entre si.\n",
    "\n",
    "Um aspecto interessante é que tais portas lógicas foram inicialmente implementadas com relés, depois válvulas e por último transistores e os circuitos integrados.\n",
    "<a href=https://tecdicas.com/criando-portas-logicas-com-transistores/>[saiba mais]</a>\n",
    "\n",
    "Outra aplicação que tem mostrado crescimento expressivo é na área de biologia sintética, onde circuitos lógicos *biológicos* são inseridos dentro de células, ajustando o fluxo metabólico com o intuito de gerar células que produzam um produto de interesse. \n",
    "Por exemplo, uma bactéria pode ser alterada de forma a apresentar bioluminescência na presença de metais pesados ou toxinas, tornando-se um <a href=https://bv.fapesp.br/pt/bolsas/166316/construcao-de-biossensores-de-arsenio-ultrassensiveis-atraves-da-abordagem-da-biologia-sintetica/>biossensor</a>.\n",
    "Outros exemplos são a produção de <a href=https://www.perfectdayfoods.com/>leite sintético</a> ou um assento feito de <a href=https://forbes.com.br/negocios/2019/09/conheca-cinco-empresas-de-biologia-sintetica-que-vao-mudar-a-industria-automotiva/>teias de aranha</a>.\n",
    "<a href=https://www.blogs.unicamp.br/synbiobrasil/tag/logica-booleana/>[saiba mais]</a>\n",
    "<a href=https://repositorio.unb.br/handle/10482/35547>[Duarte 2019, UnB]</a>\n",
    "\n",
    "Veremos mais a frente, quando estivermos falando de comandos condicionais (`if`), laços (`while`) e operações lógicas a utilização de variáveis do tipo booleano."
   ]
  },
  {
   "cell_type": "code",
   "execution_count": 2,
   "metadata": {},
   "outputs": [],
   "source": [
    "#include <iostream>\n",
    "using namespace std;"
   ]
  },
  {
   "cell_type": "code",
   "execution_count": 1,
   "metadata": {},
   "outputs": [],
   "source": [
    "bool logico1 = true; // true significa verdadeiro em Inglês;\n",
    "bool logico2 = false; // false significa falso em Inglês;\n",
    "bool logico3 = 0; // O inteiro 0 (zero) equivale a 'false';\n",
    "bool logico4 = 189; // Qualquer valor diferente de 0 (zero) é interpretado como 'true' e armazenado como 1;"
   ]
  },
  {
   "cell_type": "code",
   "execution_count": 6,
   "metadata": {},
   "outputs": [
    {
     "name": "stdout",
     "output_type": "stream",
     "text": [
      "1 0 0 1"
     ]
    }
   ],
   "source": [
    "cout << logico1 << \" \" << logico2 << \" \" << logico3 << \" \" << logico4;"
   ]
  },
  {
   "cell_type": "code",
   "execution_count": null,
   "metadata": {},
   "outputs": [],
   "source": []
  }
 ],
 "metadata": {
  "kernelspec": {
   "display_name": "C++14",
   "language": "C++14",
   "name": "xcpp14"
  },
  "language_info": {
   "codemirror_mode": "text/x-c++src",
   "file_extension": ".cpp",
   "mimetype": "text/x-c++src",
   "name": "c++",
   "version": "14"
  }
 },
 "nbformat": 4,
 "nbformat_minor": 4
}
