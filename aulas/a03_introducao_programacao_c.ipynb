{
 "cells": [
  {
   "cell_type": "markdown",
   "metadata": {},
   "source": [
    "# Programando em C++\n",
    "\n",
    "A linguagem C++ apresentada neste tutorial é ligeiramente diferente daquele encontrada em outros compiladores como Codeblocks, Visual Studio ou GCC.\n",
    "\n",
    "A principal mudança consiste que o C++ implementando no xeus-cling é um __interpretador__ e não um __compilador__.\n",
    "\n",
    "Em um __compilador__ o código-fonte é processado e um arquivo executável é criado como resultado.\n",
    "Ou seja, um programa é gerado a partir do código-fonte.\n",
    "\n",
    "Em um __interpretador__ o código-fonte é imediatamente processado pelo interpretador e sua execução ocorre dentro do interpretador, não sendo criado um arquivo executável.\n",
    "\n",
    "Outra mudança consiste em ambiente do tipo REPL (Read–eval–print loop) onde o usuário pode escrever uma ou mais linhas de comando, executá-las, verificar o resultado, e continuar escrevendo novas linhas de código.\n",
    "\n",
    "Ou seja, diferente de um compilador, onde é preciso escrever todo o código primeiro para depois testá-lo, em ambientes REPL é possível escrever incrementalmente, testando pequenos trechos de código, validando-os e só depois continuar escrevendo o restando do algoritmo."
   ]
  },
  {
   "cell_type": "markdown",
   "metadata": {},
   "source": [
    "Uma característica da linguagem C, presente em várias outras linguaguens, é a capacidade de expansão. \n",
    "Esta expansão da funcionalidade é feita através das bibliotecas.\n",
    "Uma grande vantagem de utilizar bibliotecas é que elas permitem qualquer empresa ou desenvolver escrever uma biblioteca e disponibilizá-las para outras pessoas.\n",
    "Por exemplo temos bibliotecas que implementam redes neurais artificiais, realizam processamento de imagens e vídeos, geoprocessamento, cálculo de estruturas e diversos outras áreas para as quais a linguagem C originalmente não possui qualquer suporte.\n",
    "\n",
    "Para importar uma biblioteca no seu código-fonte, é preciso:\n",
    "\n",
    "1) Realizar o download da biblioteca que se deseja utilizar e instalá-la em um diretório onde o C++ seja capaz de encontrar.\n",
    "A maioria das distribuições já possui várias bibliotecas previamente instaladas, não sendo necessário baixá-las.\n",
    "\n",
    "2) Incluir a biblioteca no seu código-fonte, através da diretiva:\n",
    "\n",
    "```\n",
    "#include <nome da biblioteca>\n",
    "```"
   ]
  },
  {
   "cell_type": "markdown",
   "metadata": {},
   "source": [
    "## Incluindo uma biblioteca\n",
    "\n",
    "Vamos incluir a biblioteca __iostream__, necessária para utilizar funções como __cout__ e __cin__.\n",
    "\n",
    "Execute a célula abaixo para incluir a biblioteca iostream:"
   ]
  },
  {
   "cell_type": "code",
   "execution_count": 2,
   "metadata": {},
   "outputs": [],
   "source": [
    "#include <iostream>\n",
    "using namespace std;"
   ]
  },
  {
   "cell_type": "markdown",
   "metadata": {},
   "source": [
    "## Criando variáveis"
   ]
  },
  {
   "cell_type": "markdown",
   "metadata": {},
   "source": [
    "Em seguida, vamos criar uma variável para armazenar um número inteiro:"
   ]
  },
  {
   "cell_type": "code",
   "execution_count": 3,
   "metadata": {},
   "outputs": [],
   "source": [
    "int idade;"
   ]
  },
  {
   "cell_type": "markdown",
   "metadata": {},
   "source": [
    "Quando declaramos uma variável, estamos criando um elemento que pode ser (re-)escrito ou lido ao longo do algoritmo.\n",
    "No lado esquerdo informamos o tipo da variável, que pode ser:\n",
    "\n",
    "* int: Números inteiros\n",
    "* char: Caracteres (letras e símbolos)\n",
    "* float: Números reais\n",
    "* double: Números reais, com precisão maior\n",
    "\n",
    "Após o tipo devemos informar o [nome da variável](#identificador), finalizando com o ponto e vírgula."
   ]
  },
  {
   "cell_type": "markdown",
   "metadata": {},
   "source": [
    "<a id=identificador></a>\n",
    "### Identificador de uma variável\n",
    "\n",
    "O nome de uma variável deve seguir algumas regras:\n",
    "\n",
    "* Deve iniciar por uma letra ou por um \"_\" (underscore);\n",
    "* A partir do segundo caracter pode conter letras, números e underscore;\n",
    "* C é uma linguagem case-sensitive, ou seja, faz diferença entre nomes com letras maiúsculas e nomes com letras minúsculas. Maria e maria são identificadores diferentes;\n",
    "* Não pode ser uma palavra reservada da linguagem (for, if, public, true, false, while, void, break, continue, do, else, etc). \n",
    "Consulte https://www.tutorialspoint.com/Reserved-keywords-in-Cplusplus para uma lista completa.\n",
    "\n",
    "Além disso, é interessante seguir algumas recomendações quando nomeamos uma variável:\n",
    "\n",
    "* Deve-se usar nomes significativos dentro do contexto do programa;\n",
    "* Use maiúsculas e minúsculas para separar palavras: \"PesoDoCarro\" ou o underscore: \"raio_do_pneu;\n",
    "* Evite nomes genéricos como \"a\", \"a1\", \"b\",\n"
   ]
  },
  {
   "cell_type": "markdown",
   "metadata": {},
   "source": [
    "## Lendo do teclado"
   ]
  },
  {
   "cell_type": "markdown",
   "metadata": {},
   "source": [
    "Vamos ler um número inteiro do teclado e armazená-lo na variável idade:"
   ]
  },
  {
   "cell_type": "code",
   "execution_count": 8,
   "metadata": {},
   "outputs": [
    {
     "name": "stdout",
     "output_type": "stream",
     "text": [
      "19\n"
     ]
    }
   ],
   "source": [
    "cin >> idade;"
   ]
  },
  {
   "cell_type": "markdown",
   "metadata": {},
   "source": [
    "__cin__ é uma função da biblioteca __iostream__ que permite ler do teclado e armazenar o valor digitado pelo usuário em uma variável."
   ]
  },
  {
   "cell_type": "markdown",
   "metadata": {},
   "source": [
    "## Imprimindo na tela"
   ]
  },
  {
   "cell_type": "markdown",
   "metadata": {},
   "source": [
    "Vamos verificar o valor que você entrou:"
   ]
  },
  {
   "cell_type": "code",
   "execution_count": 9,
   "metadata": {},
   "outputs": [
    {
     "name": "stdout",
     "output_type": "stream",
     "text": [
      "Voce tem 19 anos"
     ]
    }
   ],
   "source": [
    "cout << \"Voce tem \" << idade << \" anos\";"
   ]
  },
  {
   "cell_type": "markdown",
   "metadata": {},
   "source": [
    "__cout__ é uma função da biblioteca __iostream__ que permite imprimir na tela do computador o valor de suas variáveis.\n",
    "\n",
    "Observe que textos na linguagem C são envolvidos pelas aspas duplas (\"). Tmabém são chamados de __strings__."
   ]
  },
  {
   "cell_type": "markdown",
   "metadata": {},
   "source": [
    "## Ponto e vírgula\n",
    "\n",
    "Note que nos exemplos acima, os comandos terminam sempre com o caracter ponto e vírgula __;__.\n",
    "\n",
    "O ponto e vírgula é reconhecido pelo C++ como finalizador da instrução.\n",
    "É importante observar que a utilização do ponto e vírgula é obrigatória na maioria dos compiladores C, logo, a sua omissão acarretará em erro de compilação.\n",
    "\n",
    "Embora o xeus-cling permita a omissão do ponto e vírgula em alguns casos, recomendamos sempre sua utilização, com o intuito de tornar o código-fonte mais portável.\n",
    "\n",
    "Detalhe: podemos colocar quantas instrução desejarmos numa mesma linha, desde que essas estejam separadas por um ponto-e-vírgula.\n",
    "\n"
   ]
  },
  {
   "cell_type": "markdown",
   "metadata": {},
   "source": [
    "# Exercício\n",
    "\n",
    "Escreva na célula abaixo um trecho de código que declare as seguintes variáveis:\n",
    "\n",
    "* idade_mae: do tipo inteiro\n",
    "* idade_filha: do tipo inteiro\n",
    "* idade_nascimento: do tipo inteiro"
   ]
  },
  {
   "cell_type": "code",
   "execution_count": null,
   "metadata": {},
   "outputs": [],
   "source": []
  },
  {
   "cell_type": "markdown",
   "metadata": {},
   "source": [
    "Escreva na célua abaixo, um trecho de código que leia do teclado as varíaveis `idade_mae` e `idade_filha`"
   ]
  },
  {
   "cell_type": "code",
   "execution_count": null,
   "metadata": {},
   "outputs": [],
   "source": []
  },
  {
   "cell_type": "markdown",
   "metadata": {},
   "source": [
    "Escreva na célula abaixo, um trecho de código que calcule a idade da mae quando a filha nasceu, e armaze o valor na variável `idade_nascimento`"
   ]
  },
  {
   "cell_type": "code",
   "execution_count": null,
   "metadata": {},
   "outputs": [],
   "source": []
  },
  {
   "cell_type": "markdown",
   "metadata": {},
   "source": [
    "Escreva na célula abaixo, um trecho de código que imprima o texto \"A mãe tinha XX anos quando sua filha nasceu\", onde XX deve ser substituído pelo valor em `idade_nascimento`.\n",
    "\n",
    "Você pode usar um único comando `cout` ou vários comandos `cout`, separados por ponto e vírgula."
   ]
  },
  {
   "cell_type": "code",
   "execution_count": null,
   "metadata": {},
   "outputs": [],
   "source": []
  }
 ],
 "metadata": {
  "kernelspec": {
   "display_name": "C++14",
   "language": "C++14",
   "name": "xcpp14"
  },
  "language_info": {
   "codemirror_mode": "text/x-c++src",
   "file_extension": ".cpp",
   "mimetype": "text/x-c++src",
   "name": "c++",
   "version": "14"
  }
 },
 "nbformat": 4,
 "nbformat_minor": 4
}
