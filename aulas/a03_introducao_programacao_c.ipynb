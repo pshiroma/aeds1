{
 "cells": [
  {
   "cell_type": "markdown",
   "metadata": {},
   "source": [
    "# Programando em C++\n",
    "\n",
    "A linguagem C++ apresentada neste tutorial é ligeiramente diferente daquele encontrada em outros compiladores como Codeblocks, Visual Studio ou GCC.\n",
    "\n",
    "A principal mudança consiste que o C++ implementando no xeus-cling é um __interpretador__ e não um __compilador__.\n",
    "\n",
    "Em um __compilador__ o código-fonte é processado e um arquivo executável é criado como resultado.\n",
    "Ou seja, um programa é gerado a partir do código-fonte.\n",
    "\n",
    "Em um __interpretador__ o código-fonte é imediatamente processado pelo interpretador e sua execução ocorre dentro do interpretador, não sendo criado um arquivo executável.\n",
    "\n",
    "Outra mudança consiste em ambiente do tipo REPL (Read–eval–print loop) onde o usuário pode escrever uma ou mais linhas de comando, executá-las, verificar o resultado, e continuar escrevendo novas linhas de código.\n",
    "\n",
    "Ou seja, diferente de um compilador, onde é preciso escrever todo o código primeiro para depois testá-lo, em ambientes REPL é possível escrever incrementalmente, testando pequenos trechos de código, validando-os e só depois continuar escrevendo o restando do algoritmo."
   ]
  },
  {
   "cell_type": "markdown",
   "metadata": {},
   "source": [
    "Uma característica da linguagem C, presente em várias outras linguaguens, é a capacidade de expansão. \n",
    "Esta expansão da funcionalidade é feita através das bibliotecas.\n",
    "Uma grande vantagem de utilizar bibliotecas é que elas permitem qualquer empresa ou desenvolver escrever uma biblioteca e disponibilizá-las para outras pessoas.\n",
    "Por exemplo temos bibliotecas que implementam redes neurais artificiais, realizam processamento de imagens e vídeos, geoprocessamento, cálculo de estruturas e diversos outras áreas para as quais a linguagem C originalmente não possui qualquer suporte.\n",
    "\n",
    "Para importar uma biblioteca no seu código-fonte, é preciso:\n",
    "\n",
    "1) Realizar o download da biblioteca que se deseja utilizar e instalá-la em um diretório onde o C++ seja capaz de encontrar.\n",
    "A maioria das distribuições já possui várias bibliotecas previamente instaladas, não sendo necessário baixá-las.\n",
    "\n",
    "2) Incluir a biblioteca no seu código-fonte, através da diretiva:\n",
    "\n",
    "```\n",
    "#include <nome da biblioteca>\n",
    "```\n",
    "\n",
    "Vamos incluir a biblioteca _iostream_, necessária para utilizar funções como _cout_ e _cin_.\n",
    "\n",
    "Execute a célula abaixo para incluir a biblioteca iostream:"
   ]
  },
  {
   "cell_type": "code",
   "execution_count": null,
   "metadata": {},
   "outputs": [],
   "source": [
    "#include <iostream>\n",
    "using namespace std;"
   ]
  },
  {
   "cell_type": "code",
   "execution_count": null,
   "metadata": {},
   "outputs": [],
   "source": []
  }
 ],
 "metadata": {
  "kernelspec": {
   "display_name": "C++14",
   "language": "C++14",
   "name": "xcpp14"
  },
  "language_info": {
   "codemirror_mode": "text/x-c++src",
   "file_extension": ".cpp",
   "mimetype": "text/x-c++src",
   "name": "c++",
   "version": "14"
  }
 },
 "nbformat": 4,
 "nbformat_minor": 4
}
