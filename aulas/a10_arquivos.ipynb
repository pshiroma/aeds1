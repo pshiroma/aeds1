{
 "cells": [
  {
   "cell_type": "markdown",
   "metadata": {},
   "source": [
    "[**&#10094; Previous**](a09_break_continue.ipynb) | [**Home**](a00_aeds1.ipynb) | [**Next &#10095;**](a10_arquivos_parte2.ipynb)"
   ]
  },
  {
   "cell_type": "markdown",
   "metadata": {},
   "source": [
    "# Manipulação de arquivos"
   ]
  },
  {
   "cell_type": "markdown",
   "metadata": {},
   "source": [
    "## Inclusão das bibliotecas\n",
    "\n",
    "A manipulação de arquivos é feita utilizando a biblioteca `fstream`"
   ]
  },
  {
   "cell_type": "code",
   "execution_count": 1,
   "metadata": {},
   "outputs": [],
   "source": [
    "#include <iostream>\n",
    "#include <fstream>\n",
    "#include <string>\n",
    "using namespace std;"
   ]
  },
  {
   "cell_type": "markdown",
   "metadata": {},
   "source": [
    "## Declaração de variáveis\n",
    "\n",
    "Dentro da biblioteca `fstream` temos novos *tipo de dados* definidos, chamado `ofstream` e `ifstream`.\n",
    "Estes tipos de dados funcionam de forma similar com os comandos `cout` e `cin`, respectivamente.\n",
    "Porém, ao invés de escrever e ler do teclado, eles escrevem e lêem de um arquivo texto salvo no computador."
   ]
  },
  {
   "cell_type": "code",
   "execution_count": 7,
   "metadata": {},
   "outputs": [],
   "source": [
    "ofstream arquivo;"
   ]
  },
  {
   "cell_type": "markdown",
   "metadata": {},
   "source": [
    "## Corpo do algoritmo\n",
    "\n",
    "Vamos escrever um algoritmo que cria um arquivo chamado \"exemplo.txt\", escreve 2 linhas nele e depois fecha o arquivo.\n",
    "Qualquer conteúdo que existia anteriormente é apagado;"
   ]
  },
  {
   "cell_type": "code",
   "execution_count": 12,
   "metadata": {},
   "outputs": [],
   "source": [
    "arquivo.open(\"exemplo.txt\");\n",
    "arquivo << \"Primeira linha\" << endl;\n",
    "arquivo << \"Outra linha\" << endl;\n",
    "arquivo.close();"
   ]
  },
  {
   "cell_type": "markdown",
   "metadata": {},
   "source": [
    "## Lendo de um arquivo\n",
    "\n"
   ]
  },
  {
   "cell_type": "code",
   "execution_count": 2,
   "metadata": {},
   "outputs": [],
   "source": [
    "ifstream arquivo2;\n",
    "string line;"
   ]
  },
  {
   "cell_type": "code",
   "execution_count": 13,
   "metadata": {},
   "outputs": [
    {
     "name": "stdout",
     "output_type": "stream",
     "text": [
      "Primeira linha\n",
      "Outra linha\n"
     ]
    }
   ],
   "source": [
    "arquivo2.open(\"exemplo.txt\");\n",
    "while ( getline(arquivo2, line) )\n",
    "    cout << line << endl;\n",
    "arquivo2.close();"
   ]
  },
  {
   "cell_type": "markdown",
   "metadata": {},
   "source": [
    "[**&#10094; Previous**](a09_break_continue.ipynb) | [**Home**](a00_aeds1.ipynb) | [**Next &#10095;**](a10_arquivos_parte2.ipynb)"
   ]
  }
 ],
 "metadata": {
  "kernelspec": {
   "display_name": "C++14",
   "language": "C++14",
   "name": "xcpp14"
  },
  "language_info": {
   "codemirror_mode": "text/x-c++src",
   "file_extension": ".cpp",
   "mimetype": "text/x-c++src",
   "name": "c++",
   "version": "14"
  }
 },
 "nbformat": 4,
 "nbformat_minor": 4
}
