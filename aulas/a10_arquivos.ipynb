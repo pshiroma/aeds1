{
 "cells": [
  {
   "cell_type": "markdown",
   "metadata": {},
   "source": [
    "[**&#10094; Previous**](a09_break_continue.ipynb) | [**Home**](a00_aeds1.ipynb) | [**Next &#10095;**](a11_funcao.ipynb)"
   ]
  },
  {
   "cell_type": "markdown",
   "metadata": {},
   "source": [
    "# Manipulação de arquivos"
   ]
  },
  {
   "cell_type": "code",
   "execution_count": null,
   "metadata": {},
   "outputs": [],
   "source": [
    "#include <iostream>\n",
    "#include <fstream>\n",
    "using namespace std;"
   ]
  },
  {
   "cell_type": "markdown",
   "metadata": {},
   "source": [
    "[**&#10094; Previous**](a09_break_continue.ipynb) | [**Home**](a00_aeds1.ipynb) | [**Next &#10095;**](a11_funcao.ipynb)"
   ]
  }
 ],
 "metadata": {
  "kernelspec": {
   "display_name": "C++14",
   "language": "C++14",
   "name": "xcpp14"
  },
  "language_info": {
   "codemirror_mode": "text/x-c++src",
   "file_extension": ".cpp",
   "mimetype": "text/x-c++src",
   "name": "c++",
   "version": "14"
  }
 },
 "nbformat": 4,
 "nbformat_minor": 4
}
