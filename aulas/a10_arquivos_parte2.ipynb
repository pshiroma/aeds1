{
 "cells": [
  {
   "cell_type": "markdown",
   "metadata": {},
   "source": [
    "[**&#10094; Previous**](a10_arquivos.ipynb) | [**Home**](a00_aeds1.ipynb) | [**Next &#10095;**](a11_funcao.ipynb)"
   ]
  },
  {
   "cell_type": "code",
   "execution_count": 23,
   "metadata": {},
   "outputs": [],
   "source": [
    "#include <iostream>\n",
    "#include <fstream>\n",
    "#include <string>\n",
    "using namespace std;"
   ]
  },
  {
   "cell_type": "code",
   "execution_count": 3,
   "metadata": {},
   "outputs": [],
   "source": [
    "ofstream out;\n",
    "ifstream in;"
   ]
  },
  {
   "cell_type": "markdown",
   "metadata": {},
   "source": [
    "## Escrevendo dados numéricos em um arquivo\n",
    "\n",
    "A forma com que manipulamos arquivos na biblioteca fstream é identica ao qual manipulamos os comandos `cin` e `cout`.\n",
    "Ou seja, também é possível escrever no arquivo o conteúdo de uma variável ou uma constante, seja ela de qual tipo ela for:"
   ]
  },
  {
   "cell_type": "code",
   "execution_count": null,
   "metadata": {},
   "outputs": [],
   "source": [
    "float um_numero = 34;"
   ]
  },
  {
   "cell_type": "code",
   "execution_count": null,
   "metadata": {},
   "outputs": [],
   "source": [
    "out.open(\"arquivo2.txt\");\n",
    "out << um_numero << \" \" << um_numero*2 << \" \" << 23.4 << endl;\n",
    "out << sqrt(um_numero) << -7.5 << endl;\n",
    "out.close();"
   ]
  },
  {
   "cell_type": "markdown",
   "metadata": {},
   "source": [
    "## Lendo dados numéricos de um arquivo"
   ]
  },
  {
   "cell_type": "code",
   "execution_count": null,
   "metadata": {},
   "outputs": [],
   "source": [
    "float numero;"
   ]
  },
  {
   "cell_type": "code",
   "execution_count": null,
   "metadata": {},
   "outputs": [],
   "source": [
    "in.open(\"arquivo2.txt\");\n",
    "while (!in.eof())\n",
    "{\n",
    "    in >> numero;\n",
    "    cout << numero << endl;\n",
    "}\n",
    "in.close();"
   ]
  },
  {
   "cell_type": "markdown",
   "metadata": {},
   "source": [
    "Observe que o último número é impresso 2 vezes.\n",
    "Isto ocorre porque existe um \"endl\" entre o número -7.5 e o final do arquivo.\n",
    "Ou seja, este caracter é lido, mas é descartado, por não ser um número.\n",
    "\n",
    "O código abaixo verifica se o comando `in >> numero;` consegue converter com sucesso os dados lidos do arquivo."
   ]
  },
  {
   "cell_type": "code",
   "execution_count": null,
   "metadata": {},
   "outputs": [],
   "source": [
    "in.open(\"arquivo2.txt\");\n",
    "while (!in.eof())\n",
    "{\n",
    "    in >> numero;\n",
    "    if ( in.good() )\n",
    "        cout << numero << endl;\n",
    "}\n",
    "in.close();"
   ]
  },
  {
   "cell_type": "markdown",
   "metadata": {},
   "source": [
    "## Escrevendo e lendo diferentes tipos de dados\n",
    "\n",
    "Veremos como fazer quando desejamos escrever em um mesmo arquivo tipos de dados diferentes.\n",
    "Suponha que desejemos armazenar o nome e as notas dos alunos.\n",
    "O formato do arquivo será:\n",
    "\n",
    "> Aluno 1 <br>\n",
    "> nota1 nota2 <br>\n",
    "> Aluno 2 <br>\n",
    "> nota1 nota2 <br>\n",
    "> etc"
   ]
  },
  {
   "cell_type": "code",
   "execution_count": null,
   "metadata": {},
   "outputs": [],
   "source": [
    "out.open(\"arquivo3.txt\");\n",
    "out << \"Aline\" << endl << 8 << \" \" << 7.3 << endl;\n",
    "out << \"Joao Pedro\" << endl << 3.5 << \" \" << 5.6 << endl;\n",
    "out << \"Marcos Vinicius\" << endl << 8.9 << \" \" << 5.3 << endl;\n",
    "out << \"Paula\" << endl <<  6 << \" \" << 5.5 << endl;\n",
    "out.close();"
   ]
  },
  {
   "cell_type": "markdown",
   "metadata": {},
   "source": [
    "Este código irá criar um arquivo chamado \"arquivo3.txt\", contendo o seguinte texto:\n",
    "\n",
    "> Aline <br>\n",
    "> 8 7.3 <br>\n",
    "> Joao Pedro <br>\n",
    "> 3.5 5.6 <br>\n",
    "> Marcos Vinicius <br>\n",
    "> 8.9 5.3 <br>\n",
    "> Paula <br>\n",
    "> 6 5.5 <br>\n"
   ]
  },
  {
   "cell_type": "markdown",
   "metadata": {},
   "source": [
    "Vamos agora ler os dados escritos no arquivo:"
   ]
  },
  {
   "cell_type": "code",
   "execution_count": 4,
   "metadata": {},
   "outputs": [],
   "source": [
    "string nome;\n",
    "float nota1, nota2;\n",
    "char lixo;"
   ]
  },
  {
   "cell_type": "code",
   "execution_count": 69,
   "metadata": {},
   "outputs": [],
   "source": [
    "in.open(\"arquivo3.txt\");\n",
    "if (!in.is_open())\n",
    "    cout << \"Erro ao abrir o arquivo!\";"
   ]
  },
  {
   "cell_type": "code",
   "execution_count": 70,
   "metadata": {},
   "outputs": [
    {
     "name": "stdout",
     "output_type": "stream",
     "text": [
      "Aline tirou as notas 8 e 7.3\n",
      "Joao Pedro tirou as notas 3.5 e 5.6\n",
      "Marcos Vinicius tirou as notas 8.9 e 5.3\n",
      "Paula tirou as notas 6 e 5.5\n"
     ]
    }
   ],
   "source": [
    "while ( !in.eof() && !in.fail() )\n",
    "{\n",
    "    getline(in,nome); // le a linha contendo o nome\n",
    "    in >> nota1  >> nota2; // le as 2 notas\n",
    "    cout << nome << \" tirou as notas \" << nota1 << \" e \" << nota2 << endl; // imprime os dados lidos\n",
    "    in.get(lixo); // le o \"endl\"\n",
    "    in.peek(); // verifica o proximo caracter, se for o final do arquivo, o flag eof é ativado (true)\n",
    "}"
   ]
  },
  {
   "cell_type": "code",
   "execution_count": 68,
   "metadata": {},
   "outputs": [],
   "source": [
    "in.close();"
   ]
  },
  {
   "cell_type": "markdown",
   "metadata": {},
   "source": [
    "[**&#10094; Previous**](a10_arquivos.ipynb) | [**Home**](a00_aeds1.ipynb) | [**Next &#10095;**](a11_funcao.ipynb)"
   ]
  }
 ],
 "metadata": {
  "kernelspec": {
   "display_name": "C++14",
   "language": "C++14",
   "name": "xcpp14"
  },
  "language_info": {
   "codemirror_mode": "text/x-c++src",
   "file_extension": ".cpp",
   "mimetype": "text/x-c++src",
   "name": "c++",
   "version": "14"
  }
 },
 "nbformat": 4,
 "nbformat_minor": 4
}
